{
 "cells": [
  {
   "metadata": {},
   "cell_type": "markdown",
   "source": [
    "# 1. Introduction\n",
    "\n",
    "This is a dataset for the credit card fraud transaction detection. It contains synthetic data for the [Capital One](https://www.capitalone.com/) Data Scientist Recruiting process.\n",
    "\n",
    "## 1.1. Objective\n",
    "- It's a binary classification problem where we need to predict whether a transaction is a fraud or not.\n",
    "- Our business sense making purpose should be to minimize the total loss dollar amount due to fraud with the most parsimonious total number of transactions flagged as suspicious. In this way, the non-fraud real business transactions will be exposed to the minimal level of impact possible. In another word, we'd like to achieve a balance between precision and recall, so F1-score will be used as the leading metric.\n",
    "\n",
    "## 1.2. Data Description\n",
    "- The dataset is saved in the JSON format in a .txt file and will render a dataframe with a fair dimension of 786,363 x 29 after loading.\n",
    "- The label (isFraud) is hugely imbalanced with less than 2% of fraudulent transactions. We'd use both undersample the non-fraud transactions and oversample the fraud transactions to deal with the imbalance issue and compare their performances. \n",
    "- "
   ],
   "id": "74b6c1b3cecf7319"
  },
  {
   "metadata": {},
   "cell_type": "markdown",
   "source": [
    "# 2. Module Management, Data Import\n",
    "\n",
    "Since the dataset is in the JSON format, we will use the pandas.read_json() method to load the data while preserving the datatime and string/categorical columns to their belonging datatypes. Given the synthetic nature of the dataset, any duplicate rows will be dropped. We will also check the data types, missing values, and the distribution of the numerical and the cardinality of the categorical variables."
   ],
   "id": "56551d2c1a256ba2"
  },
  {
   "metadata": {
    "ExecuteTime": {
     "end_time": "2024-08-04T06:53:04.741841Z",
     "start_time": "2024-08-04T06:53:04.718842Z"
    }
   },
   "cell_type": "code",
   "source": [
    "# data manipulation\n",
    "import pandas as pd\n",
    "import numpy as np\n",
    "import scipy as sp\n",
    "\n",
    "# syntax encoding\n",
    "import json\n",
    "\n",
    "# modeling\n",
    "from sklearn import datasets\n",
    "from sklearn import linear_model\n",
    "from sklearn import metrics\n",
    "from sklearn import model_selection\n",
    "from sklearn import pipeline\n",
    "from sklearn import preprocessing\n",
    "from sklearn.experimental import enable_iterative_imputer\n",
    "from sklearn.impute import IterativeImputer, KNNImputer, SimpleImputer\n",
    "from imblearn.under_sampling import RandomUnderSampler # imbalance-learn is a Python package offering a number of re-sampling techniques commonly used in datasets showing strong between-class imbalance.\n",
    "\n",
    "# computation\n",
    "import joblib  # a tool to provide lightweight pipelining in Python. 1. easy simple parallel computing, 2. transparent disk-caching of functions and lazy re-evaluation\n",
    "import tqdm   # a fast, extensible progress bar for loops and CLI\n",
    "import copy   # shallow and deep copy operations\n",
    "\n",
    "# visualization\n",
    "import matplotlib\n",
    "import matplotlib.pyplot as plt\n",
    "import seaborn as sns\n",
    "import plotly.express as px\n",
    "import plotly.graph_objs as go\n",
    "import plotly.figure_factory as ff\n",
    "\n",
    "# Aesthetics\n",
    "sns.set_style(\"darkgrid\")\n",
    "matplotlib.rcParams['figure.figsize'] = (12, 6)\n",
    "matplotlib.rcParams['font.size'] = 12\n",
    "pd.options.display.max_columns = 25\n",
    "pd.options.display.max_rows = 100"
   ],
   "id": "1053ce61c6bb56ae",
   "outputs": [],
   "execution_count": 199
  },
  {
   "metadata": {
    "ExecuteTime": {
     "end_time": "2024-08-04T03:21:22.447891Z",
     "start_time": "2024-08-04T03:20:54.739900Z"
    }
   },
   "cell_type": "code",
   "source": [
    "file_path = 'transactions/transactions.txt'\n",
    "df = pd.read_json(file_path, lines=True, convert_dates=['accountOpenDate', 'dateOfLastAddressChange', 'transactionDateTime'],\n",
    "                  dtype={'accountNumber': str, 'customerId': str, 'creditLimit': float, 'availableMoney': float, 'transactionAmount': float, 'currentBalance': float\n",
    "                         , 'cardCVV': str, 'enteredCVV': str, 'cardLast4Digits': str, 'transactionType': str, 'echoBuffer': str, 'currentExpDate': str, 'accountOpenDate': str\n",
    "                         , 'dateOfLastAddressChange': str, 'cardPresent': bool, 'expirationDateKeyInMatch': bool, 'isFraud': bool, 'echoBuffer': str, 'merchantCity': str\n",
    "                         , 'merchantState': str, 'merchantZip': str, 'posOnPremises': str, 'recurringAuthInd': str, 'merchantCategoryCode': str, 'transactionDateTime': str\n",
    "                         , 'merchantName': str, 'acqCountry': str, 'merchantCountryCode': str, 'posConditionCode': str, 'posEntryMode': str, 'transactionType': str, 'cardPresent': bool\n",
    "                         , 'isFraud': bool})\n",
    "# drop the duplicate rows if any since the dataset is synthetic\n",
    "df.drop_duplicates(inplace=True)\n",
    "df.shape"
   ],
   "id": "b4c9a880c16bd5aa",
   "outputs": [
    {
     "data": {
      "text/plain": [
       "(786363, 29)"
      ]
     },
     "execution_count": 63,
     "metadata": {},
     "output_type": "execute_result"
    }
   ],
   "execution_count": 63
  },
  {
   "metadata": {
    "ExecuteTime": {
     "end_time": "2024-08-04T03:21:22.479892Z",
     "start_time": "2024-08-04T03:21:22.449895Z"
    }
   },
   "cell_type": "code",
   "source": "df.head()",
   "id": "fd444afa3c764216",
   "outputs": [
    {
     "data": {
      "text/plain": [
       "  accountNumber customerId  creditLimit  availableMoney  transactionDateTime  \\\n",
       "0     737265056  737265056       5000.0          5000.0  2016-08-13 14:27:32   \n",
       "1     737265056  737265056       5000.0          5000.0  2016-10-11 05:05:54   \n",
       "2     737265056  737265056       5000.0          5000.0  2016-11-08 09:18:39   \n",
       "3     737265056  737265056       5000.0          5000.0  2016-12-10 02:14:50   \n",
       "4     830329091  830329091       5000.0          5000.0  2016-03-24 21:04:46   \n",
       "\n",
       "   transactionAmount         merchantName acqCountry merchantCountryCode  \\\n",
       "0              98.55                 Uber         US                  US   \n",
       "1              74.51          AMC #191138         US                  US   \n",
       "2               7.47           Play Store         US                  US   \n",
       "3               7.47           Play Store         US                  US   \n",
       "4              71.18  Tim Hortons #947751         US                  US   \n",
       "\n",
       "  posEntryMode posConditionCode merchantCategoryCode currentExpDate  \\\n",
       "0           02               01            rideshare        06/2023   \n",
       "1           09               01        entertainment        02/2024   \n",
       "2           09               01           mobileapps        08/2025   \n",
       "3           09               01           mobileapps        08/2025   \n",
       "4           02               01             fastfood        10/2029   \n",
       "\n",
       "  accountOpenDate dateOfLastAddressChange cardCVV enteredCVV cardLast4Digits  \\\n",
       "0      2015-03-14              2015-03-14     414        414            1803   \n",
       "1      2015-03-14              2015-03-14     486        486             767   \n",
       "2      2015-03-14              2015-03-14     486        486             767   \n",
       "3      2015-03-14              2015-03-14     486        486             767   \n",
       "4      2015-08-06              2015-08-06     885        885            3143   \n",
       "\n",
       "  transactionType echoBuffer  currentBalance merchantCity merchantState  \\\n",
       "0        PURCHASE                        0.0                              \n",
       "1        PURCHASE                        0.0                              \n",
       "2        PURCHASE                        0.0                              \n",
       "3        PURCHASE                        0.0                              \n",
       "4        PURCHASE                        0.0                              \n",
       "\n",
       "  merchantZip  cardPresent posOnPremises recurringAuthInd  \\\n",
       "0                    False                                  \n",
       "1                     True                                  \n",
       "2                    False                                  \n",
       "3                    False                                  \n",
       "4                     True                                  \n",
       "\n",
       "   expirationDateKeyInMatch  isFraud  \n",
       "0                     False    False  \n",
       "1                     False    False  \n",
       "2                     False    False  \n",
       "3                     False    False  \n",
       "4                     False    False  "
      ],
      "text/html": [
       "<div>\n",
       "<style scoped>\n",
       "    .dataframe tbody tr th:only-of-type {\n",
       "        vertical-align: middle;\n",
       "    }\n",
       "\n",
       "    .dataframe tbody tr th {\n",
       "        vertical-align: top;\n",
       "    }\n",
       "\n",
       "    .dataframe thead th {\n",
       "        text-align: right;\n",
       "    }\n",
       "</style>\n",
       "<table border=\"1\" class=\"dataframe\">\n",
       "  <thead>\n",
       "    <tr style=\"text-align: right;\">\n",
       "      <th></th>\n",
       "      <th>accountNumber</th>\n",
       "      <th>customerId</th>\n",
       "      <th>creditLimit</th>\n",
       "      <th>availableMoney</th>\n",
       "      <th>transactionDateTime</th>\n",
       "      <th>transactionAmount</th>\n",
       "      <th>merchantName</th>\n",
       "      <th>acqCountry</th>\n",
       "      <th>merchantCountryCode</th>\n",
       "      <th>posEntryMode</th>\n",
       "      <th>posConditionCode</th>\n",
       "      <th>merchantCategoryCode</th>\n",
       "      <th>currentExpDate</th>\n",
       "      <th>accountOpenDate</th>\n",
       "      <th>dateOfLastAddressChange</th>\n",
       "      <th>cardCVV</th>\n",
       "      <th>enteredCVV</th>\n",
       "      <th>cardLast4Digits</th>\n",
       "      <th>transactionType</th>\n",
       "      <th>echoBuffer</th>\n",
       "      <th>currentBalance</th>\n",
       "      <th>merchantCity</th>\n",
       "      <th>merchantState</th>\n",
       "      <th>merchantZip</th>\n",
       "      <th>cardPresent</th>\n",
       "      <th>posOnPremises</th>\n",
       "      <th>recurringAuthInd</th>\n",
       "      <th>expirationDateKeyInMatch</th>\n",
       "      <th>isFraud</th>\n",
       "    </tr>\n",
       "  </thead>\n",
       "  <tbody>\n",
       "    <tr>\n",
       "      <th>0</th>\n",
       "      <td>737265056</td>\n",
       "      <td>737265056</td>\n",
       "      <td>5000.0</td>\n",
       "      <td>5000.0</td>\n",
       "      <td>2016-08-13 14:27:32</td>\n",
       "      <td>98.55</td>\n",
       "      <td>Uber</td>\n",
       "      <td>US</td>\n",
       "      <td>US</td>\n",
       "      <td>02</td>\n",
       "      <td>01</td>\n",
       "      <td>rideshare</td>\n",
       "      <td>06/2023</td>\n",
       "      <td>2015-03-14</td>\n",
       "      <td>2015-03-14</td>\n",
       "      <td>414</td>\n",
       "      <td>414</td>\n",
       "      <td>1803</td>\n",
       "      <td>PURCHASE</td>\n",
       "      <td></td>\n",
       "      <td>0.0</td>\n",
       "      <td></td>\n",
       "      <td></td>\n",
       "      <td></td>\n",
       "      <td>False</td>\n",
       "      <td></td>\n",
       "      <td></td>\n",
       "      <td>False</td>\n",
       "      <td>False</td>\n",
       "    </tr>\n",
       "    <tr>\n",
       "      <th>1</th>\n",
       "      <td>737265056</td>\n",
       "      <td>737265056</td>\n",
       "      <td>5000.0</td>\n",
       "      <td>5000.0</td>\n",
       "      <td>2016-10-11 05:05:54</td>\n",
       "      <td>74.51</td>\n",
       "      <td>AMC #191138</td>\n",
       "      <td>US</td>\n",
       "      <td>US</td>\n",
       "      <td>09</td>\n",
       "      <td>01</td>\n",
       "      <td>entertainment</td>\n",
       "      <td>02/2024</td>\n",
       "      <td>2015-03-14</td>\n",
       "      <td>2015-03-14</td>\n",
       "      <td>486</td>\n",
       "      <td>486</td>\n",
       "      <td>767</td>\n",
       "      <td>PURCHASE</td>\n",
       "      <td></td>\n",
       "      <td>0.0</td>\n",
       "      <td></td>\n",
       "      <td></td>\n",
       "      <td></td>\n",
       "      <td>True</td>\n",
       "      <td></td>\n",
       "      <td></td>\n",
       "      <td>False</td>\n",
       "      <td>False</td>\n",
       "    </tr>\n",
       "    <tr>\n",
       "      <th>2</th>\n",
       "      <td>737265056</td>\n",
       "      <td>737265056</td>\n",
       "      <td>5000.0</td>\n",
       "      <td>5000.0</td>\n",
       "      <td>2016-11-08 09:18:39</td>\n",
       "      <td>7.47</td>\n",
       "      <td>Play Store</td>\n",
       "      <td>US</td>\n",
       "      <td>US</td>\n",
       "      <td>09</td>\n",
       "      <td>01</td>\n",
       "      <td>mobileapps</td>\n",
       "      <td>08/2025</td>\n",
       "      <td>2015-03-14</td>\n",
       "      <td>2015-03-14</td>\n",
       "      <td>486</td>\n",
       "      <td>486</td>\n",
       "      <td>767</td>\n",
       "      <td>PURCHASE</td>\n",
       "      <td></td>\n",
       "      <td>0.0</td>\n",
       "      <td></td>\n",
       "      <td></td>\n",
       "      <td></td>\n",
       "      <td>False</td>\n",
       "      <td></td>\n",
       "      <td></td>\n",
       "      <td>False</td>\n",
       "      <td>False</td>\n",
       "    </tr>\n",
       "    <tr>\n",
       "      <th>3</th>\n",
       "      <td>737265056</td>\n",
       "      <td>737265056</td>\n",
       "      <td>5000.0</td>\n",
       "      <td>5000.0</td>\n",
       "      <td>2016-12-10 02:14:50</td>\n",
       "      <td>7.47</td>\n",
       "      <td>Play Store</td>\n",
       "      <td>US</td>\n",
       "      <td>US</td>\n",
       "      <td>09</td>\n",
       "      <td>01</td>\n",
       "      <td>mobileapps</td>\n",
       "      <td>08/2025</td>\n",
       "      <td>2015-03-14</td>\n",
       "      <td>2015-03-14</td>\n",
       "      <td>486</td>\n",
       "      <td>486</td>\n",
       "      <td>767</td>\n",
       "      <td>PURCHASE</td>\n",
       "      <td></td>\n",
       "      <td>0.0</td>\n",
       "      <td></td>\n",
       "      <td></td>\n",
       "      <td></td>\n",
       "      <td>False</td>\n",
       "      <td></td>\n",
       "      <td></td>\n",
       "      <td>False</td>\n",
       "      <td>False</td>\n",
       "    </tr>\n",
       "    <tr>\n",
       "      <th>4</th>\n",
       "      <td>830329091</td>\n",
       "      <td>830329091</td>\n",
       "      <td>5000.0</td>\n",
       "      <td>5000.0</td>\n",
       "      <td>2016-03-24 21:04:46</td>\n",
       "      <td>71.18</td>\n",
       "      <td>Tim Hortons #947751</td>\n",
       "      <td>US</td>\n",
       "      <td>US</td>\n",
       "      <td>02</td>\n",
       "      <td>01</td>\n",
       "      <td>fastfood</td>\n",
       "      <td>10/2029</td>\n",
       "      <td>2015-08-06</td>\n",
       "      <td>2015-08-06</td>\n",
       "      <td>885</td>\n",
       "      <td>885</td>\n",
       "      <td>3143</td>\n",
       "      <td>PURCHASE</td>\n",
       "      <td></td>\n",
       "      <td>0.0</td>\n",
       "      <td></td>\n",
       "      <td></td>\n",
       "      <td></td>\n",
       "      <td>True</td>\n",
       "      <td></td>\n",
       "      <td></td>\n",
       "      <td>False</td>\n",
       "      <td>False</td>\n",
       "    </tr>\n",
       "  </tbody>\n",
       "</table>\n",
       "</div>"
      ]
     },
     "execution_count": 64,
     "metadata": {},
     "output_type": "execute_result"
    }
   ],
   "execution_count": 64
  },
  {
   "metadata": {},
   "cell_type": "markdown",
   "source": "# 3 Data Preprocessing",
   "id": "cc15394bd9100b59"
  },
  {
   "metadata": {},
   "cell_type": "markdown",
   "source": [
    "## 3.1 Label overview\n",
    "Only about 1.58% of the transactions are fraudulent. \n",
    "- Two classes are highly imbalanced.\n",
    "- No missing values in the label column.\n",
    "- Convert the boolean to 0 and 1 for the convenience of modeling."
   ],
   "id": "b39c20939d7d326e"
  },
  {
   "metadata": {
    "ExecuteTime": {
     "end_time": "2024-08-04T03:21:22.495895Z",
     "start_time": "2024-08-04T03:21:22.480897Z"
    }
   },
   "cell_type": "code",
   "source": "df.isFraud.value_counts() / df.shape[0]",
   "id": "a7594fd20d055902",
   "outputs": [
    {
     "data": {
      "text/plain": [
       "isFraud\n",
       "False    0.98421\n",
       "True     0.01579\n",
       "Name: count, dtype: float64"
      ]
     },
     "execution_count": 65,
     "metadata": {},
     "output_type": "execute_result"
    }
   ],
   "execution_count": 65
  },
  {
   "metadata": {
    "ExecuteTime": {
     "end_time": "2024-08-04T03:21:22.511895Z",
     "start_time": "2024-08-04T03:21:22.498899Z"
    }
   },
   "cell_type": "code",
   "source": "df['isFraud'].isnull().sum()",
   "id": "179819a47767d74",
   "outputs": [
    {
     "data": {
      "text/plain": [
       "0"
      ]
     },
     "execution_count": 66,
     "metadata": {},
     "output_type": "execute_result"
    }
   ],
   "execution_count": 66
  },
  {
   "metadata": {
    "ExecuteTime": {
     "end_time": "2024-08-04T03:21:23.297893Z",
     "start_time": "2024-08-04T03:21:22.513895Z"
    }
   },
   "cell_type": "code",
   "source": [
    "y = df['isFraud'].astype(int)\n",
    "x = df.drop(labels='isFraud', axis=1)"
   ],
   "id": "1476fa68b6aa292",
   "outputs": [],
   "execution_count": 67
  },
  {
   "metadata": {},
   "cell_type": "markdown",
   "source": [
    "## 3.2 Numerical variables overview\n",
    "The as-is dataset has 4 numerical variables. The post-preprocessed dataset will also have 4 numerical variables: ['creditLimit', 'availableMoney', 'transactionAmount', 'currentBalance'].\n",
    "- None of the numerical variables have to worry about missing values.\n",
    "- From the statistics, we can see that the as is columns have wide ranges. Consider both outlier imputation and scaling on non-tree based approaches.\n",
    "- The histogram shows that they are all considerably right-skewed. We may consider a Box-Cox transformation."
   ],
   "id": "d02867c5add71935"
  },
  {
   "metadata": {
    "ExecuteTime": {
     "end_time": "2024-08-04T03:21:23.327903Z",
     "start_time": "2024-08-04T03:21:23.300903Z"
    }
   },
   "cell_type": "code",
   "source": [
    "x_num = x.select_dtypes(include=[np.number])\n",
    "x_num.isnull().sum()"
   ],
   "id": "a6823fd0212ce713",
   "outputs": [
    {
     "data": {
      "text/plain": [
       "creditLimit          0\n",
       "availableMoney       0\n",
       "transactionAmount    0\n",
       "currentBalance       0\n",
       "dtype: int64"
      ]
     },
     "execution_count": 68,
     "metadata": {},
     "output_type": "execute_result"
    }
   ],
   "execution_count": 68
  },
  {
   "metadata": {
    "ExecuteTime": {
     "end_time": "2024-08-04T03:21:23.469892Z",
     "start_time": "2024-08-04T03:21:23.329911Z"
    }
   },
   "cell_type": "code",
   "source": "x_num.describe()",
   "id": "4ad6e5aa9d8c0ad3",
   "outputs": [
    {
     "data": {
      "text/plain": [
       "         creditLimit  availableMoney  transactionAmount  currentBalance\n",
       "count  786363.000000   786363.000000      786363.000000   786363.000000\n",
       "mean    10759.464459     6250.725369         136.985791     4508.739089\n",
       "std     11636.174890     8880.783989         147.725569     6457.442068\n",
       "min       250.000000    -1005.630000           0.000000        0.000000\n",
       "25%      5000.000000     1077.420000          33.650000      689.910000\n",
       "50%      7500.000000     3184.860000          87.900000     2451.760000\n",
       "75%     15000.000000     7500.000000         191.480000     5291.095000\n",
       "max     50000.000000    50000.000000        2011.540000    47498.810000"
      ],
      "text/html": [
       "<div>\n",
       "<style scoped>\n",
       "    .dataframe tbody tr th:only-of-type {\n",
       "        vertical-align: middle;\n",
       "    }\n",
       "\n",
       "    .dataframe tbody tr th {\n",
       "        vertical-align: top;\n",
       "    }\n",
       "\n",
       "    .dataframe thead th {\n",
       "        text-align: right;\n",
       "    }\n",
       "</style>\n",
       "<table border=\"1\" class=\"dataframe\">\n",
       "  <thead>\n",
       "    <tr style=\"text-align: right;\">\n",
       "      <th></th>\n",
       "      <th>creditLimit</th>\n",
       "      <th>availableMoney</th>\n",
       "      <th>transactionAmount</th>\n",
       "      <th>currentBalance</th>\n",
       "    </tr>\n",
       "  </thead>\n",
       "  <tbody>\n",
       "    <tr>\n",
       "      <th>count</th>\n",
       "      <td>786363.000000</td>\n",
       "      <td>786363.000000</td>\n",
       "      <td>786363.000000</td>\n",
       "      <td>786363.000000</td>\n",
       "    </tr>\n",
       "    <tr>\n",
       "      <th>mean</th>\n",
       "      <td>10759.464459</td>\n",
       "      <td>6250.725369</td>\n",
       "      <td>136.985791</td>\n",
       "      <td>4508.739089</td>\n",
       "    </tr>\n",
       "    <tr>\n",
       "      <th>std</th>\n",
       "      <td>11636.174890</td>\n",
       "      <td>8880.783989</td>\n",
       "      <td>147.725569</td>\n",
       "      <td>6457.442068</td>\n",
       "    </tr>\n",
       "    <tr>\n",
       "      <th>min</th>\n",
       "      <td>250.000000</td>\n",
       "      <td>-1005.630000</td>\n",
       "      <td>0.000000</td>\n",
       "      <td>0.000000</td>\n",
       "    </tr>\n",
       "    <tr>\n",
       "      <th>25%</th>\n",
       "      <td>5000.000000</td>\n",
       "      <td>1077.420000</td>\n",
       "      <td>33.650000</td>\n",
       "      <td>689.910000</td>\n",
       "    </tr>\n",
       "    <tr>\n",
       "      <th>50%</th>\n",
       "      <td>7500.000000</td>\n",
       "      <td>3184.860000</td>\n",
       "      <td>87.900000</td>\n",
       "      <td>2451.760000</td>\n",
       "    </tr>\n",
       "    <tr>\n",
       "      <th>75%</th>\n",
       "      <td>15000.000000</td>\n",
       "      <td>7500.000000</td>\n",
       "      <td>191.480000</td>\n",
       "      <td>5291.095000</td>\n",
       "    </tr>\n",
       "    <tr>\n",
       "      <th>max</th>\n",
       "      <td>50000.000000</td>\n",
       "      <td>50000.000000</td>\n",
       "      <td>2011.540000</td>\n",
       "      <td>47498.810000</td>\n",
       "    </tr>\n",
       "  </tbody>\n",
       "</table>\n",
       "</div>"
      ]
     },
     "execution_count": 69,
     "metadata": {},
     "output_type": "execute_result"
    }
   ],
   "execution_count": 69
  },
  {
   "metadata": {
    "ExecuteTime": {
     "end_time": "2024-08-04T03:21:25.243893Z",
     "start_time": "2024-08-04T03:21:23.471906Z"
    }
   },
   "cell_type": "code",
   "source": "x_num.hist(bins=100,  color='c')",
   "id": "5f4e62669b25876a",
   "outputs": [
    {
     "data": {
      "text/plain": [
       "array([[<Axes: title={'center': 'creditLimit'}>,\n",
       "        <Axes: title={'center': 'availableMoney'}>],\n",
       "       [<Axes: title={'center': 'transactionAmount'}>,\n",
       "        <Axes: title={'center': 'currentBalance'}>]], dtype=object)"
      ]
     },
     "execution_count": 70,
     "metadata": {},
     "output_type": "execute_result"
    },
    {
     "data": {
      "text/plain": [
       "<Figure size 1200x600 with 4 Axes>"
      ],
      "image/png": "[encoded data removed]"
     },
     "metadata": {},
     "output_type": "display_data"
    }
   ],
   "execution_count": 70
  },
  {
   "metadata": {},
   "cell_type": "markdown",
   "source": [
    "\n",
    "## 3.3 Categorical variables overview\n",
    "\n",
    "The as-is dataset has 24 non-numerical variables, 4 datetime, 20 categorical/boolean. \n",
    "\n",
    "- There are empty strings in the dataset whom should be regarded as missing values, and we used the regular expression to convert the empty strings to np.nan. As a result, we found 6 columns, ['echoBuffer', 'merchantCity', 'merchantState', 'merchantZip', 'posOnPremises', 'recurringAuthInd'], are nothing but np.nans, mostly like they do it intentionally to anonymize some geographic and POS tags.\n",
    "- The columns ['accountOpenDate', 'dateOfLastAddressChange', 'transactionDateTime'] are supposed to be datetimes. Cconvert them to datetime objects.\n",
    "- Convert the boolean columns ['cardPresent', 'expirationDateKeyInMatch] to 0s and 1s."
   ],
   "id": "bb7fa16b2b20e60"
  },
  {
   "metadata": {
    "ExecuteTime": {
     "end_time": "2024-08-04T03:21:25.529913Z",
     "start_time": "2024-08-04T03:21:25.245898Z"
    }
   },
   "cell_type": "code",
   "source": [
    "# deselect numerical columns and drop the label column\n",
    "x_cat = x.select_dtypes(exclude='number')\n",
    "x_cat.head()"
   ],
   "id": "692552d91f50c283",
   "outputs": [
    {
     "data": {
      "text/plain": [
       "  accountNumber customerId  transactionDateTime         merchantName  \\\n",
       "0     737265056  737265056  2016-08-13 14:27:32                 Uber   \n",
       "1     737265056  737265056  2016-10-11 05:05:54          AMC #191138   \n",
       "2     737265056  737265056  2016-11-08 09:18:39           Play Store   \n",
       "3     737265056  737265056  2016-12-10 02:14:50           Play Store   \n",
       "4     830329091  830329091  2016-03-24 21:04:46  Tim Hortons #947751   \n",
       "\n",
       "  acqCountry merchantCountryCode posEntryMode posConditionCode  \\\n",
       "0         US                  US           02               01   \n",
       "1         US                  US           09               01   \n",
       "2         US                  US           09               01   \n",
       "3         US                  US           09               01   \n",
       "4         US                  US           02               01   \n",
       "\n",
       "  merchantCategoryCode currentExpDate accountOpenDate dateOfLastAddressChange  \\\n",
       "0            rideshare        06/2023      2015-03-14              2015-03-14   \n",
       "1        entertainment        02/2024      2015-03-14              2015-03-14   \n",
       "2           mobileapps        08/2025      2015-03-14              2015-03-14   \n",
       "3           mobileapps        08/2025      2015-03-14              2015-03-14   \n",
       "4             fastfood        10/2029      2015-08-06              2015-08-06   \n",
       "\n",
       "  cardCVV enteredCVV cardLast4Digits transactionType echoBuffer merchantCity  \\\n",
       "0     414        414            1803        PURCHASE                           \n",
       "1     486        486             767        PURCHASE                           \n",
       "2     486        486             767        PURCHASE                           \n",
       "3     486        486             767        PURCHASE                           \n",
       "4     885        885            3143        PURCHASE                           \n",
       "\n",
       "  merchantState merchantZip  cardPresent posOnPremises recurringAuthInd  \\\n",
       "0                                  False                                  \n",
       "1                                   True                                  \n",
       "2                                  False                                  \n",
       "3                                  False                                  \n",
       "4                                   True                                  \n",
       "\n",
       "   expirationDateKeyInMatch  \n",
       "0                     False  \n",
       "1                     False  \n",
       "2                     False  \n",
       "3                     False  \n",
       "4                     False  "
      ],
      "text/html": [
       "<div>\n",
       "<style scoped>\n",
       "    .dataframe tbody tr th:only-of-type {\n",
       "        vertical-align: middle;\n",
       "    }\n",
       "\n",
       "    .dataframe tbody tr th {\n",
       "        vertical-align: top;\n",
       "    }\n",
       "\n",
       "    .dataframe thead th {\n",
       "        text-align: right;\n",
       "    }\n",
       "</style>\n",
       "<table border=\"1\" class=\"dataframe\">\n",
       "  <thead>\n",
       "    <tr style=\"text-align: right;\">\n",
       "      <th></th>\n",
       "      <th>accountNumber</th>\n",
       "      <th>customerId</th>\n",
       "      <th>transactionDateTime</th>\n",
       "      <th>merchantName</th>\n",
       "      <th>acqCountry</th>\n",
       "      <th>merchantCountryCode</th>\n",
       "      <th>posEntryMode</th>\n",
       "      <th>posConditionCode</th>\n",
       "      <th>merchantCategoryCode</th>\n",
       "      <th>currentExpDate</th>\n",
       "      <th>accountOpenDate</th>\n",
       "      <th>dateOfLastAddressChange</th>\n",
       "      <th>cardCVV</th>\n",
       "      <th>enteredCVV</th>\n",
       "      <th>cardLast4Digits</th>\n",
       "      <th>transactionType</th>\n",
       "      <th>echoBuffer</th>\n",
       "      <th>merchantCity</th>\n",
       "      <th>merchantState</th>\n",
       "      <th>merchantZip</th>\n",
       "      <th>cardPresent</th>\n",
       "      <th>posOnPremises</th>\n",
       "      <th>recurringAuthInd</th>\n",
       "      <th>expirationDateKeyInMatch</th>\n",
       "    </tr>\n",
       "  </thead>\n",
       "  <tbody>\n",
       "    <tr>\n",
       "      <th>0</th>\n",
       "      <td>737265056</td>\n",
       "      <td>737265056</td>\n",
       "      <td>2016-08-13 14:27:32</td>\n",
       "      <td>Uber</td>\n",
       "      <td>US</td>\n",
       "      <td>US</td>\n",
       "      <td>02</td>\n",
       "      <td>01</td>\n",
       "      <td>rideshare</td>\n",
       "      <td>06/2023</td>\n",
       "      <td>2015-03-14</td>\n",
       "      <td>2015-03-14</td>\n",
       "      <td>414</td>\n",
       "      <td>414</td>\n",
       "      <td>1803</td>\n",
       "      <td>PURCHASE</td>\n",
       "      <td></td>\n",
       "      <td></td>\n",
       "      <td></td>\n",
       "      <td></td>\n",
       "      <td>False</td>\n",
       "      <td></td>\n",
       "      <td></td>\n",
       "      <td>False</td>\n",
       "    </tr>\n",
       "    <tr>\n",
       "      <th>1</th>\n",
       "      <td>737265056</td>\n",
       "      <td>737265056</td>\n",
       "      <td>2016-10-11 05:05:54</td>\n",
       "      <td>AMC #191138</td>\n",
       "      <td>US</td>\n",
       "      <td>US</td>\n",
       "      <td>09</td>\n",
       "      <td>01</td>\n",
       "      <td>entertainment</td>\n",
       "      <td>02/2024</td>\n",
       "      <td>2015-03-14</td>\n",
       "      <td>2015-03-14</td>\n",
       "      <td>486</td>\n",
       "      <td>486</td>\n",
       "      <td>767</td>\n",
       "      <td>PURCHASE</td>\n",
       "      <td></td>\n",
       "      <td></td>\n",
       "      <td></td>\n",
       "      <td></td>\n",
       "      <td>True</td>\n",
       "      <td></td>\n",
       "      <td></td>\n",
       "      <td>False</td>\n",
       "    </tr>\n",
       "    <tr>\n",
       "      <th>2</th>\n",
       "      <td>737265056</td>\n",
       "      <td>737265056</td>\n",
       "      <td>2016-11-08 09:18:39</td>\n",
       "      <td>Play Store</td>\n",
       "      <td>US</td>\n",
       "      <td>US</td>\n",
       "      <td>09</td>\n",
       "      <td>01</td>\n",
       "      <td>mobileapps</td>\n",
       "      <td>08/2025</td>\n",
       "      <td>2015-03-14</td>\n",
       "      <td>2015-03-14</td>\n",
       "      <td>486</td>\n",
       "      <td>486</td>\n",
       "      <td>767</td>\n",
       "      <td>PURCHASE</td>\n",
       "      <td></td>\n",
       "      <td></td>\n",
       "      <td></td>\n",
       "      <td></td>\n",
       "      <td>False</td>\n",
       "      <td></td>\n",
       "      <td></td>\n",
       "      <td>False</td>\n",
       "    </tr>\n",
       "    <tr>\n",
       "      <th>3</th>\n",
       "      <td>737265056</td>\n",
       "      <td>737265056</td>\n",
       "      <td>2016-12-10 02:14:50</td>\n",
       "      <td>Play Store</td>\n",
       "      <td>US</td>\n",
       "      <td>US</td>\n",
       "      <td>09</td>\n",
       "      <td>01</td>\n",
       "      <td>mobileapps</td>\n",
       "      <td>08/2025</td>\n",
       "      <td>2015-03-14</td>\n",
       "      <td>2015-03-14</td>\n",
       "      <td>486</td>\n",
       "      <td>486</td>\n",
       "      <td>767</td>\n",
       "      <td>PURCHASE</td>\n",
       "      <td></td>\n",
       "      <td></td>\n",
       "      <td></td>\n",
       "      <td></td>\n",
       "      <td>False</td>\n",
       "      <td></td>\n",
       "      <td></td>\n",
       "      <td>False</td>\n",
       "    </tr>\n",
       "    <tr>\n",
       "      <th>4</th>\n",
       "      <td>830329091</td>\n",
       "      <td>830329091</td>\n",
       "      <td>2016-03-24 21:04:46</td>\n",
       "      <td>Tim Hortons #947751</td>\n",
       "      <td>US</td>\n",
       "      <td>US</td>\n",
       "      <td>02</td>\n",
       "      <td>01</td>\n",
       "      <td>fastfood</td>\n",
       "      <td>10/2029</td>\n",
       "      <td>2015-08-06</td>\n",
       "      <td>2015-08-06</td>\n",
       "      <td>885</td>\n",
       "      <td>885</td>\n",
       "      <td>3143</td>\n",
       "      <td>PURCHASE</td>\n",
       "      <td></td>\n",
       "      <td></td>\n",
       "      <td></td>\n",
       "      <td></td>\n",
       "      <td>True</td>\n",
       "      <td></td>\n",
       "      <td></td>\n",
       "      <td>False</td>\n",
       "    </tr>\n",
       "  </tbody>\n",
       "</table>\n",
       "</div>"
      ]
     },
     "execution_count": 71,
     "metadata": {},
     "output_type": "execute_result"
    }
   ],
   "execution_count": 71
  },
  {
   "metadata": {
    "ExecuteTime": {
     "end_time": "2024-08-04T03:21:39.952918Z",
     "start_time": "2024-08-04T03:21:25.532919Z"
    }
   },
   "cell_type": "code",
   "source": [
    "# replace empty strings with np.nan while downcasting the changed columns' data types\n",
    "pd.set_option('future.no_silent_downcasting', True)\n",
    "x_cat = x_cat.replace(r'^\\s*$', np.nan, regex=True)"
   ],
   "id": "c9bc803f79be20e",
   "outputs": [],
   "execution_count": 72
  },
  {
   "metadata": {
    "ExecuteTime": {
     "end_time": "2024-08-04T03:21:40.983933Z",
     "start_time": "2024-08-04T03:21:39.953919Z"
    }
   },
   "cell_type": "code",
   "source": [
    "# convert the datetime columns to datetime objects\n",
    "x_cat['accountOpenDate'] = pd.to_datetime(x_cat['accountOpenDate'])\n",
    "x_cat['dateOfLastAddressChange'] = pd.to_datetime(x_cat['dateOfLastAddressChange'])\n",
    "x_cat['transactionDateTime'] = pd.to_datetime(x_cat['transactionDateTime'])"
   ],
   "id": "5752157ec6542240",
   "outputs": [],
   "execution_count": 73
  },
  {
   "metadata": {
    "ExecuteTime": {
     "end_time": "2024-08-04T03:21:40.999918Z",
     "start_time": "2024-08-04T03:21:40.984919Z"
    }
   },
   "cell_type": "code",
   "source": [
    "# Convert the boolean columns ['cardPresent', 'expirationDateKeyInMatch] to integers\n",
    "x_cat['cardPresent'] = x_cat['cardPresent'].astype(int)\n",
    "x_cat['expirationDateKeyInMatch'] = x_cat['expirationDateKeyInMatch'].astype(int)"
   ],
   "id": "5ac065d6ad6fcb5d",
   "outputs": [],
   "execution_count": 74
  },
  {
   "metadata": {},
   "cell_type": "markdown",
   "source": [
    "## 3.4 Missing values \n",
    "\n",
    "- The label column has no missing values.\n",
    "- The numerical columns have no missing values.\n",
    "- The categorical columns have missing values. We'd like to dig into its possible missing mechanism and then impute them accordingly.\n",
    " 1. 3.4.1 Drop the six all NaN columns ['echoBuffer', 'merchantCity', 'merchantState', 'merchantZip', 'posOnPremises', 'recurringAuthInd']\n",
    " 2. 3.4.2 The column ['acqCountry'] has 4562 missing values. The missing seems to be most likely missing not at random(MNAR). The missing values will be imputed by the mode of the rows with the same ['accountNumber','cardLast4Digits'] columns' combination primarily or by ['accountNumber'] column itself secondarily."
   ],
   "id": "636be84195ad74c9"
  },
  {
   "metadata": {
    "ExecuteTime": {
     "end_time": "2024-08-04T03:21:42.027918Z",
     "start_time": "2024-08-04T03:21:41.001918Z"
    }
   },
   "cell_type": "code",
   "source": [
    "# make a copy of the as-is x_cat dataframe\n",
    "xc = x_cat.copy()"
   ],
   "id": "faab9bd819a1c59a",
   "outputs": [],
   "execution_count": 75
  },
  {
   "metadata": {
    "ExecuteTime": {
     "end_time": "2024-08-04T03:28:25.542360Z",
     "start_time": "2024-08-04T03:28:24.146361Z"
    }
   },
   "cell_type": "code",
   "source": [
    "# check the missing values in the rest columns\n",
    "x_cat.isna().sum().sort_values(ascending=False)"
   ],
   "id": "6a86cce5030117f4",
   "outputs": [
    {
     "data": {
      "text/plain": [
       "recurringAuthInd            786363\n",
       "posOnPremises               786363\n",
       "merchantZip                 786363\n",
       "merchantState               786363\n",
       "merchantCity                786363\n",
       "echoBuffer                  786363\n",
       "acqCountry                    4562\n",
       "posEntryMode                  4054\n",
       "merchantCountryCode            724\n",
       "transactionType                698\n",
       "posConditionCode               409\n",
       "accountNumber                    0\n",
       "cardLast4Digits                  0\n",
       "cardPresent                      0\n",
       "cardCVV                          0\n",
       "enteredCVV                       0\n",
       "customerId                       0\n",
       "dateOfLastAddressChange          0\n",
       "accountOpenDate                  0\n",
       "currentExpDate                   0\n",
       "merchantCategoryCode             0\n",
       "merchantName                     0\n",
       "transactionDateTime              0\n",
       "expirationDateKeyInMatch         0\n",
       "dtype: int64"
      ]
     },
     "execution_count": 83,
     "metadata": {},
     "output_type": "execute_result"
    }
   ],
   "execution_count": 83
  },
  {
   "metadata": {},
   "cell_type": "markdown",
   "source": "### 3.4.1 Drop the six all NaN columns ['echoBuffer', 'merchantCity', 'merchantState', 'merchantZip', 'posOnPremises', 'recurringAuthInd'] ",
   "id": "b9416d840709ec80"
  },
  {
   "metadata": {
    "ExecuteTime": {
     "end_time": "2024-08-04T06:33:57.832927Z",
     "start_time": "2024-08-04T06:33:57.733927Z"
    }
   },
   "cell_type": "code",
   "source": [
    "# drop the six all NaN columns\n",
    "x_cat.drop(columns=['echoBuffer', 'merchantCity', 'merchantState', 'merchantZip', 'posOnPremises', 'recurringAuthInd'], inplace=True)"
   ],
   "id": "c7ce28ba56872793",
   "outputs": [
    {
     "ename": "KeyError",
     "evalue": "\"['echoBuffer', 'merchantCity', 'merchantState', 'merchantZip', 'posOnPremises', 'recurringAuthInd'] not found in axis\"",
     "output_type": "error",
     "traceback": [
      "\u001B[1;31m---------------------------------------------------------------------------\u001B[0m",
      "\u001B[1;31mKeyError\u001B[0m                                  Traceback (most recent call last)",
      "Cell \u001B[1;32mIn[175], line 2\u001B[0m\n\u001B[0;32m      1\u001B[0m \u001B[38;5;66;03m# drop the six all NaN columns\u001B[39;00m\n\u001B[1;32m----> 2\u001B[0m \u001B[43mx_cat\u001B[49m\u001B[38;5;241;43m.\u001B[39;49m\u001B[43mdrop\u001B[49m\u001B[43m(\u001B[49m\u001B[43mcolumns\u001B[49m\u001B[38;5;241;43m=\u001B[39;49m\u001B[43m[\u001B[49m\u001B[38;5;124;43m'\u001B[39;49m\u001B[38;5;124;43mechoBuffer\u001B[39;49m\u001B[38;5;124;43m'\u001B[39;49m\u001B[43m,\u001B[49m\u001B[43m \u001B[49m\u001B[38;5;124;43m'\u001B[39;49m\u001B[38;5;124;43mmerchantCity\u001B[39;49m\u001B[38;5;124;43m'\u001B[39;49m\u001B[43m,\u001B[49m\u001B[43m \u001B[49m\u001B[38;5;124;43m'\u001B[39;49m\u001B[38;5;124;43mmerchantState\u001B[39;49m\u001B[38;5;124;43m'\u001B[39;49m\u001B[43m,\u001B[49m\u001B[43m \u001B[49m\u001B[38;5;124;43m'\u001B[39;49m\u001B[38;5;124;43mmerchantZip\u001B[39;49m\u001B[38;5;124;43m'\u001B[39;49m\u001B[43m,\u001B[49m\u001B[43m \u001B[49m\u001B[38;5;124;43m'\u001B[39;49m\u001B[38;5;124;43mposOnPremises\u001B[39;49m\u001B[38;5;124;43m'\u001B[39;49m\u001B[43m,\u001B[49m\u001B[43m \u001B[49m\u001B[38;5;124;43m'\u001B[39;49m\u001B[38;5;124;43mrecurringAuthInd\u001B[39;49m\u001B[38;5;124;43m'\u001B[39;49m\u001B[43m]\u001B[49m\u001B[43m,\u001B[49m\u001B[43m \u001B[49m\u001B[43minplace\u001B[49m\u001B[38;5;241;43m=\u001B[39;49m\u001B[38;5;28;43;01mTrue\u001B[39;49;00m\u001B[43m)\u001B[49m\n",
      "File \u001B[1;32mH:\\Software\\Anaconda3\\envs\\python-learn\\lib\\site-packages\\pandas\\core\\frame.py:5581\u001B[0m, in \u001B[0;36mDataFrame.drop\u001B[1;34m(self, labels, axis, index, columns, level, inplace, errors)\u001B[0m\n\u001B[0;32m   5433\u001B[0m \u001B[38;5;28;01mdef\u001B[39;00m \u001B[38;5;21mdrop\u001B[39m(\n\u001B[0;32m   5434\u001B[0m     \u001B[38;5;28mself\u001B[39m,\n\u001B[0;32m   5435\u001B[0m     labels: IndexLabel \u001B[38;5;241m|\u001B[39m \u001B[38;5;28;01mNone\u001B[39;00m \u001B[38;5;241m=\u001B[39m \u001B[38;5;28;01mNone\u001B[39;00m,\n\u001B[1;32m   (...)\u001B[0m\n\u001B[0;32m   5442\u001B[0m     errors: IgnoreRaise \u001B[38;5;241m=\u001B[39m \u001B[38;5;124m\"\u001B[39m\u001B[38;5;124mraise\u001B[39m\u001B[38;5;124m\"\u001B[39m,\n\u001B[0;32m   5443\u001B[0m ) \u001B[38;5;241m-\u001B[39m\u001B[38;5;241m>\u001B[39m DataFrame \u001B[38;5;241m|\u001B[39m \u001B[38;5;28;01mNone\u001B[39;00m:\n\u001B[0;32m   5444\u001B[0m \u001B[38;5;250m    \u001B[39m\u001B[38;5;124;03m\"\"\"\u001B[39;00m\n\u001B[0;32m   5445\u001B[0m \u001B[38;5;124;03m    Drop specified labels from rows or columns.\u001B[39;00m\n\u001B[0;32m   5446\u001B[0m \n\u001B[1;32m   (...)\u001B[0m\n\u001B[0;32m   5579\u001B[0m \u001B[38;5;124;03m            weight  1.0     0.8\u001B[39;00m\n\u001B[0;32m   5580\u001B[0m \u001B[38;5;124;03m    \"\"\"\u001B[39;00m\n\u001B[1;32m-> 5581\u001B[0m     \u001B[38;5;28;01mreturn\u001B[39;00m \u001B[38;5;28;43msuper\u001B[39;49m\u001B[43m(\u001B[49m\u001B[43m)\u001B[49m\u001B[38;5;241;43m.\u001B[39;49m\u001B[43mdrop\u001B[49m\u001B[43m(\u001B[49m\n\u001B[0;32m   5582\u001B[0m \u001B[43m        \u001B[49m\u001B[43mlabels\u001B[49m\u001B[38;5;241;43m=\u001B[39;49m\u001B[43mlabels\u001B[49m\u001B[43m,\u001B[49m\n\u001B[0;32m   5583\u001B[0m \u001B[43m        \u001B[49m\u001B[43maxis\u001B[49m\u001B[38;5;241;43m=\u001B[39;49m\u001B[43maxis\u001B[49m\u001B[43m,\u001B[49m\n\u001B[0;32m   5584\u001B[0m \u001B[43m        \u001B[49m\u001B[43mindex\u001B[49m\u001B[38;5;241;43m=\u001B[39;49m\u001B[43mindex\u001B[49m\u001B[43m,\u001B[49m\n\u001B[0;32m   5585\u001B[0m \u001B[43m        \u001B[49m\u001B[43mcolumns\u001B[49m\u001B[38;5;241;43m=\u001B[39;49m\u001B[43mcolumns\u001B[49m\u001B[43m,\u001B[49m\n\u001B[0;32m   5586\u001B[0m \u001B[43m        \u001B[49m\u001B[43mlevel\u001B[49m\u001B[38;5;241;43m=\u001B[39;49m\u001B[43mlevel\u001B[49m\u001B[43m,\u001B[49m\n\u001B[0;32m   5587\u001B[0m \u001B[43m        \u001B[49m\u001B[43minplace\u001B[49m\u001B[38;5;241;43m=\u001B[39;49m\u001B[43minplace\u001B[49m\u001B[43m,\u001B[49m\n\u001B[0;32m   5588\u001B[0m \u001B[43m        \u001B[49m\u001B[43merrors\u001B[49m\u001B[38;5;241;43m=\u001B[39;49m\u001B[43merrors\u001B[49m\u001B[43m,\u001B[49m\n\u001B[0;32m   5589\u001B[0m \u001B[43m    \u001B[49m\u001B[43m)\u001B[49m\n",
      "File \u001B[1;32mH:\\Software\\Anaconda3\\envs\\python-learn\\lib\\site-packages\\pandas\\core\\generic.py:4788\u001B[0m, in \u001B[0;36mNDFrame.drop\u001B[1;34m(self, labels, axis, index, columns, level, inplace, errors)\u001B[0m\n\u001B[0;32m   4786\u001B[0m \u001B[38;5;28;01mfor\u001B[39;00m axis, labels \u001B[38;5;129;01min\u001B[39;00m axes\u001B[38;5;241m.\u001B[39mitems():\n\u001B[0;32m   4787\u001B[0m     \u001B[38;5;28;01mif\u001B[39;00m labels \u001B[38;5;129;01mis\u001B[39;00m \u001B[38;5;129;01mnot\u001B[39;00m \u001B[38;5;28;01mNone\u001B[39;00m:\n\u001B[1;32m-> 4788\u001B[0m         obj \u001B[38;5;241m=\u001B[39m \u001B[43mobj\u001B[49m\u001B[38;5;241;43m.\u001B[39;49m\u001B[43m_drop_axis\u001B[49m\u001B[43m(\u001B[49m\u001B[43mlabels\u001B[49m\u001B[43m,\u001B[49m\u001B[43m \u001B[49m\u001B[43maxis\u001B[49m\u001B[43m,\u001B[49m\u001B[43m \u001B[49m\u001B[43mlevel\u001B[49m\u001B[38;5;241;43m=\u001B[39;49m\u001B[43mlevel\u001B[49m\u001B[43m,\u001B[49m\u001B[43m \u001B[49m\u001B[43merrors\u001B[49m\u001B[38;5;241;43m=\u001B[39;49m\u001B[43merrors\u001B[49m\u001B[43m)\u001B[49m\n\u001B[0;32m   4790\u001B[0m \u001B[38;5;28;01mif\u001B[39;00m inplace:\n\u001B[0;32m   4791\u001B[0m     \u001B[38;5;28mself\u001B[39m\u001B[38;5;241m.\u001B[39m_update_inplace(obj)\n",
      "File \u001B[1;32mH:\\Software\\Anaconda3\\envs\\python-learn\\lib\\site-packages\\pandas\\core\\generic.py:4830\u001B[0m, in \u001B[0;36mNDFrame._drop_axis\u001B[1;34m(self, labels, axis, level, errors, only_slice)\u001B[0m\n\u001B[0;32m   4828\u001B[0m         new_axis \u001B[38;5;241m=\u001B[39m axis\u001B[38;5;241m.\u001B[39mdrop(labels, level\u001B[38;5;241m=\u001B[39mlevel, errors\u001B[38;5;241m=\u001B[39merrors)\n\u001B[0;32m   4829\u001B[0m     \u001B[38;5;28;01melse\u001B[39;00m:\n\u001B[1;32m-> 4830\u001B[0m         new_axis \u001B[38;5;241m=\u001B[39m \u001B[43maxis\u001B[49m\u001B[38;5;241;43m.\u001B[39;49m\u001B[43mdrop\u001B[49m\u001B[43m(\u001B[49m\u001B[43mlabels\u001B[49m\u001B[43m,\u001B[49m\u001B[43m \u001B[49m\u001B[43merrors\u001B[49m\u001B[38;5;241;43m=\u001B[39;49m\u001B[43merrors\u001B[49m\u001B[43m)\u001B[49m\n\u001B[0;32m   4831\u001B[0m     indexer \u001B[38;5;241m=\u001B[39m axis\u001B[38;5;241m.\u001B[39mget_indexer(new_axis)\n\u001B[0;32m   4833\u001B[0m \u001B[38;5;66;03m# Case for non-unique axis\u001B[39;00m\n\u001B[0;32m   4834\u001B[0m \u001B[38;5;28;01melse\u001B[39;00m:\n",
      "File \u001B[1;32mH:\\Software\\Anaconda3\\envs\\python-learn\\lib\\site-packages\\pandas\\core\\indexes\\base.py:7070\u001B[0m, in \u001B[0;36mIndex.drop\u001B[1;34m(self, labels, errors)\u001B[0m\n\u001B[0;32m   7068\u001B[0m \u001B[38;5;28;01mif\u001B[39;00m mask\u001B[38;5;241m.\u001B[39many():\n\u001B[0;32m   7069\u001B[0m     \u001B[38;5;28;01mif\u001B[39;00m errors \u001B[38;5;241m!=\u001B[39m \u001B[38;5;124m\"\u001B[39m\u001B[38;5;124mignore\u001B[39m\u001B[38;5;124m\"\u001B[39m:\n\u001B[1;32m-> 7070\u001B[0m         \u001B[38;5;28;01mraise\u001B[39;00m \u001B[38;5;167;01mKeyError\u001B[39;00m(\u001B[38;5;124mf\u001B[39m\u001B[38;5;124m\"\u001B[39m\u001B[38;5;132;01m{\u001B[39;00mlabels[mask]\u001B[38;5;241m.\u001B[39mtolist()\u001B[38;5;132;01m}\u001B[39;00m\u001B[38;5;124m not found in axis\u001B[39m\u001B[38;5;124m\"\u001B[39m)\n\u001B[0;32m   7071\u001B[0m     indexer \u001B[38;5;241m=\u001B[39m indexer[\u001B[38;5;241m~\u001B[39mmask]\n\u001B[0;32m   7072\u001B[0m \u001B[38;5;28;01mreturn\u001B[39;00m \u001B[38;5;28mself\u001B[39m\u001B[38;5;241m.\u001B[39mdelete(indexer)\n",
      "\u001B[1;31mKeyError\u001B[0m: \"['echoBuffer', 'merchantCity', 'merchantState', 'merchantZip', 'posOnPremises', 'recurringAuthInd'] not found in axis\""
     ]
    }
   ],
   "execution_count": 175
  },
  {
   "metadata": {},
   "cell_type": "markdown",
   "source": "",
   "id": "190e7ad11758b101"
  },
  {
   "metadata": {},
   "cell_type": "markdown",
   "source": [
    "### 3.4.2 The column ['acqCountry'] has 4,562 missing values.\n",
    "- Among the missing values in the 'acqCountry' column, 3.3% are fraudulent. They are most likely missing completely at random(MCAR), albeit sufficient checks on the group characteristics between the missing and non-missing.\n",
    "- The 4,562 transactions with missing values come from 1,495 accounts. \n",
    "- We will impute them by the mode of the rows with the same ['accountNumber'] primarily.\n",
    "- For 1,494 accounts that can have a mode value. Due to the fact the dataset is predominantly from the US customers, their modes are all US actually. \n",
    "- The remaining 1 account,'997884003', who has no record of 'acqCountry' only have 3 non-default transactions from apple's appstore, we will assume it with 'US' as well for now. They can also be dropped later on if they are not informative."
   ],
   "id": "8b54d126d4ff45a6"
  },
  {
   "metadata": {
    "ExecuteTime": {
     "end_time": "2024-08-04T06:34:49.952119Z",
     "start_time": "2024-08-04T06:34:48.460124Z"
    }
   },
   "cell_type": "code",
   "source": [
    "# check the missing values in the rest columns\n",
    "x_t.isna().sum().sort_values(ascending=False)"
   ],
   "id": "2b9685871393703c",
   "outputs": [
    {
     "data": {
      "text/plain": [
       "recurringAuthInd            786363\n",
       "posOnPremises               786363\n",
       "merchantZip                 786363\n",
       "merchantState               786363\n",
       "merchantCity                786363\n",
       "echoBuffer                  786363\n",
       "acqCountry                    4562\n",
       "posEntryMode                  4054\n",
       "merchantCountryCode            724\n",
       "transactionType                698\n",
       "posConditionCode               409\n",
       "accountNumber                    0\n",
       "cardLast4Digits                  0\n",
       "cardPresent                      0\n",
       "cardCVV                          0\n",
       "enteredCVV                       0\n",
       "customerId                       0\n",
       "dateOfLastAddressChange          0\n",
       "accountOpenDate                  0\n",
       "currentExpDate                   0\n",
       "merchantCategoryCode             0\n",
       "merchantName                     0\n",
       "transactionDateTime              0\n",
       "expirationDateKeyInMatch         0\n",
       "dtype: int64"
      ]
     },
     "execution_count": 198,
     "metadata": {},
     "output_type": "execute_result"
    }
   ],
   "execution_count": 198
  },
  {
   "metadata": {
    "ExecuteTime": {
     "end_time": "2024-08-04T06:34:01.397383Z",
     "start_time": "2024-08-04T06:34:01.178383Z"
    }
   },
   "cell_type": "code",
   "source": [
    "# check the missing values in the 'acqCountry' column's distribution by the label column\n",
    "y[x_cat['acqCountry'].isna()].value_counts()/ y[x_cat['acqCountry'].isna()].shape[0]"
   ],
   "id": "402b9dfb7f06a214",
   "outputs": [
    {
     "data": {
      "text/plain": [
       "isFraud\n",
       "0    0.967339\n",
       "1    0.032661\n",
       "Name: count, dtype: float64"
      ]
     },
     "execution_count": 177,
     "metadata": {},
     "output_type": "execute_result"
    }
   ],
   "execution_count": 177
  },
  {
   "metadata": {
    "ExecuteTime": {
     "end_time": "2024-08-04T06:34:02.835384Z",
     "start_time": "2024-08-04T06:34:01.399385Z"
    }
   },
   "cell_type": "code",
   "source": [
    "# check the unique values of the 'accountNumber' of the transactions having missing values in the 'acqCountry' column\n",
    "a = x_cat[x_cat['acqCountry'].isna()][['accountNumber']].drop_duplicates()\n",
    "# check the mode of the 'acqCountry' column by the ['accountNumber'] column's group\n",
    "b = x_cat[x_cat['accountNumber'].isin(a['accountNumber'])][['accountNumber','acqCountry']].groupby(['accountNumber']).agg(pd.Series.mode).astype(str)\n",
    "b['acqCountry'].value_counts().reset_index()"
   ],
   "id": "5a98bc9a5034988b",
   "outputs": [
    {
     "data": {
      "text/plain": [
       "  acqCountry  count\n",
       "0         US   1494\n",
       "1         []      1"
      ],
      "text/html": [
       "<div>\n",
       "<style scoped>\n",
       "    .dataframe tbody tr th:only-of-type {\n",
       "        vertical-align: middle;\n",
       "    }\n",
       "\n",
       "    .dataframe tbody tr th {\n",
       "        vertical-align: top;\n",
       "    }\n",
       "\n",
       "    .dataframe thead th {\n",
       "        text-align: right;\n",
       "    }\n",
       "</style>\n",
       "<table border=\"1\" class=\"dataframe\">\n",
       "  <thead>\n",
       "    <tr style=\"text-align: right;\">\n",
       "      <th></th>\n",
       "      <th>acqCountry</th>\n",
       "      <th>count</th>\n",
       "    </tr>\n",
       "  </thead>\n",
       "  <tbody>\n",
       "    <tr>\n",
       "      <th>0</th>\n",
       "      <td>US</td>\n",
       "      <td>1494</td>\n",
       "    </tr>\n",
       "    <tr>\n",
       "      <th>1</th>\n",
       "      <td>[]</td>\n",
       "      <td>1</td>\n",
       "    </tr>\n",
       "  </tbody>\n",
       "</table>\n",
       "</div>"
      ]
     },
     "execution_count": 178,
     "metadata": {},
     "output_type": "execute_result"
    }
   ],
   "execution_count": 178
  },
  {
   "metadata": {
    "ExecuteTime": {
     "end_time": "2024-08-04T06:34:02.851382Z",
     "start_time": "2024-08-04T06:34:02.837385Z"
    }
   },
   "cell_type": "code",
   "source": "b[b['acqCountry'] != 'US']",
   "id": "f131fd15ecd66b80",
   "outputs": [
    {
     "data": {
      "text/plain": [
       "              acqCountry\n",
       "accountNumber           \n",
       "997884003             []"
      ],
      "text/html": [
       "<div>\n",
       "<style scoped>\n",
       "    .dataframe tbody tr th:only-of-type {\n",
       "        vertical-align: middle;\n",
       "    }\n",
       "\n",
       "    .dataframe tbody tr th {\n",
       "        vertical-align: top;\n",
       "    }\n",
       "\n",
       "    .dataframe thead th {\n",
       "        text-align: right;\n",
       "    }\n",
       "</style>\n",
       "<table border=\"1\" class=\"dataframe\">\n",
       "  <thead>\n",
       "    <tr style=\"text-align: right;\">\n",
       "      <th></th>\n",
       "      <th>acqCountry</th>\n",
       "    </tr>\n",
       "    <tr>\n",
       "      <th>accountNumber</th>\n",
       "      <th></th>\n",
       "    </tr>\n",
       "  </thead>\n",
       "  <tbody>\n",
       "    <tr>\n",
       "      <th>997884003</th>\n",
       "      <td>[]</td>\n",
       "    </tr>\n",
       "  </tbody>\n",
       "</table>\n",
       "</div>"
      ]
     },
     "execution_count": 179,
     "metadata": {},
     "output_type": "execute_result"
    }
   ],
   "execution_count": 179
  },
  {
   "metadata": {
    "ExecuteTime": {
     "end_time": "2024-08-04T06:34:03.010383Z",
     "start_time": "2024-08-04T06:34:02.852384Z"
    }
   },
   "cell_type": "code",
   "source": "df[df['accountNumber']=='997884003']",
   "id": "fbc0a186d2890872",
   "outputs": [
    {
     "data": {
      "text/plain": [
       "       accountNumber customerId  creditLimit  availableMoney  \\\n",
       "107475     997884003  997884003       7500.0          7500.0   \n",
       "107476     997884003  997884003       7500.0          7500.0   \n",
       "107477     997884003  997884003       7500.0          7500.0   \n",
       "\n",
       "        transactionDateTime  transactionAmount  merchantName acqCountry  \\\n",
       "107475  2016-10-27 20:48:49               8.98  Apple iTunes              \n",
       "107476  2016-11-27 04:49:57               8.98  Apple iTunes              \n",
       "107477  2016-12-28 23:09:24               8.98  Apple iTunes              \n",
       "\n",
       "       merchantCountryCode posEntryMode posConditionCode merchantCategoryCode  \\\n",
       "107475                  US           09               08           mobileapps   \n",
       "107476                  US           09               08           mobileapps   \n",
       "107477                  US           09               08           mobileapps   \n",
       "\n",
       "        ... cardLast4Digits transactionType echoBuffer currentBalance  \\\n",
       "107475  ...            9397        PURCHASE                       0.0   \n",
       "107476  ...            9397        PURCHASE                       0.0   \n",
       "107477  ...            9397        PURCHASE                       0.0   \n",
       "\n",
       "       merchantCity merchantState merchantZip cardPresent  posOnPremises  \\\n",
       "107475                                              False                  \n",
       "107476                                              False                  \n",
       "107477                                              False                  \n",
       "\n",
       "       recurringAuthInd expirationDateKeyInMatch isFraud  \n",
       "107475                                     False   False  \n",
       "107476                                     False   False  \n",
       "107477                                     False   False  \n",
       "\n",
       "[3 rows x 29 columns]"
      ],
      "text/html": [
       "<div>\n",
       "<style scoped>\n",
       "    .dataframe tbody tr th:only-of-type {\n",
       "        vertical-align: middle;\n",
       "    }\n",
       "\n",
       "    .dataframe tbody tr th {\n",
       "        vertical-align: top;\n",
       "    }\n",
       "\n",
       "    .dataframe thead th {\n",
       "        text-align: right;\n",
       "    }\n",
       "</style>\n",
       "<table border=\"1\" class=\"dataframe\">\n",
       "  <thead>\n",
       "    <tr style=\"text-align: right;\">\n",
       "      <th></th>\n",
       "      <th>accountNumber</th>\n",
       "      <th>customerId</th>\n",
       "      <th>creditLimit</th>\n",
       "      <th>availableMoney</th>\n",
       "      <th>transactionDateTime</th>\n",
       "      <th>transactionAmount</th>\n",
       "      <th>merchantName</th>\n",
       "      <th>acqCountry</th>\n",
       "      <th>merchantCountryCode</th>\n",
       "      <th>posEntryMode</th>\n",
       "      <th>posConditionCode</th>\n",
       "      <th>merchantCategoryCode</th>\n",
       "      <th>...</th>\n",
       "      <th>cardLast4Digits</th>\n",
       "      <th>transactionType</th>\n",
       "      <th>echoBuffer</th>\n",
       "      <th>currentBalance</th>\n",
       "      <th>merchantCity</th>\n",
       "      <th>merchantState</th>\n",
       "      <th>merchantZip</th>\n",
       "      <th>cardPresent</th>\n",
       "      <th>posOnPremises</th>\n",
       "      <th>recurringAuthInd</th>\n",
       "      <th>expirationDateKeyInMatch</th>\n",
       "      <th>isFraud</th>\n",
       "    </tr>\n",
       "  </thead>\n",
       "  <tbody>\n",
       "    <tr>\n",
       "      <th>107475</th>\n",
       "      <td>997884003</td>\n",
       "      <td>997884003</td>\n",
       "      <td>7500.0</td>\n",
       "      <td>7500.0</td>\n",
       "      <td>2016-10-27 20:48:49</td>\n",
       "      <td>8.98</td>\n",
       "      <td>Apple iTunes</td>\n",
       "      <td></td>\n",
       "      <td>US</td>\n",
       "      <td>09</td>\n",
       "      <td>08</td>\n",
       "      <td>mobileapps</td>\n",
       "      <td>...</td>\n",
       "      <td>9397</td>\n",
       "      <td>PURCHASE</td>\n",
       "      <td></td>\n",
       "      <td>0.0</td>\n",
       "      <td></td>\n",
       "      <td></td>\n",
       "      <td></td>\n",
       "      <td>False</td>\n",
       "      <td></td>\n",
       "      <td></td>\n",
       "      <td>False</td>\n",
       "      <td>False</td>\n",
       "    </tr>\n",
       "    <tr>\n",
       "      <th>107476</th>\n",
       "      <td>997884003</td>\n",
       "      <td>997884003</td>\n",
       "      <td>7500.0</td>\n",
       "      <td>7500.0</td>\n",
       "      <td>2016-11-27 04:49:57</td>\n",
       "      <td>8.98</td>\n",
       "      <td>Apple iTunes</td>\n",
       "      <td></td>\n",
       "      <td>US</td>\n",
       "      <td>09</td>\n",
       "      <td>08</td>\n",
       "      <td>mobileapps</td>\n",
       "      <td>...</td>\n",
       "      <td>9397</td>\n",
       "      <td>PURCHASE</td>\n",
       "      <td></td>\n",
       "      <td>0.0</td>\n",
       "      <td></td>\n",
       "      <td></td>\n",
       "      <td></td>\n",
       "      <td>False</td>\n",
       "      <td></td>\n",
       "      <td></td>\n",
       "      <td>False</td>\n",
       "      <td>False</td>\n",
       "    </tr>\n",
       "    <tr>\n",
       "      <th>107477</th>\n",
       "      <td>997884003</td>\n",
       "      <td>997884003</td>\n",
       "      <td>7500.0</td>\n",
       "      <td>7500.0</td>\n",
       "      <td>2016-12-28 23:09:24</td>\n",
       "      <td>8.98</td>\n",
       "      <td>Apple iTunes</td>\n",
       "      <td></td>\n",
       "      <td>US</td>\n",
       "      <td>09</td>\n",
       "      <td>08</td>\n",
       "      <td>mobileapps</td>\n",
       "      <td>...</td>\n",
       "      <td>9397</td>\n",
       "      <td>PURCHASE</td>\n",
       "      <td></td>\n",
       "      <td>0.0</td>\n",
       "      <td></td>\n",
       "      <td></td>\n",
       "      <td></td>\n",
       "      <td>False</td>\n",
       "      <td></td>\n",
       "      <td></td>\n",
       "      <td>False</td>\n",
       "      <td>False</td>\n",
       "    </tr>\n",
       "  </tbody>\n",
       "</table>\n",
       "<p>3 rows × 29 columns</p>\n",
       "</div>"
      ]
     },
     "execution_count": 180,
     "metadata": {},
     "output_type": "execute_result"
    }
   ],
   "execution_count": 180
  },
  {
   "metadata": {
    "ExecuteTime": {
     "end_time": "2024-08-04T06:34:03.121383Z",
     "start_time": "2024-08-04T06:34:03.012387Z"
    }
   },
   "cell_type": "code",
   "source": [
    "# impute 'acqCountry' as US for its missing for all accounts for now\n",
    "x_cat.loc[x_cat['acqCountry'].isna(),'acqCountry'] = 'US'"
   ],
   "id": "b4e20c94cf2cd55d",
   "outputs": [],
   "execution_count": 181
  },
  {
   "metadata": {},
   "cell_type": "markdown",
   "source": [
    "### 3.4.3 The column ['merchantCountryCode'] has 724 missing values.\n",
    "- Among the missing values in the 'acqCountry' column, 1.1% are fraudulent. They are most likely missing completely at random(MCAR), albeit sufficient checks on the group characteristics between the missing and non-missing.\n",
    "- The 724 transactions with missing values come from 293 merchants. \n",
    "- We will impute them by the mode of the rows with the same ['merchantName'] primarily.\n",
    "- Due to the fact the dataset is predominantly from the US merchants, their modes are all US. "
   ],
   "id": "d5cd108e36146aa0"
  },
  {
   "metadata": {
    "ExecuteTime": {
     "end_time": "2024-08-04T06:34:03.342386Z",
     "start_time": "2024-08-04T06:34:03.122384Z"
    }
   },
   "cell_type": "code",
   "source": [
    "# check the missing values in the ['merchantCountryCode'] column's distribution by the label column\n",
    "y[x_cat['merchantCountryCode'].isna()].value_counts()/ y[x_cat['merchantCountryCode'].isna()].shape[0]"
   ],
   "id": "1ccf0fd69b454f04",
   "outputs": [
    {
     "data": {
      "text/plain": [
       "isFraud\n",
       "0    0.88674\n",
       "1    0.11326\n",
       "Name: count, dtype: float64"
      ]
     },
     "execution_count": 182,
     "metadata": {},
     "output_type": "execute_result"
    }
   ],
   "execution_count": 182
  },
  {
   "metadata": {
    "ExecuteTime": {
     "end_time": "2024-08-04T06:34:04.496384Z",
     "start_time": "2024-08-04T06:34:03.343387Z"
    }
   },
   "cell_type": "code",
   "source": [
    "# check the unique values of the ['merchantName','merchantCategoryCode'] of the transactions having missing values in the 'merchantCountryCode' column\n",
    "a = x_cat[x_cat['merchantCountryCode'].isna()][['merchantCountryCode','merchantName','merchantCategoryCode']].drop_duplicates()\n",
    "# check the mode of the 'merchantCountryCode' column by the 'merchantName' column's group\n",
    "b = x_cat[x_cat['merchantName'].isin(a['merchantName'])][['merchantName','merchantCountryCode']].groupby(['merchantName']).agg(pd.Series.mode).astype(str)\n",
    "b['merchantCountryCode'].value_counts().reset_index()"
   ],
   "id": "40ab4a55726135",
   "outputs": [
    {
     "data": {
      "text/plain": [
       "  merchantCountryCode  count\n",
       "0                  US    293"
      ],
      "text/html": [
       "<div>\n",
       "<style scoped>\n",
       "    .dataframe tbody tr th:only-of-type {\n",
       "        vertical-align: middle;\n",
       "    }\n",
       "\n",
       "    .dataframe tbody tr th {\n",
       "        vertical-align: top;\n",
       "    }\n",
       "\n",
       "    .dataframe thead th {\n",
       "        text-align: right;\n",
       "    }\n",
       "</style>\n",
       "<table border=\"1\" class=\"dataframe\">\n",
       "  <thead>\n",
       "    <tr style=\"text-align: right;\">\n",
       "      <th></th>\n",
       "      <th>merchantCountryCode</th>\n",
       "      <th>count</th>\n",
       "    </tr>\n",
       "  </thead>\n",
       "  <tbody>\n",
       "    <tr>\n",
       "      <th>0</th>\n",
       "      <td>US</td>\n",
       "      <td>293</td>\n",
       "    </tr>\n",
       "  </tbody>\n",
       "</table>\n",
       "</div>"
      ]
     },
     "execution_count": 183,
     "metadata": {},
     "output_type": "execute_result"
    }
   ],
   "execution_count": 183
  },
  {
   "metadata": {
    "ExecuteTime": {
     "end_time": "2024-08-04T06:34:04.607383Z",
     "start_time": "2024-08-04T06:34:04.498386Z"
    }
   },
   "cell_type": "code",
   "source": [
    "# impute 'merchantCountryCode' as US for its missing for all merchants\n",
    "x_cat.loc[x_cat['merchantCountryCode'].isna(),'merchantCountryCode'] = 'US'"
   ],
   "id": "ee365a3f3b7111b9",
   "outputs": [],
   "execution_count": 184
  },
  {
   "metadata": {},
   "cell_type": "markdown",
   "source": [
    "### 3.4.4 The column ['transactionType'] has 698 missing values.\n",
    "- Among the missing values in the 'acqCountry' column, 2.0% are fraudulent. They are most likely missing completely at random(MCAR), albeit sufficient checks on the group characteristics between the missing and non-missing.\n",
    "- Due to lack of relative information, we simply label the missing values as 'Unknown' for now. "
   ],
   "id": "956ef229c656231c"
  },
  {
   "metadata": {
    "ExecuteTime": {
     "end_time": "2024-08-04T06:34:04.750386Z",
     "start_time": "2024-08-04T06:34:04.610386Z"
    }
   },
   "cell_type": "code",
   "source": "x_cat['transactionType'].value_counts(dropna=False)",
   "id": "87c014bb42bbb58b",
   "outputs": [
    {
     "data": {
      "text/plain": [
       "transactionType\n",
       "PURCHASE                745193\n",
       "REVERSAL                 20303\n",
       "ADDRESS_VERIFICATION     20169\n",
       "Unknown                    698\n",
       "Name: count, dtype: int64"
      ]
     },
     "execution_count": 185,
     "metadata": {},
     "output_type": "execute_result"
    }
   ],
   "execution_count": 185
  },
  {
   "metadata": {
    "ExecuteTime": {
     "end_time": "2024-08-04T06:34:04.969387Z",
     "start_time": "2024-08-04T06:34:04.752385Z"
    }
   },
   "cell_type": "code",
   "source": "y[x_cat['transactionType'].isna()].value_counts()/ y[x_cat['transactionType'].isna()].shape[0]",
   "id": "d8e2179e22fa1518",
   "outputs": [
    {
     "data": {
      "text/plain": [
       "Series([], Name: count, dtype: float64)"
      ]
     },
     "execution_count": 186,
     "metadata": {},
     "output_type": "execute_result"
    }
   ],
   "execution_count": 186
  },
  {
   "metadata": {
    "ExecuteTime": {
     "end_time": "2024-08-04T06:34:05.079383Z",
     "start_time": "2024-08-04T06:34:04.970388Z"
    }
   },
   "cell_type": "code",
   "source": [
    "# impute 'transactionType' as 'Unknown' for its missing for all transactions\n",
    "x_cat.loc[x_cat['transactionType'].isna(),'transactionType'] = 'Unknown'"
   ],
   "id": "91ed62e953a4af25",
   "outputs": [],
   "execution_count": 187
  },
  {
   "metadata": {},
   "cell_type": "markdown",
   "source": [
    "### 3.4.5 The column ['posConditionCode'] has 409 missing values.\n",
    "- Among the missing values in the 'acqCountry' column, 5.4% are fraudulent. They are most likely missing completely at random(MCAR), albeit sufficient checks on the group characteristics between the missing and non-missing.\n",
    "- Due to the contradicting code from transactions made at the same merchant, we simply label the missing values as 'Unknown' for now. "
   ],
   "id": "f1a496bebf15f172"
  },
  {
   "metadata": {
    "ExecuteTime": {
     "end_time": "2024-08-04T06:34:05.286386Z",
     "start_time": "2024-08-04T06:34:05.080386Z"
    }
   },
   "cell_type": "code",
   "source": [
    "# check the missing values in the ['merchantCountryCode'] column's distribution by the label column\n",
    "y[x_cat['posConditionCode'].isna()].value_counts()/ y[x_cat['posConditionCode'].isna()].shape[0]"
   ],
   "id": "4cea7cefb55a0601",
   "outputs": [
    {
     "data": {
      "text/plain": [
       "Series([], Name: count, dtype: float64)"
      ]
     },
     "execution_count": 188,
     "metadata": {},
     "output_type": "execute_result"
    }
   ],
   "execution_count": 188
  },
  {
   "metadata": {
    "ExecuteTime": {
     "end_time": "2024-08-04T06:34:05.412383Z",
     "start_time": "2024-08-04T06:34:05.288386Z"
    }
   },
   "cell_type": "code",
   "source": "x_cat['posConditionCode'].value_counts(dropna=False)",
   "id": "b0287e1d9e78c244",
   "outputs": [
    {
     "data": {
      "text/plain": [
       "posConditionCode\n",
       "01         628787\n",
       "08         149634\n",
       "99           7533\n",
       "Unknown       409\n",
       "Name: count, dtype: int64"
      ]
     },
     "execution_count": 189,
     "metadata": {},
     "output_type": "execute_result"
    }
   ],
   "execution_count": 189
  },
  {
   "metadata": {
    "ExecuteTime": {
     "end_time": "2024-08-04T06:34:05.572383Z",
     "start_time": "2024-08-04T06:34:05.413385Z"
    }
   },
   "cell_type": "code",
   "source": "x_cat.loc[x_cat['posConditionCode'].isna(),['merchantName']].value_counts(dropna=False) ",
   "id": "dea6ac53ee86070a",
   "outputs": [
    {
     "data": {
      "text/plain": [
       "Series([], Name: count, dtype: int64)"
      ]
     },
     "execution_count": 190,
     "metadata": {},
     "output_type": "execute_result"
    }
   ],
   "execution_count": 190
  },
  {
   "metadata": {
    "ExecuteTime": {
     "end_time": "2024-08-04T06:34:05.697385Z",
     "start_time": "2024-08-04T06:34:05.573385Z"
    }
   },
   "cell_type": "code",
   "source": "x_cat.loc[(x_cat['merchantName'] == 'Shell Gas #256420') ,'posConditionCode'].value_counts(dropna=False)",
   "id": "15988fb406f538f6",
   "outputs": [
    {
     "data": {
      "text/plain": [
       "posConditionCode\n",
       "01         185\n",
       "Unknown     25\n",
       "08          14\n",
       "Name: count, dtype: int64"
      ]
     },
     "execution_count": 191,
     "metadata": {},
     "output_type": "execute_result"
    }
   ],
   "execution_count": 191
  },
  {
   "metadata": {
    "ExecuteTime": {
     "end_time": "2024-08-04T06:34:05.840383Z",
     "start_time": "2024-08-04T06:34:05.700386Z"
    }
   },
   "cell_type": "code",
   "source": "x_cat.loc[x_cat['merchantName'] == 'Lyft','posConditionCode'].value_counts(dropna=False)",
   "id": "754597eda9773343",
   "outputs": [
    {
     "data": {
      "text/plain": [
       "posConditionCode\n",
       "01         20284\n",
       "08          4974\n",
       "99           246\n",
       "Unknown       19\n",
       "Name: count, dtype: int64"
      ]
     },
     "execution_count": 192,
     "metadata": {},
     "output_type": "execute_result"
    }
   ],
   "execution_count": 192
  },
  {
   "metadata": {
    "ExecuteTime": {
     "end_time": "2024-08-04T06:34:06.140388Z",
     "start_time": "2024-08-04T06:34:06.010384Z"
    }
   },
   "cell_type": "code",
   "source": "x_cat.loc[x_cat['merchantName'] == 'walmart.com','posConditionCode'].value_counts(dropna=False)",
   "id": "80aef068da2c8f3d",
   "outputs": [
    {
     "data": {
      "text/plain": [
       "posConditionCode\n",
       "01         13447\n",
       "08          3246\n",
       "99           165\n",
       "Unknown       15\n",
       "Name: count, dtype: int64"
      ]
     },
     "execution_count": 193,
     "metadata": {},
     "output_type": "execute_result"
    }
   ],
   "execution_count": 193
  },
  {
   "metadata": {
    "ExecuteTime": {
     "end_time": "2024-08-04T06:34:06.328386Z",
     "start_time": "2024-08-04T06:34:06.220384Z"
    }
   },
   "cell_type": "code",
   "source": [
    "# impute 'posConditionCode' as 'Unknown' for its missing for all transactions\n",
    "x_cat.loc[x_cat['posConditionCode'].isna(),'posConditionCode'] = 'Unknown'"
   ],
   "id": "9fc4c7d93bb05a53",
   "outputs": [],
   "execution_count": 194
  },
  {
   "metadata": {},
   "cell_type": "markdown",
   "source": [
    "### 3.4.6 The column ['posEntryMode'] has 4,054 missing values.\n",
    "- Among the missing values in the 'acqCountry' column, 6.6% are fraudulent. They are most likely missing completely at random(MCAR), albeit sufficient checks on the group characteristics between the missing and non-missing.\n",
    "- Due to the same reason as column ['posConditionCode'], we simply label the missing values as 'Unknown' for now. "
   ],
   "id": "8683c243f895ff43"
  },
  {
   "metadata": {
    "ExecuteTime": {
     "end_time": "2024-08-04T06:34:07.025390Z",
     "start_time": "2024-08-04T06:34:06.809383Z"
    }
   },
   "cell_type": "code",
   "source": [
    "# check the missing values in the ['posEntryMode'] column's distribution by the label column\n",
    "y[x_cat['posEntryMode'].isna()].value_counts()/ y[x_cat['posEntryMode'].isna()].shape[0]"
   ],
   "id": "d4cd65266df38580",
   "outputs": [
    {
     "data": {
      "text/plain": [
       "Series([], Name: count, dtype: float64)"
      ]
     },
     "execution_count": 195,
     "metadata": {},
     "output_type": "execute_result"
    }
   ],
   "execution_count": 195
  },
  {
   "metadata": {
    "ExecuteTime": {
     "end_time": "2024-08-04T06:34:07.358383Z",
     "start_time": "2024-08-04T06:34:07.240389Z"
    }
   },
   "cell_type": "code",
   "source": [
    "# impute 'posEntryMode' as 'Unknown' for its missing for all transactions\n",
    "x_cat.loc[x_cat['posEntryMode'].isna(),'posEntryMode'] = 'Unknown'"
   ],
   "id": "f197351563738210",
   "outputs": [],
   "execution_count": 196
  },
  {
   "metadata": {
    "ExecuteTime": {
     "end_time": "2024-08-04T06:34:09.033115Z",
     "start_time": "2024-08-04T06:34:07.767117Z"
    }
   },
   "cell_type": "code",
   "source": [
    "# verify all missing values have been imputed\n",
    "x_cat.isna().sum().sum()"
   ],
   "id": "2d2bb667c4fea3cc",
   "outputs": [
    {
     "data": {
      "text/plain": [
       "0"
      ]
     },
     "execution_count": 197,
     "metadata": {},
     "output_type": "execute_result"
    }
   ],
   "execution_count": 197
  },
  {
   "metadata": {},
   "cell_type": "markdown",
   "source": [
    "## 3.5 Outliers \n",
    "- As aforementioned, the numerical columns display wide ranges and right-skewed distributions. So, we will Box-Cox transform them to make them more Gaussian-like, then use the Tukey's fences method to detect the outliers and cap them by the fences.\n",
    "- It's obvious that our 4 numerical columns are highly correlated by definition. Thus, we only need to detect and handle the outliers for the Box-Cox transformed ['transactionAmount','currentBalance'] columns.\n",
    "- \n"
   ],
   "id": "41b7d7158fc3b155"
  },
  {
   "metadata": {},
   "cell_type": "code",
   "outputs": [],
   "execution_count": null,
   "source": "### ",
   "id": "84a01f70e4efd2cd"
  },
  {
   "metadata": {},
   "cell_type": "code",
   "outputs": [],
   "execution_count": null,
   "source": "",
   "id": "c2e5dd8bbf56a44f"
  },
  {
   "metadata": {},
   "cell_type": "markdown",
   "source": [
    "### 3.6 Feature Engineering\n",
    "\n",
    "The as-is dataset has 24 non-numerical variables, 4 datetime, 20 categorical/boolean. The post-preprocessed dataset will have 16 categorical variables, 4 datetime, 12 categorical/boolean, after we discard the non-informative columns and re-construct the verbose ones \n",
    "\n",
    "1. Note the ['accountNumber'] and ['customerId'] columns are identical. We will drop the customerId column.\n",
    "2. There are empty strings in the dataset whom should be regarded as missing values, and we used the regular expression to convert the empty strings to np.nan. As a result, we found 6 columns, ['echoBuffer', 'merchantCity', 'merchantState', 'merchantZip', 'posOnPremises', 'recurringAuthInd'], are nothing but np.nans, mostly like they do it intentionally to anonymize some geographic and POS tags. Then drop them all.\n",
    "3. The column ['accountOpenDate', 'dateOfLastAddressChange', 'transactionDateTime'] are datetime columns. We will convert them to datetime objects.\n",
    "4. The column ['currentExpDate'] is a string column in format mm/yy. We will convert it to a datetime object by impute them to the last day of the month. We first convert to the 1st day of the month, then add 1 month and subtract 1 day, finally convert it to datetime objects.\n",
    "5. Coalesce the information contained in ['cardCVV', 'enteredCVV'] columns to a new categorical ['mismatchInCVV'] column showing the number of mismatches by comparing the 3 integers in each row of the two aforementioned columns. And we restrain from diving into the analysis of which of the integers cause mismatches for now.\n",
    "6. Convert the boolean columns ['cardPresent', 'expirationDateKeyInMatch] to 0s and 1s for the convenience of modeling."
   ],
   "id": "d725050adaeb5a31"
  },
  {
   "metadata": {},
   "cell_type": "markdown",
   "source": "",
   "id": "85bb9a3ef0c110a6"
  },
  {
   "metadata": {},
   "cell_type": "code",
   "outputs": [],
   "execution_count": 83,
   "source": [
    "# drop the customerId column for duplication\n",
    "x_cat.customerId.equals(x_cat.accountNumber)\n",
    "x_cat.drop(columns='customerId', inplace=True)"
   ],
   "id": "9cd9532ed16f6010"
  },
  {
   "metadata": {},
   "cell_type": "code",
   "outputs": [],
   "execution_count": null,
   "source": [
    "# impute the format mm/yy to the last day of the month of the column currentExpDate by first convert to the 1st day of the month, then add 1 month and subtract 1 day, finally convert it to datetime objects\n",
    "x_cat['currentExpDate'] = pd.to_datetime(x_cat['currentExpDate'].apply(lambda x: '01/' + x),dayfirst=True) + pd.DateOffset(months=1) - pd.DateOffset(days=1)"
   ],
   "id": "a5557b34736fabc3"
  },
  {
   "metadata": {},
   "cell_type": "code",
   "outputs": [],
   "execution_count": 86,
   "source": [
    "# convert the 3 integers in each row of 'cardCVV' and 'enteredCVV' columns to  new ndarrays with 3 columns of integers\n",
    "a = np.stack(x_cat['cardCVV'].map(lambda x: list(map(int, x))).to_list())\n",
    "b = np.stack(x_cat['enteredCVV'].map(lambda x: list(map(int, x))).to_list())\n",
    "# create a new column 'mismatchInCVV' showing the number of mismatches by comparing the 3 integers in each row of the two aforementioned columns\n",
    "x_cat['mismatchInCVV'] = pd.Series(np.sum(a != b, axis=1))\n",
    "# drop the 'cardCVV' and 'enteredCVV' columns\n",
    "x_cat.drop(columns=['cardCVV', 'enteredCVV'], inplace=True)"
   ],
   "id": "5d1a47e188114b0d"
  },
  {
   "metadata": {},
   "cell_type": "code",
   "outputs": [
    {
     "data": {
      "text/plain": [
       "accountNumber\n",
       "9    786363\n",
       "Name: count, dtype: int64"
      ]
     },
     "execution_count": 219,
     "metadata": {},
     "output_type": "execute_result"
    }
   ],
   "execution_count": 219,
   "source": [
    "# check the string lenght of the 'accountNumber' column\n",
    "x_cat['accountNumber'].map(len).value_counts()"
   ],
   "id": "a1902a328df7c224"
  },
  {
   "metadata": {},
   "cell_type": "code",
   "outputs": [],
   "execution_count": null,
   "source": "",
   "id": "36cda810b0137904"
  },
  {
   "metadata": {},
   "cell_type": "code",
   "outputs": [],
   "execution_count": null,
   "source": "",
   "id": "3695a08db0515c61"
  },
  {
   "metadata": {},
   "cell_type": "markdown",
   "source": "## 4. Exploratory Data Analysis",
   "id": "15de7d3d39d07db6"
  },
  {
   "metadata": {},
   "cell_type": "code",
   "outputs": [],
   "execution_count": null,
   "source": "",
   "id": "2e9055d92c983b35"
  },
  {
   "metadata": {},
   "cell_type": "code",
   "outputs": [],
   "execution_count": null,
   "source": "last 4 digits with only 3 numbers. Capital One does not issue credit cards in the American Express (Amex) network.",
   "id": "27c8074eef25e4cb"
  },
  {
   "metadata": {},
   "cell_type": "code",
   "outputs": [],
   "execution_count": null,
   "source": "no idea what echoBuffer is",
   "id": "22fcf36d63c3eff6"
  },
  {
   "metadata": {},
   "cell_type": "code",
   "outputs": [],
   "execution_count": null,
   "source": "posonpremises is legacy pos with physical infrastructure, right?",
   "id": "64394613642b9687"
  },
  {
   "cell_type": "code",
   "execution_count": null,
   "id": "initial_id",
   "metadata": {
    "collapsed": true
   },
   "outputs": [],
   "source": "The term \"expirationdatekeyinmatch\" typically refers to a situation where a system or software prompts a user to input or match an expiration date for verification or authentication purposes. It could be part of a security protocol where a user is required to enter a specific expiration date associated with a card, document, or other credential to confirm its validity or access rights. This term is commonly used in contexts such as payment processing, access control systems, or any situation where validating the expiration of a document or credential is necessary."
  },
  {
   "metadata": {},
   "cell_type": "markdown",
   "source": [
    "posConditionCode: It is a code identifying transaction conditions at the point-of-sale. https://www.mreports.com/documentation/ac/nonmerchant/80449.htm\n",
    "posEntryMode: It identifies the actual method used to enter the cardholder account number and card expiration date. This code specifies whether the entire magnetic stripe is included in an authorization\n",
    "if request. https://www.mreports.com/documentation/ac/nonmerchant/80451.htm\n",
    "       "
   ],
   "id": "fdee9178494ad437"
  }
 ],
 "metadata": {
  "kernelspec": {
   "display_name": "Python 3",
   "language": "python",
   "name": "python3"
  },
  "language_info": {
   "codemirror_mode": {
    "name": "ipython",
    "version": 2
   },
   "file_extension": ".py",
   "mimetype": "text/x-python",
   "name": "python",
   "nbconvert_exporter": "python",
   "pygments_lexer": "ipython2",
   "version": "2.7.6"
  }
 },
 "nbformat": 4,
 "nbformat_minor": 5
}
