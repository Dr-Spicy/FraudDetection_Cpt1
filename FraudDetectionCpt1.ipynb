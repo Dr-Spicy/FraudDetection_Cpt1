{
 "cells": [
  {
   "metadata": {},
   "cell_type": "markdown",
   "source": [
    "# 1. Introduction\n",
    "\n",
    "This is a dataset for the credit card fraud transaction detection. It contains synthetic data for the [Capital One](https://www.capitalone.com/) Data Scientist Recruiting process.\n",
    "\n",
    "## 1.1. Objective\n",
    "- It's a binary classification problem where we need to predict whether a transaction is a fraud or not.\n",
    "- Our business sense making purpose should be to minimize the total loss dollar amount due to fraud with the most parsimonious total number of transactions flagged as suspicious. In this way, the non-fraud real business transactions will be exposed to the minimal level of impact possible. In another word, we'd like to achieve a balance between precision and recall, so F1-score will be used as the leading metric.\n",
    "\n",
    "## 1.2. Data Description\n",
    "- The dataset is saved in the JSON format in a .txt file and will render a dataframe with a fair dimension of 786,363 x 29 after loading.\n",
    "- The label (isFraud) is hugely imbalanced with less than 2% of fraudulent transactions. We'd use both undersample the non-fraud transactions and oversample the fraud transactions to deal with the imbalance issue and compare their performances. \n",
    "- "
   ],
   "id": "74b6c1b3cecf7319"
  },
  {
   "metadata": {},
   "cell_type": "markdown",
   "source": [
    "# 2. Module Management, Data Import\n",
    "\n",
    "Since the dataset is in the JSON format, we will use the pandas.read_json() method to load the data while preserving the datatime and string/categorical columns to their belonging datatypes. Given the synthetic nature of the dataset, any duplicate rows will be dropped. We will also check the data types, missing values, and the distribution of the numerical and the cardinality of the categorical variables."
   ],
   "id": "56551d2c1a256ba2"
  },
  {
   "metadata": {
    "ExecuteTime": {
     "end_time": "2024-08-04T10:28:41.534326Z",
     "start_time": "2024-08-04T10:28:41.520330Z"
    }
   },
   "cell_type": "code",
   "source": [
    "# data manipulation\n",
    "import pandas as pd\n",
    "import numpy as np\n",
    "import scipy as sp\n",
    "\n",
    "# syntax encoding\n",
    "import json\n",
    "\n",
    "# modeling\n",
    "from sklearn import datasets\n",
    "from sklearn import linear_model\n",
    "from sklearn import metrics\n",
    "from sklearn import model_selection\n",
    "from sklearn import pipeline\n",
    "from sklearn import preprocessing\n",
    "from sklearn.experimental import enable_iterative_imputer\n",
    "from sklearn.impute import IterativeImputer, KNNImputer, SimpleImputer\n",
    "from imblearn.under_sampling import RandomUnderSampler # imbalance-learn is a Python package offering a number of re-sampling techniques commonly used in datasets showing strong between-class imbalance.\n",
    "\n",
    "# computation\n",
    "import joblib  # a tool to provide lightweight pipelining in Python. 1. easy simple parallel computing, 2. transparent disk-caching of functions and lazy re-evaluation\n",
    "import tqdm   # a fast, extensible progress bar for loops and CLI\n",
    "import copy   # shallow and deep copy operations\n",
    "\n",
    "# visualization\n",
    "import matplotlib\n",
    "import matplotlib.pyplot as plt\n",
    "import seaborn as sns\n",
    "import plotly.express as px\n",
    "import plotly.graph_objs as go\n",
    "import plotly.figure_factory as ff\n",
    "\n",
    "# Aesthetics\n",
    "sns.set_style(\"darkgrid\")\n",
    "matplotlib.rcParams['figure.figsize'] = (12, 6)\n",
    "matplotlib.rcParams['font.size'] = 12\n",
    "pd.options.display.max_columns = 25\n",
    "pd.options.display.max_rows = 100"
   ],
   "id": "1053ce61c6bb56ae",
   "outputs": [],
   "execution_count": 176
  },
  {
   "metadata": {
    "ExecuteTime": {
     "end_time": "2024-08-04T10:29:09.830602Z",
     "start_time": "2024-08-04T10:28:42.859604Z"
    }
   },
   "cell_type": "code",
   "source": [
    "file_path = 'transactions/transactions.txt'\n",
    "df = pd.read_json(file_path, lines=True, convert_dates=['accountOpenDate', 'dateOfLastAddressChange', 'transactionDateTime'],\n",
    "                  dtype={'accountNumber': str, 'customerId': str, 'creditLimit': float, 'availableMoney': float, 'transactionAmount': float, 'currentBalance': float\n",
    "                         , 'cardCVV': str, 'enteredCVV': str, 'cardLast4Digits': str, 'transactionType': str, 'echoBuffer': str, 'currentExpDate': str, 'accountOpenDate': str\n",
    "                         , 'dateOfLastAddressChange': str, 'cardPresent': bool, 'expirationDateKeyInMatch': bool, 'isFraud': bool, 'echoBuffer': str, 'merchantCity': str\n",
    "                         , 'merchantState': str, 'merchantZip': str, 'posOnPremises': str, 'recurringAuthInd': str, 'merchantCategoryCode': str, 'transactionDateTime': str\n",
    "                         , 'merchantName': str, 'acqCountry': str, 'merchantCountryCode': str, 'posConditionCode': str, 'posEntryMode': str, 'transactionType': str, 'cardPresent': bool\n",
    "                         , 'isFraud': bool})\n",
    "# drop the duplicate rows if any since the dataset is synthetic\n",
    "df.drop_duplicates(inplace=True)\n",
    "df.shape"
   ],
   "id": "b4c9a880c16bd5aa",
   "outputs": [
    {
     "data": {
      "text/plain": [
       "(786363, 29)"
      ]
     },
     "execution_count": 177,
     "metadata": {},
     "output_type": "execute_result"
    }
   ],
   "execution_count": 177
  },
  {
   "metadata": {
    "ExecuteTime": {
     "end_time": "2024-08-04T10:29:09.862604Z",
     "start_time": "2024-08-04T10:29:09.832609Z"
    }
   },
   "cell_type": "code",
   "source": "df.head()",
   "id": "fd444afa3c764216",
   "outputs": [
    {
     "data": {
      "text/plain": [
       "  accountNumber customerId  creditLimit  availableMoney  transactionDateTime  \\\n",
       "0     737265056  737265056       5000.0          5000.0  2016-08-13 14:27:32   \n",
       "1     737265056  737265056       5000.0          5000.0  2016-10-11 05:05:54   \n",
       "2     737265056  737265056       5000.0          5000.0  2016-11-08 09:18:39   \n",
       "3     737265056  737265056       5000.0          5000.0  2016-12-10 02:14:50   \n",
       "4     830329091  830329091       5000.0          5000.0  2016-03-24 21:04:46   \n",
       "\n",
       "   transactionAmount         merchantName acqCountry merchantCountryCode  \\\n",
       "0              98.55                 Uber         US                  US   \n",
       "1              74.51          AMC #191138         US                  US   \n",
       "2               7.47           Play Store         US                  US   \n",
       "3               7.47           Play Store         US                  US   \n",
       "4              71.18  Tim Hortons #947751         US                  US   \n",
       "\n",
       "  posEntryMode posConditionCode merchantCategoryCode  ... cardLast4Digits  \\\n",
       "0           02               01            rideshare  ...            1803   \n",
       "1           09               01        entertainment  ...             767   \n",
       "2           09               01           mobileapps  ...             767   \n",
       "3           09               01           mobileapps  ...             767   \n",
       "4           02               01             fastfood  ...            3143   \n",
       "\n",
       "  transactionType echoBuffer currentBalance merchantCity merchantState  \\\n",
       "0        PURCHASE                       0.0                              \n",
       "1        PURCHASE                       0.0                              \n",
       "2        PURCHASE                       0.0                              \n",
       "3        PURCHASE                       0.0                              \n",
       "4        PURCHASE                       0.0                              \n",
       "\n",
       "  merchantZip cardPresent  posOnPremises recurringAuthInd  \\\n",
       "0                   False                                   \n",
       "1                    True                                   \n",
       "2                   False                                   \n",
       "3                   False                                   \n",
       "4                    True                                   \n",
       "\n",
       "  expirationDateKeyInMatch isFraud  \n",
       "0                    False   False  \n",
       "1                    False   False  \n",
       "2                    False   False  \n",
       "3                    False   False  \n",
       "4                    False   False  \n",
       "\n",
       "[5 rows x 29 columns]"
      ],
      "text/html": [
       "<div>\n",
       "<style scoped>\n",
       "    .dataframe tbody tr th:only-of-type {\n",
       "        vertical-align: middle;\n",
       "    }\n",
       "\n",
       "    .dataframe tbody tr th {\n",
       "        vertical-align: top;\n",
       "    }\n",
       "\n",
       "    .dataframe thead th {\n",
       "        text-align: right;\n",
       "    }\n",
       "</style>\n",
       "<table border=\"1\" class=\"dataframe\">\n",
       "  <thead>\n",
       "    <tr style=\"text-align: right;\">\n",
       "      <th></th>\n",
       "      <th>accountNumber</th>\n",
       "      <th>customerId</th>\n",
       "      <th>creditLimit</th>\n",
       "      <th>availableMoney</th>\n",
       "      <th>transactionDateTime</th>\n",
       "      <th>transactionAmount</th>\n",
       "      <th>merchantName</th>\n",
       "      <th>acqCountry</th>\n",
       "      <th>merchantCountryCode</th>\n",
       "      <th>posEntryMode</th>\n",
       "      <th>posConditionCode</th>\n",
       "      <th>merchantCategoryCode</th>\n",
       "      <th>...</th>\n",
       "      <th>cardLast4Digits</th>\n",
       "      <th>transactionType</th>\n",
       "      <th>echoBuffer</th>\n",
       "      <th>currentBalance</th>\n",
       "      <th>merchantCity</th>\n",
       "      <th>merchantState</th>\n",
       "      <th>merchantZip</th>\n",
       "      <th>cardPresent</th>\n",
       "      <th>posOnPremises</th>\n",
       "      <th>recurringAuthInd</th>\n",
       "      <th>expirationDateKeyInMatch</th>\n",
       "      <th>isFraud</th>\n",
       "    </tr>\n",
       "  </thead>\n",
       "  <tbody>\n",
       "    <tr>\n",
       "      <th>0</th>\n",
       "      <td>737265056</td>\n",
       "      <td>737265056</td>\n",
       "      <td>5000.0</td>\n",
       "      <td>5000.0</td>\n",
       "      <td>2016-08-13 14:27:32</td>\n",
       "      <td>98.55</td>\n",
       "      <td>Uber</td>\n",
       "      <td>US</td>\n",
       "      <td>US</td>\n",
       "      <td>02</td>\n",
       "      <td>01</td>\n",
       "      <td>rideshare</td>\n",
       "      <td>...</td>\n",
       "      <td>1803</td>\n",
       "      <td>PURCHASE</td>\n",
       "      <td></td>\n",
       "      <td>0.0</td>\n",
       "      <td></td>\n",
       "      <td></td>\n",
       "      <td></td>\n",
       "      <td>False</td>\n",
       "      <td></td>\n",
       "      <td></td>\n",
       "      <td>False</td>\n",
       "      <td>False</td>\n",
       "    </tr>\n",
       "    <tr>\n",
       "      <th>1</th>\n",
       "      <td>737265056</td>\n",
       "      <td>737265056</td>\n",
       "      <td>5000.0</td>\n",
       "      <td>5000.0</td>\n",
       "      <td>2016-10-11 05:05:54</td>\n",
       "      <td>74.51</td>\n",
       "      <td>AMC #191138</td>\n",
       "      <td>US</td>\n",
       "      <td>US</td>\n",
       "      <td>09</td>\n",
       "      <td>01</td>\n",
       "      <td>entertainment</td>\n",
       "      <td>...</td>\n",
       "      <td>767</td>\n",
       "      <td>PURCHASE</td>\n",
       "      <td></td>\n",
       "      <td>0.0</td>\n",
       "      <td></td>\n",
       "      <td></td>\n",
       "      <td></td>\n",
       "      <td>True</td>\n",
       "      <td></td>\n",
       "      <td></td>\n",
       "      <td>False</td>\n",
       "      <td>False</td>\n",
       "    </tr>\n",
       "    <tr>\n",
       "      <th>2</th>\n",
       "      <td>737265056</td>\n",
       "      <td>737265056</td>\n",
       "      <td>5000.0</td>\n",
       "      <td>5000.0</td>\n",
       "      <td>2016-11-08 09:18:39</td>\n",
       "      <td>7.47</td>\n",
       "      <td>Play Store</td>\n",
       "      <td>US</td>\n",
       "      <td>US</td>\n",
       "      <td>09</td>\n",
       "      <td>01</td>\n",
       "      <td>mobileapps</td>\n",
       "      <td>...</td>\n",
       "      <td>767</td>\n",
       "      <td>PURCHASE</td>\n",
       "      <td></td>\n",
       "      <td>0.0</td>\n",
       "      <td></td>\n",
       "      <td></td>\n",
       "      <td></td>\n",
       "      <td>False</td>\n",
       "      <td></td>\n",
       "      <td></td>\n",
       "      <td>False</td>\n",
       "      <td>False</td>\n",
       "    </tr>\n",
       "    <tr>\n",
       "      <th>3</th>\n",
       "      <td>737265056</td>\n",
       "      <td>737265056</td>\n",
       "      <td>5000.0</td>\n",
       "      <td>5000.0</td>\n",
       "      <td>2016-12-10 02:14:50</td>\n",
       "      <td>7.47</td>\n",
       "      <td>Play Store</td>\n",
       "      <td>US</td>\n",
       "      <td>US</td>\n",
       "      <td>09</td>\n",
       "      <td>01</td>\n",
       "      <td>mobileapps</td>\n",
       "      <td>...</td>\n",
       "      <td>767</td>\n",
       "      <td>PURCHASE</td>\n",
       "      <td></td>\n",
       "      <td>0.0</td>\n",
       "      <td></td>\n",
       "      <td></td>\n",
       "      <td></td>\n",
       "      <td>False</td>\n",
       "      <td></td>\n",
       "      <td></td>\n",
       "      <td>False</td>\n",
       "      <td>False</td>\n",
       "    </tr>\n",
       "    <tr>\n",
       "      <th>4</th>\n",
       "      <td>830329091</td>\n",
       "      <td>830329091</td>\n",
       "      <td>5000.0</td>\n",
       "      <td>5000.0</td>\n",
       "      <td>2016-03-24 21:04:46</td>\n",
       "      <td>71.18</td>\n",
       "      <td>Tim Hortons #947751</td>\n",
       "      <td>US</td>\n",
       "      <td>US</td>\n",
       "      <td>02</td>\n",
       "      <td>01</td>\n",
       "      <td>fastfood</td>\n",
       "      <td>...</td>\n",
       "      <td>3143</td>\n",
       "      <td>PURCHASE</td>\n",
       "      <td></td>\n",
       "      <td>0.0</td>\n",
       "      <td></td>\n",
       "      <td></td>\n",
       "      <td></td>\n",
       "      <td>True</td>\n",
       "      <td></td>\n",
       "      <td></td>\n",
       "      <td>False</td>\n",
       "      <td>False</td>\n",
       "    </tr>\n",
       "  </tbody>\n",
       "</table>\n",
       "<p>5 rows × 29 columns</p>\n",
       "</div>"
      ]
     },
     "execution_count": 178,
     "metadata": {},
     "output_type": "execute_result"
    }
   ],
   "execution_count": 178
  },
  {
   "metadata": {},
   "cell_type": "markdown",
   "source": "# 3 Data Preprocessing",
   "id": "cc15394bd9100b59"
  },
  {
   "metadata": {},
   "cell_type": "markdown",
   "source": [
    "## 3.1 Label overview\n",
    "Only about 1.58% of the transactions are fraudulent. \n",
    "- Two classes are highly imbalanced.\n",
    "- No missing values in the label column.\n",
    "- Convert the boolean to 0 and 1 for the convenience of modeling."
   ],
   "id": "b39c20939d7d326e"
  },
  {
   "metadata": {
    "ExecuteTime": {
     "end_time": "2024-08-04T10:29:09.878600Z",
     "start_time": "2024-08-04T10:29:09.864603Z"
    }
   },
   "cell_type": "code",
   "source": "df.isFraud.value_counts() / df.shape[0]",
   "id": "a7594fd20d055902",
   "outputs": [
    {
     "data": {
      "text/plain": [
       "isFraud\n",
       "False    0.98421\n",
       "True     0.01579\n",
       "Name: count, dtype: float64"
      ]
     },
     "execution_count": 179,
     "metadata": {},
     "output_type": "execute_result"
    }
   ],
   "execution_count": 179
  },
  {
   "metadata": {
    "ExecuteTime": {
     "end_time": "2024-08-04T10:29:09.894599Z",
     "start_time": "2024-08-04T10:29:09.881618Z"
    }
   },
   "cell_type": "code",
   "source": "df['isFraud'].isnull().sum()",
   "id": "179819a47767d74",
   "outputs": [
    {
     "data": {
      "text/plain": [
       "0"
      ]
     },
     "execution_count": 180,
     "metadata": {},
     "output_type": "execute_result"
    }
   ],
   "execution_count": 180
  },
  {
   "metadata": {
    "ExecuteTime": {
     "end_time": "2024-08-04T10:29:10.479600Z",
     "start_time": "2024-08-04T10:29:09.896607Z"
    }
   },
   "cell_type": "code",
   "source": [
    "y = df['isFraud'].astype(int)\n",
    "x = df.drop(labels='isFraud', axis=1)"
   ],
   "id": "1476fa68b6aa292",
   "outputs": [],
   "execution_count": 181
  },
  {
   "metadata": {},
   "cell_type": "markdown",
   "source": [
    "## 3.2 Numerical variables overview\n",
    "The as-is dataset has 4 numerical variables. The post-preprocessed dataset will also have 4 numerical variables: ['creditLimit', 'availableMoney', 'transactionAmount', 'currentBalance'].\n",
    "- None of the numerical variables have to worry about missing values.\n",
    "- From the statistics, we can see that the as is columns have wide ranges. Consider both outlier imputation and scaling on non-tree based approaches.\n",
    "- The histogram shows that they are all considerably right-skewed. We may consider a Box-Cox transformation."
   ],
   "id": "d02867c5add71935"
  },
  {
   "metadata": {
    "ExecuteTime": {
     "end_time": "2024-08-04T10:29:10.510599Z",
     "start_time": "2024-08-04T10:29:10.480603Z"
    }
   },
   "cell_type": "code",
   "source": [
    "x_num = x.select_dtypes(include=[np.number])\n",
    "x_num.isnull().sum()"
   ],
   "id": "a6823fd0212ce713",
   "outputs": [
    {
     "data": {
      "text/plain": [
       "creditLimit          0\n",
       "availableMoney       0\n",
       "transactionAmount    0\n",
       "currentBalance       0\n",
       "dtype: int64"
      ]
     },
     "execution_count": 182,
     "metadata": {},
     "output_type": "execute_result"
    }
   ],
   "execution_count": 182
  },
  {
   "metadata": {
    "ExecuteTime": {
     "end_time": "2024-08-04T10:29:10.651602Z",
     "start_time": "2024-08-04T10:29:10.511602Z"
    }
   },
   "cell_type": "code",
   "source": "x_num.describe()",
   "id": "4ad6e5aa9d8c0ad3",
   "outputs": [
    {
     "data": {
      "text/plain": [
       "         creditLimit  availableMoney  transactionAmount  currentBalance\n",
       "count  786363.000000   786363.000000      786363.000000   786363.000000\n",
       "mean    10759.464459     6250.725369         136.985791     4508.739089\n",
       "std     11636.174890     8880.783989         147.725569     6457.442068\n",
       "min       250.000000    -1005.630000           0.000000        0.000000\n",
       "25%      5000.000000     1077.420000          33.650000      689.910000\n",
       "50%      7500.000000     3184.860000          87.900000     2451.760000\n",
       "75%     15000.000000     7500.000000         191.480000     5291.095000\n",
       "max     50000.000000    50000.000000        2011.540000    47498.810000"
      ],
      "text/html": [
       "<div>\n",
       "<style scoped>\n",
       "    .dataframe tbody tr th:only-of-type {\n",
       "        vertical-align: middle;\n",
       "    }\n",
       "\n",
       "    .dataframe tbody tr th {\n",
       "        vertical-align: top;\n",
       "    }\n",
       "\n",
       "    .dataframe thead th {\n",
       "        text-align: right;\n",
       "    }\n",
       "</style>\n",
       "<table border=\"1\" class=\"dataframe\">\n",
       "  <thead>\n",
       "    <tr style=\"text-align: right;\">\n",
       "      <th></th>\n",
       "      <th>creditLimit</th>\n",
       "      <th>availableMoney</th>\n",
       "      <th>transactionAmount</th>\n",
       "      <th>currentBalance</th>\n",
       "    </tr>\n",
       "  </thead>\n",
       "  <tbody>\n",
       "    <tr>\n",
       "      <th>count</th>\n",
       "      <td>786363.000000</td>\n",
       "      <td>786363.000000</td>\n",
       "      <td>786363.000000</td>\n",
       "      <td>786363.000000</td>\n",
       "    </tr>\n",
       "    <tr>\n",
       "      <th>mean</th>\n",
       "      <td>10759.464459</td>\n",
       "      <td>6250.725369</td>\n",
       "      <td>136.985791</td>\n",
       "      <td>4508.739089</td>\n",
       "    </tr>\n",
       "    <tr>\n",
       "      <th>std</th>\n",
       "      <td>11636.174890</td>\n",
       "      <td>8880.783989</td>\n",
       "      <td>147.725569</td>\n",
       "      <td>6457.442068</td>\n",
       "    </tr>\n",
       "    <tr>\n",
       "      <th>min</th>\n",
       "      <td>250.000000</td>\n",
       "      <td>-1005.630000</td>\n",
       "      <td>0.000000</td>\n",
       "      <td>0.000000</td>\n",
       "    </tr>\n",
       "    <tr>\n",
       "      <th>25%</th>\n",
       "      <td>5000.000000</td>\n",
       "      <td>1077.420000</td>\n",
       "      <td>33.650000</td>\n",
       "      <td>689.910000</td>\n",
       "    </tr>\n",
       "    <tr>\n",
       "      <th>50%</th>\n",
       "      <td>7500.000000</td>\n",
       "      <td>3184.860000</td>\n",
       "      <td>87.900000</td>\n",
       "      <td>2451.760000</td>\n",
       "    </tr>\n",
       "    <tr>\n",
       "      <th>75%</th>\n",
       "      <td>15000.000000</td>\n",
       "      <td>7500.000000</td>\n",
       "      <td>191.480000</td>\n",
       "      <td>5291.095000</td>\n",
       "    </tr>\n",
       "    <tr>\n",
       "      <th>max</th>\n",
       "      <td>50000.000000</td>\n",
       "      <td>50000.000000</td>\n",
       "      <td>2011.540000</td>\n",
       "      <td>47498.810000</td>\n",
       "    </tr>\n",
       "  </tbody>\n",
       "</table>\n",
       "</div>"
      ]
     },
     "execution_count": 183,
     "metadata": {},
     "output_type": "execute_result"
    }
   ],
   "execution_count": 183
  },
  {
   "metadata": {
    "ExecuteTime": {
     "end_time": "2024-08-04T10:29:12.375599Z",
     "start_time": "2024-08-04T10:29:10.653603Z"
    }
   },
   "cell_type": "code",
   "source": "x_num.hist(bins=100,  color='c')",
   "id": "5f4e62669b25876a",
   "outputs": [
    {
     "data": {
      "text/plain": [
       "array([[<Axes: title={'center': 'creditLimit'}>,\n",
       "        <Axes: title={'center': 'availableMoney'}>],\n",
       "       [<Axes: title={'center': 'transactionAmount'}>,\n",
       "        <Axes: title={'center': 'currentBalance'}>]], dtype=object)"
      ]
     },
     "execution_count": 184,
     "metadata": {},
     "output_type": "execute_result"
    },
    {
     "data": {
      "text/plain": [
       "<Figure size 1200x600 with 4 Axes>"
      ],
      "image/png": "[encoded data removed]"
     },
     "metadata": {},
     "output_type": "display_data"
    }
   ],
   "execution_count": 184
  },
  {
   "metadata": {},
   "cell_type": "markdown",
   "source": [
    "\n",
    "## 3.3 Categorical variables overview\n",
    "\n",
    "The as-is dataset has 24 non-numerical variables, 4 datetime, 20 categorical/boolean. \n",
    "\n",
    "- There are empty strings in the dataset whom should be regarded as missing values, and we used the regular expression to convert the empty strings to np.nan. As a result, we found 6 columns, ['echoBuffer', 'merchantCity', 'merchantState', 'merchantZip', 'posOnPremises', 'recurringAuthInd'], are nothing but np.nans, mostly like they do it intentionally to anonymize some geographic and POS tags.\n",
    "- The columns ['accountOpenDate', 'dateOfLastAddressChange', 'transactionDateTime'] are supposed to be datetimes. Cconvert them to datetime objects.\n",
    "- Convert the boolean columns ['cardPresent', 'expirationDateKeyInMatch] to 0s and 1s."
   ],
   "id": "bb7fa16b2b20e60"
  },
  {
   "metadata": {
    "ExecuteTime": {
     "end_time": "2024-08-04T10:29:12.836603Z",
     "start_time": "2024-08-04T10:29:12.376604Z"
    }
   },
   "cell_type": "code",
   "source": [
    "# deselect numerical columns and drop the label column\n",
    "x_cat = x.select_dtypes(exclude='number')\n",
    "x_cat.head()"
   ],
   "id": "692552d91f50c283",
   "outputs": [
    {
     "data": {
      "text/plain": [
       "  accountNumber customerId  transactionDateTime         merchantName  \\\n",
       "0     737265056  737265056  2016-08-13 14:27:32                 Uber   \n",
       "1     737265056  737265056  2016-10-11 05:05:54          AMC #191138   \n",
       "2     737265056  737265056  2016-11-08 09:18:39           Play Store   \n",
       "3     737265056  737265056  2016-12-10 02:14:50           Play Store   \n",
       "4     830329091  830329091  2016-03-24 21:04:46  Tim Hortons #947751   \n",
       "\n",
       "  acqCountry merchantCountryCode posEntryMode posConditionCode  \\\n",
       "0         US                  US           02               01   \n",
       "1         US                  US           09               01   \n",
       "2         US                  US           09               01   \n",
       "3         US                  US           09               01   \n",
       "4         US                  US           02               01   \n",
       "\n",
       "  merchantCategoryCode currentExpDate accountOpenDate dateOfLastAddressChange  \\\n",
       "0            rideshare        06/2023      2015-03-14              2015-03-14   \n",
       "1        entertainment        02/2024      2015-03-14              2015-03-14   \n",
       "2           mobileapps        08/2025      2015-03-14              2015-03-14   \n",
       "3           mobileapps        08/2025      2015-03-14              2015-03-14   \n",
       "4             fastfood        10/2029      2015-08-06              2015-08-06   \n",
       "\n",
       "  cardCVV enteredCVV cardLast4Digits transactionType echoBuffer merchantCity  \\\n",
       "0     414        414            1803        PURCHASE                           \n",
       "1     486        486             767        PURCHASE                           \n",
       "2     486        486             767        PURCHASE                           \n",
       "3     486        486             767        PURCHASE                           \n",
       "4     885        885            3143        PURCHASE                           \n",
       "\n",
       "  merchantState merchantZip  cardPresent posOnPremises recurringAuthInd  \\\n",
       "0                                  False                                  \n",
       "1                                   True                                  \n",
       "2                                  False                                  \n",
       "3                                  False                                  \n",
       "4                                   True                                  \n",
       "\n",
       "   expirationDateKeyInMatch  \n",
       "0                     False  \n",
       "1                     False  \n",
       "2                     False  \n",
       "3                     False  \n",
       "4                     False  "
      ],
      "text/html": [
       "<div>\n",
       "<style scoped>\n",
       "    .dataframe tbody tr th:only-of-type {\n",
       "        vertical-align: middle;\n",
       "    }\n",
       "\n",
       "    .dataframe tbody tr th {\n",
       "        vertical-align: top;\n",
       "    }\n",
       "\n",
       "    .dataframe thead th {\n",
       "        text-align: right;\n",
       "    }\n",
       "</style>\n",
       "<table border=\"1\" class=\"dataframe\">\n",
       "  <thead>\n",
       "    <tr style=\"text-align: right;\">\n",
       "      <th></th>\n",
       "      <th>accountNumber</th>\n",
       "      <th>customerId</th>\n",
       "      <th>transactionDateTime</th>\n",
       "      <th>merchantName</th>\n",
       "      <th>acqCountry</th>\n",
       "      <th>merchantCountryCode</th>\n",
       "      <th>posEntryMode</th>\n",
       "      <th>posConditionCode</th>\n",
       "      <th>merchantCategoryCode</th>\n",
       "      <th>currentExpDate</th>\n",
       "      <th>accountOpenDate</th>\n",
       "      <th>dateOfLastAddressChange</th>\n",
       "      <th>cardCVV</th>\n",
       "      <th>enteredCVV</th>\n",
       "      <th>cardLast4Digits</th>\n",
       "      <th>transactionType</th>\n",
       "      <th>echoBuffer</th>\n",
       "      <th>merchantCity</th>\n",
       "      <th>merchantState</th>\n",
       "      <th>merchantZip</th>\n",
       "      <th>cardPresent</th>\n",
       "      <th>posOnPremises</th>\n",
       "      <th>recurringAuthInd</th>\n",
       "      <th>expirationDateKeyInMatch</th>\n",
       "    </tr>\n",
       "  </thead>\n",
       "  <tbody>\n",
       "    <tr>\n",
       "      <th>0</th>\n",
       "      <td>737265056</td>\n",
       "      <td>737265056</td>\n",
       "      <td>2016-08-13 14:27:32</td>\n",
       "      <td>Uber</td>\n",
       "      <td>US</td>\n",
       "      <td>US</td>\n",
       "      <td>02</td>\n",
       "      <td>01</td>\n",
       "      <td>rideshare</td>\n",
       "      <td>06/2023</td>\n",
       "      <td>2015-03-14</td>\n",
       "      <td>2015-03-14</td>\n",
       "      <td>414</td>\n",
       "      <td>414</td>\n",
       "      <td>1803</td>\n",
       "      <td>PURCHASE</td>\n",
       "      <td></td>\n",
       "      <td></td>\n",
       "      <td></td>\n",
       "      <td></td>\n",
       "      <td>False</td>\n",
       "      <td></td>\n",
       "      <td></td>\n",
       "      <td>False</td>\n",
       "    </tr>\n",
       "    <tr>\n",
       "      <th>1</th>\n",
       "      <td>737265056</td>\n",
       "      <td>737265056</td>\n",
       "      <td>2016-10-11 05:05:54</td>\n",
       "      <td>AMC #191138</td>\n",
       "      <td>US</td>\n",
       "      <td>US</td>\n",
       "      <td>09</td>\n",
       "      <td>01</td>\n",
       "      <td>entertainment</td>\n",
       "      <td>02/2024</td>\n",
       "      <td>2015-03-14</td>\n",
       "      <td>2015-03-14</td>\n",
       "      <td>486</td>\n",
       "      <td>486</td>\n",
       "      <td>767</td>\n",
       "      <td>PURCHASE</td>\n",
       "      <td></td>\n",
       "      <td></td>\n",
       "      <td></td>\n",
       "      <td></td>\n",
       "      <td>True</td>\n",
       "      <td></td>\n",
       "      <td></td>\n",
       "      <td>False</td>\n",
       "    </tr>\n",
       "    <tr>\n",
       "      <th>2</th>\n",
       "      <td>737265056</td>\n",
       "      <td>737265056</td>\n",
       "      <td>2016-11-08 09:18:39</td>\n",
       "      <td>Play Store</td>\n",
       "      <td>US</td>\n",
       "      <td>US</td>\n",
       "      <td>09</td>\n",
       "      <td>01</td>\n",
       "      <td>mobileapps</td>\n",
       "      <td>08/2025</td>\n",
       "      <td>2015-03-14</td>\n",
       "      <td>2015-03-14</td>\n",
       "      <td>486</td>\n",
       "      <td>486</td>\n",
       "      <td>767</td>\n",
       "      <td>PURCHASE</td>\n",
       "      <td></td>\n",
       "      <td></td>\n",
       "      <td></td>\n",
       "      <td></td>\n",
       "      <td>False</td>\n",
       "      <td></td>\n",
       "      <td></td>\n",
       "      <td>False</td>\n",
       "    </tr>\n",
       "    <tr>\n",
       "      <th>3</th>\n",
       "      <td>737265056</td>\n",
       "      <td>737265056</td>\n",
       "      <td>2016-12-10 02:14:50</td>\n",
       "      <td>Play Store</td>\n",
       "      <td>US</td>\n",
       "      <td>US</td>\n",
       "      <td>09</td>\n",
       "      <td>01</td>\n",
       "      <td>mobileapps</td>\n",
       "      <td>08/2025</td>\n",
       "      <td>2015-03-14</td>\n",
       "      <td>2015-03-14</td>\n",
       "      <td>486</td>\n",
       "      <td>486</td>\n",
       "      <td>767</td>\n",
       "      <td>PURCHASE</td>\n",
       "      <td></td>\n",
       "      <td></td>\n",
       "      <td></td>\n",
       "      <td></td>\n",
       "      <td>False</td>\n",
       "      <td></td>\n",
       "      <td></td>\n",
       "      <td>False</td>\n",
       "    </tr>\n",
       "    <tr>\n",
       "      <th>4</th>\n",
       "      <td>830329091</td>\n",
       "      <td>830329091</td>\n",
       "      <td>2016-03-24 21:04:46</td>\n",
       "      <td>Tim Hortons #947751</td>\n",
       "      <td>US</td>\n",
       "      <td>US</td>\n",
       "      <td>02</td>\n",
       "      <td>01</td>\n",
       "      <td>fastfood</td>\n",
       "      <td>10/2029</td>\n",
       "      <td>2015-08-06</td>\n",
       "      <td>2015-08-06</td>\n",
       "      <td>885</td>\n",
       "      <td>885</td>\n",
       "      <td>3143</td>\n",
       "      <td>PURCHASE</td>\n",
       "      <td></td>\n",
       "      <td></td>\n",
       "      <td></td>\n",
       "      <td></td>\n",
       "      <td>True</td>\n",
       "      <td></td>\n",
       "      <td></td>\n",
       "      <td>False</td>\n",
       "    </tr>\n",
       "  </tbody>\n",
       "</table>\n",
       "</div>"
      ]
     },
     "execution_count": 185,
     "metadata": {},
     "output_type": "execute_result"
    }
   ],
   "execution_count": 185
  },
  {
   "metadata": {
    "ExecuteTime": {
     "end_time": "2024-08-04T10:29:27.754599Z",
     "start_time": "2024-08-04T10:29:12.840603Z"
    }
   },
   "cell_type": "code",
   "source": [
    "# replace empty strings with np.nan while downcasting the changed columns' data types\n",
    "pd.set_option('future.no_silent_downcasting', True)\n",
    "x_cat = x_cat.replace(r'^\\s*$', np.nan, regex=True)"
   ],
   "id": "c9bc803f79be20e",
   "outputs": [],
   "execution_count": 186
  },
  {
   "metadata": {
    "ExecuteTime": {
     "end_time": "2024-08-04T10:29:28.952601Z",
     "start_time": "2024-08-04T10:29:27.755600Z"
    }
   },
   "cell_type": "code",
   "source": [
    "# convert the datetime columns to datetime objects\n",
    "x_cat['accountOpenDate'] = pd.to_datetime(x_cat['accountOpenDate'])\n",
    "x_cat['dateOfLastAddressChange'] = pd.to_datetime(x_cat['dateOfLastAddressChange'])\n",
    "x_cat['transactionDateTime'] = pd.to_datetime(x_cat['transactionDateTime'])"
   ],
   "id": "5752157ec6542240",
   "outputs": [],
   "execution_count": 187
  },
  {
   "metadata": {
    "ExecuteTime": {
     "end_time": "2024-08-04T10:29:28.968599Z",
     "start_time": "2024-08-04T10:29:28.953603Z"
    }
   },
   "cell_type": "code",
   "source": [
    "# Convert the boolean columns ['cardPresent', 'expirationDateKeyInMatch] to integers\n",
    "x_cat['cardPresent'] = x_cat['cardPresent'].astype(int)\n",
    "x_cat['expirationDateKeyInMatch'] = x_cat['expirationDateKeyInMatch'].astype(int)"
   ],
   "id": "5ac065d6ad6fcb5d",
   "outputs": [],
   "execution_count": 188
  },
  {
   "metadata": {},
   "cell_type": "markdown",
   "source": [
    "## 3.4 Missing values \n",
    "\n",
    "- The label column has no missing values.\n",
    "- The numerical columns have no missing values.\n",
    "- The categorical columns have missing values. We'd like to be conservative and do imputations univariately and accordingly.\n",
    " 1. 3.4.1 Drop the six all NaN columns ['echoBuffer', 'merchantCity', 'merchantState', 'merchantZip', 'posOnPremises', 'recurringAuthInd']\n",
    " 2. 3.4.2 The column ['acqCountry'] has 4562 missing values. The missing seems to be most likely missing not at random(MNAR). The missing values will be imputed by the mode of the rows with the same ['accountNumber','cardLast4Digits'] columns' combination primarily or by ['accountNumber'] column itself secondarily.\n",
    " 3. 3.4.3 The column ['merchantCountryCode'] has 724 missing values. The missing seems to be most likely missing not at random(MNAR). The missing values will be imputed by the mode of the rows with ['merchantName'] column primarily .\n",
    " 4. 3.4.4  3.4.4 The column ['transactionType'] has 698 missing values. Due to lack of relative information, we simply label the missing values as 'Unknown' for now. \n",
    " 5. 3.4.5 The column ['posConditionCode'] has 409 missing values. Due to the contradicting code from transactions made at the same merchant, we simply label the missing values as 'Unknown' for now.\n",
    " 6. 3.4.6 The column ['posEntryMode'] has 4054 missing values. Due to the same reason as column ['posConditionCode'], we simply label the missing values as 'Unknown' for now.  "
   ],
   "id": "636be84195ad74c9"
  },
  {
   "metadata": {
    "ExecuteTime": {
     "end_time": "2024-08-04T10:29:29.960599Z",
     "start_time": "2024-08-04T10:29:28.970604Z"
    }
   },
   "cell_type": "code",
   "source": [
    "# make a copy of the as-is x_cat dataframe\n",
    "xc = x_cat.copy()"
   ],
   "id": "faab9bd819a1c59a",
   "outputs": [],
   "execution_count": 189
  },
  {
   "metadata": {
    "ExecuteTime": {
     "end_time": "2024-08-04T10:29:31.136605Z",
     "start_time": "2024-08-04T10:29:29.961603Z"
    }
   },
   "cell_type": "code",
   "source": [
    "# check the missing values in the rest columns\n",
    "x_cat.isna().sum().sort_values(ascending=False)"
   ],
   "id": "6a86cce5030117f4",
   "outputs": [
    {
     "data": {
      "text/plain": [
       "recurringAuthInd            786363\n",
       "posOnPremises               786363\n",
       "merchantZip                 786363\n",
       "merchantState               786363\n",
       "merchantCity                786363\n",
       "echoBuffer                  786363\n",
       "acqCountry                    4562\n",
       "posEntryMode                  4054\n",
       "merchantCountryCode            724\n",
       "transactionType                698\n",
       "posConditionCode               409\n",
       "accountNumber                    0\n",
       "cardLast4Digits                  0\n",
       "cardPresent                      0\n",
       "cardCVV                          0\n",
       "enteredCVV                       0\n",
       "customerId                       0\n",
       "dateOfLastAddressChange          0\n",
       "accountOpenDate                  0\n",
       "currentExpDate                   0\n",
       "merchantCategoryCode             0\n",
       "merchantName                     0\n",
       "transactionDateTime              0\n",
       "expirationDateKeyInMatch         0\n",
       "dtype: int64"
      ]
     },
     "execution_count": 190,
     "metadata": {},
     "output_type": "execute_result"
    }
   ],
   "execution_count": 190
  },
  {
   "metadata": {},
   "cell_type": "markdown",
   "source": [
    "### 3.4.1 Drop the six all NaN columns ['echoBuffer', 'merchantCity', 'merchantState', 'merchantZip', 'posOnPremises', 'recurringAuthInd'] \n",
    "\n",
    "There are empty strings in the dataset whom should be regarded as missing values, and we used the regular expression to convert the empty strings to np.nan. As a result, we found 6 columns, ['echoBuffer', 'merchantCity', 'merchantState', 'merchantZip', 'posOnPremises', 'recurringAuthInd'], are nothing but np.nans, mostly like they do it intentionally to anonymize some geographic and POS tags. Then drop them all."
   ],
   "id": "b9416d840709ec80"
  },
  {
   "metadata": {
    "ExecuteTime": {
     "end_time": "2024-08-04T10:29:32.129604Z",
     "start_time": "2024-08-04T10:29:31.138604Z"
    }
   },
   "cell_type": "code",
   "source": [
    "# drop the six all NaN columns\n",
    "x_cat.drop(columns=['echoBuffer', 'merchantCity', 'merchantState', 'merchantZip', 'posOnPremises', 'recurringAuthInd'], inplace=True)\n",
    "df.drop(columns=['echoBuffer', 'merchantCity', 'merchantState', 'merchantZip', 'posOnPremises', 'recurringAuthInd'], inplace=True)"
   ],
   "id": "c7ce28ba56872793",
   "outputs": [],
   "execution_count": 191
  },
  {
   "metadata": {},
   "cell_type": "markdown",
   "source": "",
   "id": "190e7ad11758b101"
  },
  {
   "metadata": {
    "ExecuteTime": {
     "end_time": "2024-08-04T10:29:33.489602Z",
     "start_time": "2024-08-04T10:29:32.131601Z"
    }
   },
   "cell_type": "code",
   "source": [
    "# check the missing values in the rest columns\n",
    "x_cat.isna().sum().sort_values(ascending=False)"
   ],
   "id": "2b9685871393703c",
   "outputs": [
    {
     "data": {
      "text/plain": [
       "acqCountry                  4562\n",
       "posEntryMode                4054\n",
       "merchantCountryCode          724\n",
       "transactionType              698\n",
       "posConditionCode             409\n",
       "accountNumber                  0\n",
       "dateOfLastAddressChange        0\n",
       "cardPresent                    0\n",
       "cardLast4Digits                0\n",
       "enteredCVV                     0\n",
       "cardCVV                        0\n",
       "currentExpDate                 0\n",
       "accountOpenDate                0\n",
       "customerId                     0\n",
       "merchantCategoryCode           0\n",
       "merchantName                   0\n",
       "transactionDateTime            0\n",
       "expirationDateKeyInMatch       0\n",
       "dtype: int64"
      ]
     },
     "execution_count": 192,
     "metadata": {},
     "output_type": "execute_result"
    }
   ],
   "execution_count": 192
  },
  {
   "metadata": {},
   "cell_type": "markdown",
   "source": [
    "### 3.4.2 The column ['acqCountry'] has 4,562 missing values.\n",
    "- Among the missing values in the 'acqCountry' column, 3.3% are fraudulent. They are most likely missing completely at random(MCAR), albeit sufficient checks on the group characteristics between the missing and non-missing.\n",
    "- The 4,562 transactions with missing values come from 1,495 accounts. \n",
    "- We will impute them by the mode of the rows with the same ['accountNumber'] primarily.\n",
    "- For 1,494 accounts that can have a mode value. Due to the fact the dataset is predominantly from the US customers, their modes are all US actually. \n",
    "- The remaining 1 account,'997884003', who has no record of 'acqCountry' only have 3 non-default transactions from apple's appstore, we will assume it with 'US' as well for now. They can also be dropped later on if they are not informative."
   ],
   "id": "afbf2b0ef883ea30"
  },
  {
   "metadata": {
    "ExecuteTime": {
     "end_time": "2024-08-04T10:29:33.713610Z",
     "start_time": "2024-08-04T10:29:33.491609Z"
    }
   },
   "cell_type": "code",
   "source": [
    "# check the missing values in the 'acqCountry' column's distribution by the label column\n",
    "y[x_cat['acqCountry'].isna()].value_counts()/ y[x_cat['acqCountry'].isna()].shape[0]"
   ],
   "id": "402b9dfb7f06a214",
   "outputs": [
    {
     "data": {
      "text/plain": [
       "isFraud\n",
       "0    0.967339\n",
       "1    0.032661\n",
       "Name: count, dtype: float64"
      ]
     },
     "execution_count": 193,
     "metadata": {},
     "output_type": "execute_result"
    }
   ],
   "execution_count": 193
  },
  {
   "metadata": {
    "ExecuteTime": {
     "end_time": "2024-08-04T10:29:34.979601Z",
     "start_time": "2024-08-04T10:29:33.715602Z"
    }
   },
   "cell_type": "code",
   "source": [
    "# check the unique values of the 'accountNumber' of the transactions having missing values in the 'acqCountry' column\n",
    "a = x_cat[x_cat['acqCountry'].isna()][['accountNumber']].drop_duplicates()\n",
    "# check the mode of the 'acqCountry' column by the ['accountNumber'] column's group\n",
    "b = x_cat[x_cat['accountNumber'].isin(a['accountNumber'])][['accountNumber','acqCountry']].groupby(['accountNumber']).agg(pd.Series.mode).astype(str)\n",
    "b['acqCountry'].value_counts().reset_index()"
   ],
   "id": "5a98bc9a5034988b",
   "outputs": [
    {
     "data": {
      "text/plain": [
       "  acqCountry  count\n",
       "0         US   1494\n",
       "1         []      1"
      ],
      "text/html": [
       "<div>\n",
       "<style scoped>\n",
       "    .dataframe tbody tr th:only-of-type {\n",
       "        vertical-align: middle;\n",
       "    }\n",
       "\n",
       "    .dataframe tbody tr th {\n",
       "        vertical-align: top;\n",
       "    }\n",
       "\n",
       "    .dataframe thead th {\n",
       "        text-align: right;\n",
       "    }\n",
       "</style>\n",
       "<table border=\"1\" class=\"dataframe\">\n",
       "  <thead>\n",
       "    <tr style=\"text-align: right;\">\n",
       "      <th></th>\n",
       "      <th>acqCountry</th>\n",
       "      <th>count</th>\n",
       "    </tr>\n",
       "  </thead>\n",
       "  <tbody>\n",
       "    <tr>\n",
       "      <th>0</th>\n",
       "      <td>US</td>\n",
       "      <td>1494</td>\n",
       "    </tr>\n",
       "    <tr>\n",
       "      <th>1</th>\n",
       "      <td>[]</td>\n",
       "      <td>1</td>\n",
       "    </tr>\n",
       "  </tbody>\n",
       "</table>\n",
       "</div>"
      ]
     },
     "execution_count": 194,
     "metadata": {},
     "output_type": "execute_result"
    }
   ],
   "execution_count": 194
  },
  {
   "metadata": {
    "ExecuteTime": {
     "end_time": "2024-08-04T10:29:34.995601Z",
     "start_time": "2024-08-04T10:29:34.980602Z"
    }
   },
   "cell_type": "code",
   "source": "b[b['acqCountry'] != 'US']",
   "id": "f131fd15ecd66b80",
   "outputs": [
    {
     "data": {
      "text/plain": [
       "              acqCountry\n",
       "accountNumber           \n",
       "997884003             []"
      ],
      "text/html": [
       "<div>\n",
       "<style scoped>\n",
       "    .dataframe tbody tr th:only-of-type {\n",
       "        vertical-align: middle;\n",
       "    }\n",
       "\n",
       "    .dataframe tbody tr th {\n",
       "        vertical-align: top;\n",
       "    }\n",
       "\n",
       "    .dataframe thead th {\n",
       "        text-align: right;\n",
       "    }\n",
       "</style>\n",
       "<table border=\"1\" class=\"dataframe\">\n",
       "  <thead>\n",
       "    <tr style=\"text-align: right;\">\n",
       "      <th></th>\n",
       "      <th>acqCountry</th>\n",
       "    </tr>\n",
       "    <tr>\n",
       "      <th>accountNumber</th>\n",
       "      <th></th>\n",
       "    </tr>\n",
       "  </thead>\n",
       "  <tbody>\n",
       "    <tr>\n",
       "      <th>997884003</th>\n",
       "      <td>[]</td>\n",
       "    </tr>\n",
       "  </tbody>\n",
       "</table>\n",
       "</div>"
      ]
     },
     "execution_count": 195,
     "metadata": {},
     "output_type": "execute_result"
    }
   ],
   "execution_count": 195
  },
  {
   "metadata": {
    "ExecuteTime": {
     "end_time": "2024-08-04T10:29:35.153600Z",
     "start_time": "2024-08-04T10:29:34.996602Z"
    }
   },
   "cell_type": "code",
   "source": "df[df['accountNumber']=='997884003']",
   "id": "fbc0a186d2890872",
   "outputs": [
    {
     "data": {
      "text/plain": [
       "       accountNumber customerId  creditLimit  availableMoney  \\\n",
       "107475     997884003  997884003       7500.0          7500.0   \n",
       "107476     997884003  997884003       7500.0          7500.0   \n",
       "107477     997884003  997884003       7500.0          7500.0   \n",
       "\n",
       "        transactionDateTime  transactionAmount  merchantName acqCountry  \\\n",
       "107475  2016-10-27 20:48:49               8.98  Apple iTunes              \n",
       "107476  2016-11-27 04:49:57               8.98  Apple iTunes              \n",
       "107477  2016-12-28 23:09:24               8.98  Apple iTunes              \n",
       "\n",
       "       merchantCountryCode posEntryMode posConditionCode merchantCategoryCode  \\\n",
       "107475                  US           09               08           mobileapps   \n",
       "107476                  US           09               08           mobileapps   \n",
       "107477                  US           09               08           mobileapps   \n",
       "\n",
       "       currentExpDate accountOpenDate dateOfLastAddressChange cardCVV  \\\n",
       "107475        12/2028      2014-11-20              2014-11-20     101   \n",
       "107476        12/2028      2014-11-20              2014-11-20     101   \n",
       "107477        12/2028      2014-11-20              2014-11-20     101   \n",
       "\n",
       "       enteredCVV cardLast4Digits transactionType  currentBalance  \\\n",
       "107475        101            9397        PURCHASE             0.0   \n",
       "107476        101            9397        PURCHASE             0.0   \n",
       "107477        101            9397        PURCHASE             0.0   \n",
       "\n",
       "        cardPresent  expirationDateKeyInMatch  isFraud  \n",
       "107475        False                     False    False  \n",
       "107476        False                     False    False  \n",
       "107477        False                     False    False  "
      ],
      "text/html": [
       "<div>\n",
       "<style scoped>\n",
       "    .dataframe tbody tr th:only-of-type {\n",
       "        vertical-align: middle;\n",
       "    }\n",
       "\n",
       "    .dataframe tbody tr th {\n",
       "        vertical-align: top;\n",
       "    }\n",
       "\n",
       "    .dataframe thead th {\n",
       "        text-align: right;\n",
       "    }\n",
       "</style>\n",
       "<table border=\"1\" class=\"dataframe\">\n",
       "  <thead>\n",
       "    <tr style=\"text-align: right;\">\n",
       "      <th></th>\n",
       "      <th>accountNumber</th>\n",
       "      <th>customerId</th>\n",
       "      <th>creditLimit</th>\n",
       "      <th>availableMoney</th>\n",
       "      <th>transactionDateTime</th>\n",
       "      <th>transactionAmount</th>\n",
       "      <th>merchantName</th>\n",
       "      <th>acqCountry</th>\n",
       "      <th>merchantCountryCode</th>\n",
       "      <th>posEntryMode</th>\n",
       "      <th>posConditionCode</th>\n",
       "      <th>merchantCategoryCode</th>\n",
       "      <th>currentExpDate</th>\n",
       "      <th>accountOpenDate</th>\n",
       "      <th>dateOfLastAddressChange</th>\n",
       "      <th>cardCVV</th>\n",
       "      <th>enteredCVV</th>\n",
       "      <th>cardLast4Digits</th>\n",
       "      <th>transactionType</th>\n",
       "      <th>currentBalance</th>\n",
       "      <th>cardPresent</th>\n",
       "      <th>expirationDateKeyInMatch</th>\n",
       "      <th>isFraud</th>\n",
       "    </tr>\n",
       "  </thead>\n",
       "  <tbody>\n",
       "    <tr>\n",
       "      <th>107475</th>\n",
       "      <td>997884003</td>\n",
       "      <td>997884003</td>\n",
       "      <td>7500.0</td>\n",
       "      <td>7500.0</td>\n",
       "      <td>2016-10-27 20:48:49</td>\n",
       "      <td>8.98</td>\n",
       "      <td>Apple iTunes</td>\n",
       "      <td></td>\n",
       "      <td>US</td>\n",
       "      <td>09</td>\n",
       "      <td>08</td>\n",
       "      <td>mobileapps</td>\n",
       "      <td>12/2028</td>\n",
       "      <td>2014-11-20</td>\n",
       "      <td>2014-11-20</td>\n",
       "      <td>101</td>\n",
       "      <td>101</td>\n",
       "      <td>9397</td>\n",
       "      <td>PURCHASE</td>\n",
       "      <td>0.0</td>\n",
       "      <td>False</td>\n",
       "      <td>False</td>\n",
       "      <td>False</td>\n",
       "    </tr>\n",
       "    <tr>\n",
       "      <th>107476</th>\n",
       "      <td>997884003</td>\n",
       "      <td>997884003</td>\n",
       "      <td>7500.0</td>\n",
       "      <td>7500.0</td>\n",
       "      <td>2016-11-27 04:49:57</td>\n",
       "      <td>8.98</td>\n",
       "      <td>Apple iTunes</td>\n",
       "      <td></td>\n",
       "      <td>US</td>\n",
       "      <td>09</td>\n",
       "      <td>08</td>\n",
       "      <td>mobileapps</td>\n",
       "      <td>12/2028</td>\n",
       "      <td>2014-11-20</td>\n",
       "      <td>2014-11-20</td>\n",
       "      <td>101</td>\n",
       "      <td>101</td>\n",
       "      <td>9397</td>\n",
       "      <td>PURCHASE</td>\n",
       "      <td>0.0</td>\n",
       "      <td>False</td>\n",
       "      <td>False</td>\n",
       "      <td>False</td>\n",
       "    </tr>\n",
       "    <tr>\n",
       "      <th>107477</th>\n",
       "      <td>997884003</td>\n",
       "      <td>997884003</td>\n",
       "      <td>7500.0</td>\n",
       "      <td>7500.0</td>\n",
       "      <td>2016-12-28 23:09:24</td>\n",
       "      <td>8.98</td>\n",
       "      <td>Apple iTunes</td>\n",
       "      <td></td>\n",
       "      <td>US</td>\n",
       "      <td>09</td>\n",
       "      <td>08</td>\n",
       "      <td>mobileapps</td>\n",
       "      <td>12/2028</td>\n",
       "      <td>2014-11-20</td>\n",
       "      <td>2014-11-20</td>\n",
       "      <td>101</td>\n",
       "      <td>101</td>\n",
       "      <td>9397</td>\n",
       "      <td>PURCHASE</td>\n",
       "      <td>0.0</td>\n",
       "      <td>False</td>\n",
       "      <td>False</td>\n",
       "      <td>False</td>\n",
       "    </tr>\n",
       "  </tbody>\n",
       "</table>\n",
       "</div>"
      ]
     },
     "execution_count": 196,
     "metadata": {},
     "output_type": "execute_result"
    }
   ],
   "execution_count": 196
  },
  {
   "metadata": {
    "ExecuteTime": {
     "end_time": "2024-08-04T10:29:35.264599Z",
     "start_time": "2024-08-04T10:29:35.154602Z"
    }
   },
   "cell_type": "code",
   "source": [
    "# impute 'acqCountry' as US for its missing for all accounts for now\n",
    "x_cat.loc[x_cat['acqCountry'].isna(),'acqCountry'] = 'US'"
   ],
   "id": "b4e20c94cf2cd55d",
   "outputs": [],
   "execution_count": 197
  },
  {
   "metadata": {},
   "cell_type": "markdown",
   "source": [
    "### 3.4.3 The column ['merchantCountryCode'] has 724 missing values.\n",
    "- Among the missing values in the 'acqCountry' column, 1.1% are fraudulent. They are most likely missing completely at random(MCAR), albeit sufficient checks on the group characteristics between the missing and non-missing.\n",
    "- The 724 transactions with missing values come from 293 merchants. \n",
    "- We will impute them by the mode of the rows with the same ['merchantName'] primarily.\n",
    "- Due to the fact the dataset is predominantly from the US merchants, their modes are all US. "
   ],
   "id": "d5cd108e36146aa0"
  },
  {
   "metadata": {
    "ExecuteTime": {
     "end_time": "2024-08-04T10:29:35.469598Z",
     "start_time": "2024-08-04T10:29:35.265606Z"
    }
   },
   "cell_type": "code",
   "source": [
    "# check the missing values in the ['merchantCountryCode'] column's distribution by the label column\n",
    "y[x_cat['merchantCountryCode'].isna()].value_counts()/ y[x_cat['merchantCountryCode'].isna()].shape[0]"
   ],
   "id": "1ccf0fd69b454f04",
   "outputs": [
    {
     "data": {
      "text/plain": [
       "isFraud\n",
       "0    0.88674\n",
       "1    0.11326\n",
       "Name: count, dtype: float64"
      ]
     },
     "execution_count": 198,
     "metadata": {},
     "output_type": "execute_result"
    }
   ],
   "execution_count": 198
  },
  {
   "metadata": {
    "ExecuteTime": {
     "end_time": "2024-08-04T10:29:36.562601Z",
     "start_time": "2024-08-04T10:29:35.470602Z"
    }
   },
   "cell_type": "code",
   "source": [
    "# check the unique values of the ['merchantName','merchantCategoryCode'] of the transactions having missing values in the 'merchantCountryCode' column\n",
    "a = x_cat[x_cat['merchantCountryCode'].isna()][['merchantCountryCode','merchantName','merchantCategoryCode']].drop_duplicates()\n",
    "# check the mode of the 'merchantCountryCode' column by the 'merchantName' column's group\n",
    "b = x_cat[x_cat['merchantName'].isin(a['merchantName'])][['merchantName','merchantCountryCode']].groupby(['merchantName']).agg(pd.Series.mode).astype(str)\n",
    "b['merchantCountryCode'].value_counts().reset_index()"
   ],
   "id": "40ab4a55726135",
   "outputs": [
    {
     "data": {
      "text/plain": [
       "  merchantCountryCode  count\n",
       "0                  US    293"
      ],
      "text/html": [
       "<div>\n",
       "<style scoped>\n",
       "    .dataframe tbody tr th:only-of-type {\n",
       "        vertical-align: middle;\n",
       "    }\n",
       "\n",
       "    .dataframe tbody tr th {\n",
       "        vertical-align: top;\n",
       "    }\n",
       "\n",
       "    .dataframe thead th {\n",
       "        text-align: right;\n",
       "    }\n",
       "</style>\n",
       "<table border=\"1\" class=\"dataframe\">\n",
       "  <thead>\n",
       "    <tr style=\"text-align: right;\">\n",
       "      <th></th>\n",
       "      <th>merchantCountryCode</th>\n",
       "      <th>count</th>\n",
       "    </tr>\n",
       "  </thead>\n",
       "  <tbody>\n",
       "    <tr>\n",
       "      <th>0</th>\n",
       "      <td>US</td>\n",
       "      <td>293</td>\n",
       "    </tr>\n",
       "  </tbody>\n",
       "</table>\n",
       "</div>"
      ]
     },
     "execution_count": 199,
     "metadata": {},
     "output_type": "execute_result"
    }
   ],
   "execution_count": 199
  },
  {
   "metadata": {
    "ExecuteTime": {
     "end_time": "2024-08-04T10:29:36.672599Z",
     "start_time": "2024-08-04T10:29:36.563604Z"
    }
   },
   "cell_type": "code",
   "source": [
    "# impute 'merchantCountryCode' as US for its missing for all merchants\n",
    "x_cat.loc[x_cat['merchantCountryCode'].isna(),'merchantCountryCode'] = 'US'"
   ],
   "id": "ee365a3f3b7111b9",
   "outputs": [],
   "execution_count": 200
  },
  {
   "metadata": {},
   "cell_type": "markdown",
   "source": [
    "### 3.4.4 The column ['transactionType'] has 698 missing values.\n",
    "- Among the missing values in the 'acqCountry' column, 2.0% are fraudulent. They are most likely missing completely at random(MCAR), albeit sufficient checks on the group characteristics between the missing and non-missing.\n",
    "- Due to lack of relative information, we simply label the missing values as 'Unknown' for now. "
   ],
   "id": "956ef229c656231c"
  },
  {
   "metadata": {
    "ExecuteTime": {
     "end_time": "2024-08-04T10:29:36.829599Z",
     "start_time": "2024-08-04T10:29:36.674605Z"
    }
   },
   "cell_type": "code",
   "source": "x_cat['transactionType'].value_counts(dropna=False)",
   "id": "87c014bb42bbb58b",
   "outputs": [
    {
     "data": {
      "text/plain": [
       "transactionType\n",
       "PURCHASE                745193\n",
       "REVERSAL                 20303\n",
       "ADDRESS_VERIFICATION     20169\n",
       "NaN                        698\n",
       "Name: count, dtype: int64"
      ]
     },
     "execution_count": 201,
     "metadata": {},
     "output_type": "execute_result"
    }
   ],
   "execution_count": 201
  },
  {
   "metadata": {
    "ExecuteTime": {
     "end_time": "2024-08-04T10:29:37.037599Z",
     "start_time": "2024-08-04T10:29:36.830605Z"
    }
   },
   "cell_type": "code",
   "source": "y[x_cat['transactionType'].isna()].value_counts()/ y[x_cat['transactionType'].isna()].shape[0]",
   "id": "d8e2179e22fa1518",
   "outputs": [
    {
     "data": {
      "text/plain": [
       "isFraud\n",
       "0    0.979943\n",
       "1    0.020057\n",
       "Name: count, dtype: float64"
      ]
     },
     "execution_count": 202,
     "metadata": {},
     "output_type": "execute_result"
    }
   ],
   "execution_count": 202
  },
  {
   "metadata": {
    "ExecuteTime": {
     "end_time": "2024-08-04T10:29:37.149600Z",
     "start_time": "2024-08-04T10:29:37.038603Z"
    }
   },
   "cell_type": "code",
   "source": [
    "# impute 'transactionType' as 'Unknown' for its missing for all transactions\n",
    "x_cat.loc[x_cat['transactionType'].isna(),'transactionType'] = 'Unknown'"
   ],
   "id": "91ed62e953a4af25",
   "outputs": [],
   "execution_count": 203
  },
  {
   "metadata": {},
   "cell_type": "markdown",
   "source": [
    "### 3.4.5 The column ['posConditionCode'] has 409 missing values.\n",
    "- Among the missing values in the 'acqCountry' column, 5.4% are fraudulent. They are most likely missing completely at random(MCAR), albeit sufficient checks on the group characteristics between the missing and non-missing.\n",
    "- Due to the contradicting code from transactions made at the same merchant, we simply label the missing values as 'Unknown' for now. "
   ],
   "id": "f1a496bebf15f172"
  },
  {
   "metadata": {
    "ExecuteTime": {
     "end_time": "2024-08-04T10:29:37.370599Z",
     "start_time": "2024-08-04T10:29:37.155603Z"
    }
   },
   "cell_type": "code",
   "source": [
    "# check the missing values in the ['merchantCountryCode'] column's distribution by the label column\n",
    "y[x_cat['posConditionCode'].isna()].value_counts()/ y[x_cat['posConditionCode'].isna()].shape[0]"
   ],
   "id": "4cea7cefb55a0601",
   "outputs": [
    {
     "data": {
      "text/plain": [
       "isFraud\n",
       "0    0.94621\n",
       "1    0.05379\n",
       "Name: count, dtype: float64"
      ]
     },
     "execution_count": 204,
     "metadata": {},
     "output_type": "execute_result"
    }
   ],
   "execution_count": 204
  },
  {
   "metadata": {
    "ExecuteTime": {
     "end_time": "2024-08-04T10:29:37.513605Z",
     "start_time": "2024-08-04T10:29:37.371602Z"
    }
   },
   "cell_type": "code",
   "source": "x_cat['posConditionCode'].value_counts(dropna=False)",
   "id": "b0287e1d9e78c244",
   "outputs": [
    {
     "data": {
      "text/plain": [
       "posConditionCode\n",
       "01     628787\n",
       "08     149634\n",
       "99       7533\n",
       "NaN       409\n",
       "Name: count, dtype: int64"
      ]
     },
     "execution_count": 205,
     "metadata": {},
     "output_type": "execute_result"
    }
   ],
   "execution_count": 205
  },
  {
   "metadata": {
    "ExecuteTime": {
     "end_time": "2024-08-04T10:29:37.670599Z",
     "start_time": "2024-08-04T10:29:37.515605Z"
    }
   },
   "cell_type": "code",
   "source": "x_cat.loc[x_cat['posConditionCode'].isna(),['merchantName']].value_counts(dropna=False) ",
   "id": "dea6ac53ee86070a",
   "outputs": [
    {
     "data": {
      "text/plain": [
       "merchantName        \n",
       "Shell Gas #256420       25\n",
       "Lyft                    19\n",
       "walmart.com             15\n",
       "Uber                    13\n",
       "cheapfast.com           12\n",
       "                        ..\n",
       "Franks Pub #960098       1\n",
       "Franks Sandwitch Bar     1\n",
       "Golds Gym #195674        1\n",
       "Hardee's #758387         1\n",
       "williamssonoma.com       1\n",
       "Name: count, Length: 190, dtype: int64"
      ]
     },
     "execution_count": 206,
     "metadata": {},
     "output_type": "execute_result"
    }
   ],
   "execution_count": 206
  },
  {
   "metadata": {
    "ExecuteTime": {
     "end_time": "2024-08-04T10:29:37.797601Z",
     "start_time": "2024-08-04T10:29:37.672601Z"
    }
   },
   "cell_type": "code",
   "source": "x_cat.loc[(x_cat['merchantName'] == 'Shell Gas #256420') ,'posConditionCode'].value_counts(dropna=False)",
   "id": "15988fb406f538f6",
   "outputs": [
    {
     "data": {
      "text/plain": [
       "posConditionCode\n",
       "01     185\n",
       "NaN     25\n",
       "08      14\n",
       "Name: count, dtype: int64"
      ]
     },
     "execution_count": 207,
     "metadata": {},
     "output_type": "execute_result"
    }
   ],
   "execution_count": 207
  },
  {
   "metadata": {
    "ExecuteTime": {
     "end_time": "2024-08-04T10:29:37.940600Z",
     "start_time": "2024-08-04T10:29:37.798603Z"
    }
   },
   "cell_type": "code",
   "source": "x_cat.loc[x_cat['merchantName'] == 'Lyft','posConditionCode'].value_counts(dropna=False)",
   "id": "754597eda9773343",
   "outputs": [
    {
     "data": {
      "text/plain": [
       "posConditionCode\n",
       "01     20284\n",
       "08      4974\n",
       "99       246\n",
       "NaN       19\n",
       "Name: count, dtype: int64"
      ]
     },
     "execution_count": 208,
     "metadata": {},
     "output_type": "execute_result"
    }
   ],
   "execution_count": 208
  },
  {
   "metadata": {
    "ExecuteTime": {
     "end_time": "2024-08-04T10:29:38.081602Z",
     "start_time": "2024-08-04T10:29:37.942604Z"
    }
   },
   "cell_type": "code",
   "source": "x_cat.loc[x_cat['merchantName'] == 'walmart.com','posConditionCode'].value_counts(dropna=False)",
   "id": "80aef068da2c8f3d",
   "outputs": [
    {
     "data": {
      "text/plain": [
       "posConditionCode\n",
       "01     13447\n",
       "08      3246\n",
       "99       165\n",
       "NaN       15\n",
       "Name: count, dtype: int64"
      ]
     },
     "execution_count": 209,
     "metadata": {},
     "output_type": "execute_result"
    }
   ],
   "execution_count": 209
  },
  {
   "metadata": {
    "ExecuteTime": {
     "end_time": "2024-08-04T10:29:38.193600Z",
     "start_time": "2024-08-04T10:29:38.082604Z"
    }
   },
   "cell_type": "code",
   "source": [
    "# impute 'posConditionCode' as 'Unknown' for its missing for all transactions\n",
    "x_cat.loc[x_cat['posConditionCode'].isna(),'posConditionCode'] = 'Unknown'"
   ],
   "id": "9fc4c7d93bb05a53",
   "outputs": [],
   "execution_count": 210
  },
  {
   "metadata": {},
   "cell_type": "markdown",
   "source": [
    "### 3.4.6 The column ['posEntryMode'] has 4,054 missing values.\n",
    "- Among the missing values in the 'acqCountry' column, 6.6% are fraudulent. They are most likely missing completely at random(MCAR), albeit sufficient checks on the group characteristics between the missing and non-missing.\n",
    "- Due to the same reason as column ['posConditionCode'], we simply label the missing values as 'Unknown' for now. "
   ],
   "id": "8683c243f895ff43"
  },
  {
   "metadata": {
    "ExecuteTime": {
     "end_time": "2024-08-04T10:29:38.384601Z",
     "start_time": "2024-08-04T10:29:38.195606Z"
    }
   },
   "cell_type": "code",
   "source": [
    "# check the missing values in the ['posEntryMode'] column's distribution by the label column\n",
    "y[x_cat['posEntryMode'].isna()].value_counts()/ y[x_cat['posEntryMode'].isna()].shape[0]"
   ],
   "id": "d4cd65266df38580",
   "outputs": [
    {
     "data": {
      "text/plain": [
       "isFraud\n",
       "0    0.933646\n",
       "1    0.066354\n",
       "Name: count, dtype: float64"
      ]
     },
     "execution_count": 211,
     "metadata": {},
     "output_type": "execute_result"
    }
   ],
   "execution_count": 211
  },
  {
   "metadata": {
    "ExecuteTime": {
     "end_time": "2024-08-04T10:29:38.494599Z",
     "start_time": "2024-08-04T10:29:38.385602Z"
    }
   },
   "cell_type": "code",
   "source": [
    "# impute 'posEntryMode' as 'Unknown' for its missing for all transactions\n",
    "x_cat.loc[x_cat['posEntryMode'].isna(),'posEntryMode'] = 'Unknown'"
   ],
   "id": "f197351563738210",
   "outputs": [],
   "execution_count": 212
  },
  {
   "metadata": {
    "ExecuteTime": {
     "end_time": "2024-08-04T10:29:39.633605Z",
     "start_time": "2024-08-04T10:29:38.496617Z"
    }
   },
   "cell_type": "code",
   "source": [
    "# verify all missing values have been imputed\n",
    "x_cat.isna().sum().sum()"
   ],
   "id": "2d2bb667c4fea3cc",
   "outputs": [
    {
     "data": {
      "text/plain": [
       "0"
      ]
     },
     "execution_count": 213,
     "metadata": {},
     "output_type": "execute_result"
    }
   ],
   "execution_count": 213
  },
  {
   "metadata": {},
   "cell_type": "markdown",
   "source": [
    "## 3.5 Outliers \n",
    "- As aforementioned, the numerical columns display wide ranges and gigantic skewness. So, we will Box-Cox transform them to make them more Gaussian-like, then use eye-balling and the Tukey's fences method to detect the outliers and cap them by the fences.\n",
    "- It's obvious that our 4 numerical columns are highly correlated by definition. Thus, we only need to detect and handle the outliers for the Box-Cox transformed ['creditLimit','transactionAmount','availableMoney'] columns.\n",
    "- Since we plan to work with Box-Cox transformed columns in the modeling phase, so we will be conservative in the outlier detection and cap them by the Tukey's fences method with k=2.\n",
    "- As a result, 11 outliers are detected with transaction amount higher than 1680.00, and they are all non-fraudulent transactions.\n"
   ],
   "id": "41b7d7158fc3b155"
  },
  {
   "metadata": {
    "ExecuteTime": {
     "end_time": "2024-08-04T10:29:39.824599Z",
     "start_time": "2024-08-04T10:29:39.634603Z"
    }
   },
   "cell_type": "code",
   "source": [
    "# Box-Cox transformation every ['creditLimit','transactionAmount','availableMoney'] column in x_num with lambda=0.25\n",
    "x_num_bc = x_num.copy()\n",
    "x_num_bc['bc_creditLimit'] = sp.stats.boxcox(x_num['creditLimit'],lmbda=0.25)\n",
    "x_num_bc['bc_transactionAmount'] = sp.stats.boxcox(x_num['transactionAmount'],lmbda=0.25)\n",
    "x_num_bc['bc_availableMoney'] = sp.stats.boxcox(x_num['availableMoney'],lmbda=0.25)\n",
    "# drop the original columns\n",
    "x_num_bc.drop(columns=['creditLimit','transactionAmount','availableMoney'], inplace=True)\n",
    "# hstack x_xum_bc with y\n",
    "x_num_bc = pd.concat([x_num_bc, y], axis=1)"
   ],
   "id": "84a01f70e4efd2cd",
   "outputs": [],
   "execution_count": 214
  },
  {
   "metadata": {
    "ExecuteTime": {
     "end_time": "2024-08-04T10:29:39.983604Z",
     "start_time": "2024-08-04T10:29:39.825603Z"
    }
   },
   "cell_type": "code",
   "source": "x_num_bc.describe()",
   "id": "d024db022b6a981e",
   "outputs": [
    {
     "data": {
      "text/plain": [
       "       currentBalance  bc_creditLimit  bc_transactionAmount  \\\n",
       "count   786363.000000   786363.000000         786363.000000   \n",
       "mean      4508.739089       32.962360              8.045755   \n",
       "std       6457.442068       10.124805              4.109909   \n",
       "min          0.000000       11.905415             -4.000000   \n",
       "25%        689.910000       29.635857              5.633991   \n",
       "50%       2451.760000       33.224194              8.247775   \n",
       "75%       5291.095000       40.267277             10.879586   \n",
       "max      47498.810000       55.813951             22.788115   \n",
       "\n",
       "       bc_availableMoney        isFraud  \n",
       "count      783432.000000  786363.000000  \n",
       "mean           26.692054       0.015790  \n",
       "std            10.489219       0.124664  \n",
       "min            -2.108517       0.000000  \n",
       "25%            19.016807       0.000000  \n",
       "50%            26.103727       0.000000  \n",
       "75%            33.224194       0.000000  \n",
       "max            55.813951       1.000000  "
      ],
      "text/html": [
       "<div>\n",
       "<style scoped>\n",
       "    .dataframe tbody tr th:only-of-type {\n",
       "        vertical-align: middle;\n",
       "    }\n",
       "\n",
       "    .dataframe tbody tr th {\n",
       "        vertical-align: top;\n",
       "    }\n",
       "\n",
       "    .dataframe thead th {\n",
       "        text-align: right;\n",
       "    }\n",
       "</style>\n",
       "<table border=\"1\" class=\"dataframe\">\n",
       "  <thead>\n",
       "    <tr style=\"text-align: right;\">\n",
       "      <th></th>\n",
       "      <th>currentBalance</th>\n",
       "      <th>bc_creditLimit</th>\n",
       "      <th>bc_transactionAmount</th>\n",
       "      <th>bc_availableMoney</th>\n",
       "      <th>isFraud</th>\n",
       "    </tr>\n",
       "  </thead>\n",
       "  <tbody>\n",
       "    <tr>\n",
       "      <th>count</th>\n",
       "      <td>786363.000000</td>\n",
       "      <td>786363.000000</td>\n",
       "      <td>786363.000000</td>\n",
       "      <td>783432.000000</td>\n",
       "      <td>786363.000000</td>\n",
       "    </tr>\n",
       "    <tr>\n",
       "      <th>mean</th>\n",
       "      <td>4508.739089</td>\n",
       "      <td>32.962360</td>\n",
       "      <td>8.045755</td>\n",
       "      <td>26.692054</td>\n",
       "      <td>0.015790</td>\n",
       "    </tr>\n",
       "    <tr>\n",
       "      <th>std</th>\n",
       "      <td>6457.442068</td>\n",
       "      <td>10.124805</td>\n",
       "      <td>4.109909</td>\n",
       "      <td>10.489219</td>\n",
       "      <td>0.124664</td>\n",
       "    </tr>\n",
       "    <tr>\n",
       "      <th>min</th>\n",
       "      <td>0.000000</td>\n",
       "      <td>11.905415</td>\n",
       "      <td>-4.000000</td>\n",
       "      <td>-2.108517</td>\n",
       "      <td>0.000000</td>\n",
       "    </tr>\n",
       "    <tr>\n",
       "      <th>25%</th>\n",
       "      <td>689.910000</td>\n",
       "      <td>29.635857</td>\n",
       "      <td>5.633991</td>\n",
       "      <td>19.016807</td>\n",
       "      <td>0.000000</td>\n",
       "    </tr>\n",
       "    <tr>\n",
       "      <th>50%</th>\n",
       "      <td>2451.760000</td>\n",
       "      <td>33.224194</td>\n",
       "      <td>8.247775</td>\n",
       "      <td>26.103727</td>\n",
       "      <td>0.000000</td>\n",
       "    </tr>\n",
       "    <tr>\n",
       "      <th>75%</th>\n",
       "      <td>5291.095000</td>\n",
       "      <td>40.267277</td>\n",
       "      <td>10.879586</td>\n",
       "      <td>33.224194</td>\n",
       "      <td>0.000000</td>\n",
       "    </tr>\n",
       "    <tr>\n",
       "      <th>max</th>\n",
       "      <td>47498.810000</td>\n",
       "      <td>55.813951</td>\n",
       "      <td>22.788115</td>\n",
       "      <td>55.813951</td>\n",
       "      <td>1.000000</td>\n",
       "    </tr>\n",
       "  </tbody>\n",
       "</table>\n",
       "</div>"
      ]
     },
     "execution_count": 215,
     "metadata": {},
     "output_type": "execute_result"
    }
   ],
   "execution_count": 215
  },
  {
   "metadata": {
    "ExecuteTime": {
     "end_time": "2024-08-04T10:29:54.757599Z",
     "start_time": "2024-08-04T10:29:39.985601Z"
    }
   },
   "cell_type": "code",
   "source": [
    "# use seaborn to check the histograms of the Box-Cox transformed ['creditLimit','transactionAmount','availableMoney'] columns of isFraud=0or1 group separately with the kde on \n",
    "fig, ax = plt.subplots(1,3, figsize=(18,6))\n",
    "sns.histplot(x_num_bc, x='bc_creditLimit', hue='isFraud', kde=True, ax=ax[0], palette='coolwarm')\n",
    "sns.histplot(x_num_bc, x='bc_transactionAmount', hue='isFraud', kde=True, ax=ax[1], palette='coolwarm')\n",
    "sns.histplot(x_num_bc, x='bc_availableMoney', hue='isFraud', kde=True, ax=ax[2], palette='coolwarm')\n",
    "plt.show()"
   ],
   "id": "d950da8db943688e",
   "outputs": [
    {
     "data": {
      "text/plain": [
       "<Figure size 1800x600 with 3 Axes>"
      ],
      "image/png": "[encoded data removed]"
     },
     "metadata": {},
     "output_type": "display_data"
    }
   ],
   "execution_count": 216
  },
  {
   "metadata": {
    "ExecuteTime": {
     "end_time": "2024-08-04T10:30:01.020599Z",
     "start_time": "2024-08-04T10:29:54.759607Z"
    }
   },
   "cell_type": "code",
   "source": [
    "# use sns to plot the boxplot of the Box-Cox transformed ['creditLimit','transactionAmount','availableMoney'] columns isFraud=0or1 group with different color\n",
    "fig, ax = plt.subplots(1,3, figsize=(18,6))\n",
    "sns.boxplot(x='isFraud', y='bc_creditLimit', data=x_num_bc, ax=ax[0], hue='isFraud', palette='coolwarm')\n",
    "sns.boxplot(x='isFraud', y='bc_transactionAmount', data=x_num_bc, ax=ax[1], hue='isFraud',palette='coolwarm')\n",
    "sns.boxplot(x='isFraud', y='bc_availableMoney', data=x_num_bc, ax=ax[2], hue='isFraud',palette='coolwarm')\n",
    "plt.show()"
   ],
   "id": "24e2f6d0a56f7fc5",
   "outputs": [
    {
     "data": {
      "text/plain": [
       "<Figure size 1800x600 with 3 Axes>"
      ],
      "image/png": "[encoded data removed]"
     },
     "metadata": {},
     "output_type": "display_data"
    }
   ],
   "execution_count": 217
  },
  {
   "metadata": {
    "ExecuteTime": {
     "end_time": "2024-08-04T10:30:01.099599Z",
     "start_time": "2024-08-04T10:30:01.021602Z"
    }
   },
   "cell_type": "code",
   "source": [
    "# use the Tukey's fense method to detect the outliers in the Box-Cox transformed ['creditLimit','transactionAmount','availableMoney'] columns\n",
    "k = 2\n",
    "def tukey_fences(x, k):\n",
    "    q1 = x.quantile(0.25)\n",
    "    q3 = x.quantile(0.75)\n",
    "    iqr = q3 - q1\n",
    "    return (x < (q1 - k * iqr)) | (x > (q3 + k * iqr))\n",
    "a = tukey_fences(x_num_bc['bc_creditLimit'],k=k).sum()\n",
    "b = tukey_fences(x_num_bc['bc_transactionAmount'],k=k).sum()\n",
    "c = tukey_fences(x_num_bc['bc_availableMoney'],k=k).sum()\n",
    "print(f'bc_creditLimit has {a} outliers when we set the k = {k}.')\n",
    "print(f'bc_transactionAmount has {b} outliers when we set the k = {k}.')\n",
    "print(f'bc_availableMoney has {c} outliers when we set the k = {k}.')"
   ],
   "id": "9055b08290ea2484",
   "outputs": [
    {
     "name": "stdout",
     "output_type": "stream",
     "text": [
      "bc_creditLimit has 0 outliers when we set the k = 2.\n",
      "bc_transactionAmount has 11 outliers when we set the k = 2.\n",
      "bc_availableMoney has 0 outliers when we set the k = 2.\n"
     ]
    }
   ],
   "execution_count": 218
  },
  {
   "metadata": {
    "ExecuteTime": {
     "end_time": "2024-08-04T10:30:01.163599Z",
     "start_time": "2024-08-04T10:30:01.100604Z"
    }
   },
   "cell_type": "code",
   "source": [
    "# find the top 11 transactions with the largest transactionAmount\n",
    "outlier_index = x_num.nlargest(11, 'transactionAmount').index\n",
    "df.loc[outlier_index].sort_values(['transactionAmount'], ascending=False)"
   ],
   "id": "637b0a1b00154ed8",
   "outputs": [
    {
     "data": {
      "text/plain": [
       "       accountNumber customerId  creditLimit  availableMoney  \\\n",
       "380125     716595213  716595213      50000.0        47991.66   \n",
       "498620     875460072  875460072      20000.0        18259.98   \n",
       "673073     726728113  726728113      15000.0        10484.42   \n",
       "778423     748247730  748247730      10000.0         9006.27   \n",
       "424567     710219416  710219416       2500.0         1129.87   \n",
       "612391     614394290  614394290      15000.0         4225.92   \n",
       "679917     380083836  380083836       5000.0          346.02   \n",
       "371878     865635967  865635967        500.0          142.21   \n",
       "308817     654507597  654507597        500.0          480.98   \n",
       "501537     788948518  788948518      15000.0        15000.00   \n",
       "367498     428730538  428730538       5000.0          507.05   \n",
       "\n",
       "        transactionDateTime  transactionAmount  \\\n",
       "380125  2016-03-28 11:25:42            2011.54   \n",
       "498620  2016-05-23 20:09:24            1905.30   \n",
       "673073  2016-02-26 00:45:21            1873.97   \n",
       "778423  2016-04-26 20:14:53            1780.60   \n",
       "424567  2016-10-05 05:06:51            1772.63   \n",
       "612391  2016-09-12 15:41:39            1767.50   \n",
       "679917  2016-10-28 20:36:51            1710.13   \n",
       "371878  2016-12-26 07:48:01            1707.80   \n",
       "308817  2016-07-20 23:33:20            1704.55   \n",
       "501537  2016-12-01 21:07:03            1693.36   \n",
       "367498  2016-10-14 13:49:27            1689.71   \n",
       "\n",
       "                          merchantName acqCountry merchantCountryCode  \\\n",
       "380125                    discount.com         US                  US   \n",
       "498620                In-N-Out #659625         US                  US   \n",
       "673073  Dinosaur Sandwitch Bar #249717         US                  US   \n",
       "778423                     alibaba.com         US                  US   \n",
       "424567             Burger King #862268         US                  US   \n",
       "612391          Planet Fitness #527068         US                  US   \n",
       "679917                    Ricks Repair         US                  US   \n",
       "371878                34th BBQ #436606         US                  US   \n",
       "308817             Shake Shack #235531         US                  US   \n",
       "501537             Shake Shack #235531         US                  US   \n",
       "367498            Krispy Kreme #375200         US                  US   \n",
       "\n",
       "       posEntryMode posConditionCode merchantCategoryCode currentExpDate  \\\n",
       "380125           05               01        online_retail        03/2027   \n",
       "498620           05               08             fastfood        03/2029   \n",
       "673073           02               01                 food        10/2032   \n",
       "778423           05               01        online_retail        05/2021   \n",
       "424567           05               01             fastfood        01/2028   \n",
       "612391           05               01               health        08/2021   \n",
       "679917           09               08                 auto        01/2032   \n",
       "371878           05               01                 food        03/2032   \n",
       "308817           02               01             fastfood        12/2021   \n",
       "501537           09               01             fastfood        05/2022   \n",
       "367498           02               01             fastfood        06/2028   \n",
       "\n",
       "       accountOpenDate dateOfLastAddressChange cardCVV enteredCVV  \\\n",
       "380125      2015-06-28              2015-06-28     278        278   \n",
       "498620      2015-12-28              2015-12-28     443        443   \n",
       "673073      2010-11-09              2010-11-09     319        319   \n",
       "778423      2012-09-06              2012-09-06     607        607   \n",
       "424567      2009-05-19              2016-02-07     449        449   \n",
       "612391      2015-01-12              2015-01-12     233        233   \n",
       "679917      2015-12-23              2016-10-21     738        738   \n",
       "371878      2015-04-23              2016-12-12     909        909   \n",
       "308817      2013-11-23              2016-07-02     748        748   \n",
       "501537      2014-12-05              2016-06-29     115        115   \n",
       "367498      2014-03-18              2016-01-19     988        988   \n",
       "\n",
       "       cardLast4Digits transactionType  currentBalance  cardPresent  \\\n",
       "380125            4457        PURCHASE         2008.34        False   \n",
       "498620            2229        PURCHASE         1740.02         True   \n",
       "673073            3618        PURCHASE         4515.58         True   \n",
       "778423            1883        PURCHASE          993.73        False   \n",
       "424567            2445        PURCHASE         1370.13         True   \n",
       "612391             905        PURCHASE        10774.08        False   \n",
       "679917            7185        PURCHASE         4653.98         True   \n",
       "371878            1149        PURCHASE          357.79         True   \n",
       "308817            4127        PURCHASE           19.02        False   \n",
       "501537             787        PURCHASE            0.00         True   \n",
       "367498            3914        PURCHASE         4492.95         True   \n",
       "\n",
       "        expirationDateKeyInMatch  isFraud  \n",
       "380125                     False    False  \n",
       "498620                     False    False  \n",
       "673073                     False    False  \n",
       "778423                     False    False  \n",
       "424567                     False    False  \n",
       "612391                     False    False  \n",
       "679917                     False    False  \n",
       "371878                     False    False  \n",
       "308817                     False    False  \n",
       "501537                     False    False  \n",
       "367498                     False    False  "
      ],
      "text/html": [
       "<div>\n",
       "<style scoped>\n",
       "    .dataframe tbody tr th:only-of-type {\n",
       "        vertical-align: middle;\n",
       "    }\n",
       "\n",
       "    .dataframe tbody tr th {\n",
       "        vertical-align: top;\n",
       "    }\n",
       "\n",
       "    .dataframe thead th {\n",
       "        text-align: right;\n",
       "    }\n",
       "</style>\n",
       "<table border=\"1\" class=\"dataframe\">\n",
       "  <thead>\n",
       "    <tr style=\"text-align: right;\">\n",
       "      <th></th>\n",
       "      <th>accountNumber</th>\n",
       "      <th>customerId</th>\n",
       "      <th>creditLimit</th>\n",
       "      <th>availableMoney</th>\n",
       "      <th>transactionDateTime</th>\n",
       "      <th>transactionAmount</th>\n",
       "      <th>merchantName</th>\n",
       "      <th>acqCountry</th>\n",
       "      <th>merchantCountryCode</th>\n",
       "      <th>posEntryMode</th>\n",
       "      <th>posConditionCode</th>\n",
       "      <th>merchantCategoryCode</th>\n",
       "      <th>currentExpDate</th>\n",
       "      <th>accountOpenDate</th>\n",
       "      <th>dateOfLastAddressChange</th>\n",
       "      <th>cardCVV</th>\n",
       "      <th>enteredCVV</th>\n",
       "      <th>cardLast4Digits</th>\n",
       "      <th>transactionType</th>\n",
       "      <th>currentBalance</th>\n",
       "      <th>cardPresent</th>\n",
       "      <th>expirationDateKeyInMatch</th>\n",
       "      <th>isFraud</th>\n",
       "    </tr>\n",
       "  </thead>\n",
       "  <tbody>\n",
       "    <tr>\n",
       "      <th>380125</th>\n",
       "      <td>716595213</td>\n",
       "      <td>716595213</td>\n",
       "      <td>50000.0</td>\n",
       "      <td>47991.66</td>\n",
       "      <td>2016-03-28 11:25:42</td>\n",
       "      <td>2011.54</td>\n",
       "      <td>discount.com</td>\n",
       "      <td>US</td>\n",
       "      <td>US</td>\n",
       "      <td>05</td>\n",
       "      <td>01</td>\n",
       "      <td>online_retail</td>\n",
       "      <td>03/2027</td>\n",
       "      <td>2015-06-28</td>\n",
       "      <td>2015-06-28</td>\n",
       "      <td>278</td>\n",
       "      <td>278</td>\n",
       "      <td>4457</td>\n",
       "      <td>PURCHASE</td>\n",
       "      <td>2008.34</td>\n",
       "      <td>False</td>\n",
       "      <td>False</td>\n",
       "      <td>False</td>\n",
       "    </tr>\n",
       "    <tr>\n",
       "      <th>498620</th>\n",
       "      <td>875460072</td>\n",
       "      <td>875460072</td>\n",
       "      <td>20000.0</td>\n",
       "      <td>18259.98</td>\n",
       "      <td>2016-05-23 20:09:24</td>\n",
       "      <td>1905.30</td>\n",
       "      <td>In-N-Out #659625</td>\n",
       "      <td>US</td>\n",
       "      <td>US</td>\n",
       "      <td>05</td>\n",
       "      <td>08</td>\n",
       "      <td>fastfood</td>\n",
       "      <td>03/2029</td>\n",
       "      <td>2015-12-28</td>\n",
       "      <td>2015-12-28</td>\n",
       "      <td>443</td>\n",
       "      <td>443</td>\n",
       "      <td>2229</td>\n",
       "      <td>PURCHASE</td>\n",
       "      <td>1740.02</td>\n",
       "      <td>True</td>\n",
       "      <td>False</td>\n",
       "      <td>False</td>\n",
       "    </tr>\n",
       "    <tr>\n",
       "      <th>673073</th>\n",
       "      <td>726728113</td>\n",
       "      <td>726728113</td>\n",
       "      <td>15000.0</td>\n",
       "      <td>10484.42</td>\n",
       "      <td>2016-02-26 00:45:21</td>\n",
       "      <td>1873.97</td>\n",
       "      <td>Dinosaur Sandwitch Bar #249717</td>\n",
       "      <td>US</td>\n",
       "      <td>US</td>\n",
       "      <td>02</td>\n",
       "      <td>01</td>\n",
       "      <td>food</td>\n",
       "      <td>10/2032</td>\n",
       "      <td>2010-11-09</td>\n",
       "      <td>2010-11-09</td>\n",
       "      <td>319</td>\n",
       "      <td>319</td>\n",
       "      <td>3618</td>\n",
       "      <td>PURCHASE</td>\n",
       "      <td>4515.58</td>\n",
       "      <td>True</td>\n",
       "      <td>False</td>\n",
       "      <td>False</td>\n",
       "    </tr>\n",
       "    <tr>\n",
       "      <th>778423</th>\n",
       "      <td>748247730</td>\n",
       "      <td>748247730</td>\n",
       "      <td>10000.0</td>\n",
       "      <td>9006.27</td>\n",
       "      <td>2016-04-26 20:14:53</td>\n",
       "      <td>1780.60</td>\n",
       "      <td>alibaba.com</td>\n",
       "      <td>US</td>\n",
       "      <td>US</td>\n",
       "      <td>05</td>\n",
       "      <td>01</td>\n",
       "      <td>online_retail</td>\n",
       "      <td>05/2021</td>\n",
       "      <td>2012-09-06</td>\n",
       "      <td>2012-09-06</td>\n",
       "      <td>607</td>\n",
       "      <td>607</td>\n",
       "      <td>1883</td>\n",
       "      <td>PURCHASE</td>\n",
       "      <td>993.73</td>\n",
       "      <td>False</td>\n",
       "      <td>False</td>\n",
       "      <td>False</td>\n",
       "    </tr>\n",
       "    <tr>\n",
       "      <th>424567</th>\n",
       "      <td>710219416</td>\n",
       "      <td>710219416</td>\n",
       "      <td>2500.0</td>\n",
       "      <td>1129.87</td>\n",
       "      <td>2016-10-05 05:06:51</td>\n",
       "      <td>1772.63</td>\n",
       "      <td>Burger King #862268</td>\n",
       "      <td>US</td>\n",
       "      <td>US</td>\n",
       "      <td>05</td>\n",
       "      <td>01</td>\n",
       "      <td>fastfood</td>\n",
       "      <td>01/2028</td>\n",
       "      <td>2009-05-19</td>\n",
       "      <td>2016-02-07</td>\n",
       "      <td>449</td>\n",
       "      <td>449</td>\n",
       "      <td>2445</td>\n",
       "      <td>PURCHASE</td>\n",
       "      <td>1370.13</td>\n",
       "      <td>True</td>\n",
       "      <td>False</td>\n",
       "      <td>False</td>\n",
       "    </tr>\n",
       "    <tr>\n",
       "      <th>612391</th>\n",
       "      <td>614394290</td>\n",
       "      <td>614394290</td>\n",
       "      <td>15000.0</td>\n",
       "      <td>4225.92</td>\n",
       "      <td>2016-09-12 15:41:39</td>\n",
       "      <td>1767.50</td>\n",
       "      <td>Planet Fitness #527068</td>\n",
       "      <td>US</td>\n",
       "      <td>US</td>\n",
       "      <td>05</td>\n",
       "      <td>01</td>\n",
       "      <td>health</td>\n",
       "      <td>08/2021</td>\n",
       "      <td>2015-01-12</td>\n",
       "      <td>2015-01-12</td>\n",
       "      <td>233</td>\n",
       "      <td>233</td>\n",
       "      <td>905</td>\n",
       "      <td>PURCHASE</td>\n",
       "      <td>10774.08</td>\n",
       "      <td>False</td>\n",
       "      <td>False</td>\n",
       "      <td>False</td>\n",
       "    </tr>\n",
       "    <tr>\n",
       "      <th>679917</th>\n",
       "      <td>380083836</td>\n",
       "      <td>380083836</td>\n",
       "      <td>5000.0</td>\n",
       "      <td>346.02</td>\n",
       "      <td>2016-10-28 20:36:51</td>\n",
       "      <td>1710.13</td>\n",
       "      <td>Ricks Repair</td>\n",
       "      <td>US</td>\n",
       "      <td>US</td>\n",
       "      <td>09</td>\n",
       "      <td>08</td>\n",
       "      <td>auto</td>\n",
       "      <td>01/2032</td>\n",
       "      <td>2015-12-23</td>\n",
       "      <td>2016-10-21</td>\n",
       "      <td>738</td>\n",
       "      <td>738</td>\n",
       "      <td>7185</td>\n",
       "      <td>PURCHASE</td>\n",
       "      <td>4653.98</td>\n",
       "      <td>True</td>\n",
       "      <td>False</td>\n",
       "      <td>False</td>\n",
       "    </tr>\n",
       "    <tr>\n",
       "      <th>371878</th>\n",
       "      <td>865635967</td>\n",
       "      <td>865635967</td>\n",
       "      <td>500.0</td>\n",
       "      <td>142.21</td>\n",
       "      <td>2016-12-26 07:48:01</td>\n",
       "      <td>1707.80</td>\n",
       "      <td>34th BBQ #436606</td>\n",
       "      <td>US</td>\n",
       "      <td>US</td>\n",
       "      <td>05</td>\n",
       "      <td>01</td>\n",
       "      <td>food</td>\n",
       "      <td>03/2032</td>\n",
       "      <td>2015-04-23</td>\n",
       "      <td>2016-12-12</td>\n",
       "      <td>909</td>\n",
       "      <td>909</td>\n",
       "      <td>1149</td>\n",
       "      <td>PURCHASE</td>\n",
       "      <td>357.79</td>\n",
       "      <td>True</td>\n",
       "      <td>False</td>\n",
       "      <td>False</td>\n",
       "    </tr>\n",
       "    <tr>\n",
       "      <th>308817</th>\n",
       "      <td>654507597</td>\n",
       "      <td>654507597</td>\n",
       "      <td>500.0</td>\n",
       "      <td>480.98</td>\n",
       "      <td>2016-07-20 23:33:20</td>\n",
       "      <td>1704.55</td>\n",
       "      <td>Shake Shack #235531</td>\n",
       "      <td>US</td>\n",
       "      <td>US</td>\n",
       "      <td>02</td>\n",
       "      <td>01</td>\n",
       "      <td>fastfood</td>\n",
       "      <td>12/2021</td>\n",
       "      <td>2013-11-23</td>\n",
       "      <td>2016-07-02</td>\n",
       "      <td>748</td>\n",
       "      <td>748</td>\n",
       "      <td>4127</td>\n",
       "      <td>PURCHASE</td>\n",
       "      <td>19.02</td>\n",
       "      <td>False</td>\n",
       "      <td>False</td>\n",
       "      <td>False</td>\n",
       "    </tr>\n",
       "    <tr>\n",
       "      <th>501537</th>\n",
       "      <td>788948518</td>\n",
       "      <td>788948518</td>\n",
       "      <td>15000.0</td>\n",
       "      <td>15000.00</td>\n",
       "      <td>2016-12-01 21:07:03</td>\n",
       "      <td>1693.36</td>\n",
       "      <td>Shake Shack #235531</td>\n",
       "      <td>US</td>\n",
       "      <td>US</td>\n",
       "      <td>09</td>\n",
       "      <td>01</td>\n",
       "      <td>fastfood</td>\n",
       "      <td>05/2022</td>\n",
       "      <td>2014-12-05</td>\n",
       "      <td>2016-06-29</td>\n",
       "      <td>115</td>\n",
       "      <td>115</td>\n",
       "      <td>787</td>\n",
       "      <td>PURCHASE</td>\n",
       "      <td>0.00</td>\n",
       "      <td>True</td>\n",
       "      <td>False</td>\n",
       "      <td>False</td>\n",
       "    </tr>\n",
       "    <tr>\n",
       "      <th>367498</th>\n",
       "      <td>428730538</td>\n",
       "      <td>428730538</td>\n",
       "      <td>5000.0</td>\n",
       "      <td>507.05</td>\n",
       "      <td>2016-10-14 13:49:27</td>\n",
       "      <td>1689.71</td>\n",
       "      <td>Krispy Kreme #375200</td>\n",
       "      <td>US</td>\n",
       "      <td>US</td>\n",
       "      <td>02</td>\n",
       "      <td>01</td>\n",
       "      <td>fastfood</td>\n",
       "      <td>06/2028</td>\n",
       "      <td>2014-03-18</td>\n",
       "      <td>2016-01-19</td>\n",
       "      <td>988</td>\n",
       "      <td>988</td>\n",
       "      <td>3914</td>\n",
       "      <td>PURCHASE</td>\n",
       "      <td>4492.95</td>\n",
       "      <td>True</td>\n",
       "      <td>False</td>\n",
       "      <td>False</td>\n",
       "    </tr>\n",
       "  </tbody>\n",
       "</table>\n",
       "</div>"
      ]
     },
     "execution_count": 219,
     "metadata": {},
     "output_type": "execute_result"
    }
   ],
   "execution_count": 219
  },
  {
   "metadata": {
    "ExecuteTime": {
     "end_time": "2024-08-04T10:30:01.747606Z",
     "start_time": "2024-08-04T10:30:01.164603Z"
    }
   },
   "cell_type": "code",
   "source": [
    "# delete the 11 outliers from df\n",
    "df.drop(index=outlier_index, inplace=True)\n",
    "df.reset_index(drop=True, inplace=True)"
   ],
   "id": "4f15a923449c491e",
   "outputs": [],
   "execution_count": 220
  },
  {
   "metadata": {},
   "cell_type": "markdown",
   "source": [
    "## 3.6 Feature Engineering\n",
    "\n",
    "The as-is dataset has 4 numerical features and 24 non-numerical features, 4 datetime, 20 categorical/boolean. The post-preprocessed dataset will have 3 numerical features and 16 categorical features, 4 datetime, 12 categorical/boolean, after we discard the non-informative columns and re-construct the verbose ones.\n",
    "\n",
    "1. The column ['currentBalance'] will be dropped because it is the difference between the ['creditLimit'] and ['availableMoney'] columns.\n",
    "2. Note the ['accountNumber'] and ['customerId'] columns are identical. We will drop the customerId column.\n",
    "3. The column ['accountOpenDate', 'dateOfLastAddressChange', 'transactionDateTime'] are datetime columns. We will convert them to datetime objects.\n",
    "4. The column ['currentExpDate'] is a string column in format mm/yy. We will convert it to a datetime object by impute them to the last day of the month. We first convert to the 1st day of the month, then add 1 month and subtract 1 day, finally convert it to datetime objects.\n",
    "5. Extract the 'x_hour', 'x_day_of_week', 'x_day_of_month', 'x_month', 'x_year', 'day_since_open', 'day_since_update_add', and 'day_2_exp' from the existing columns and drop the original ones.\n",
    "6. Coalesce the information contained in ['cardCVV', 'enteredCVV'] columns to a new categorical ['mismatchInCVV'] column showing the number of mismatches by comparing the 3 integers in each row of the two aforementioned columns. And we restrain from diving into the analysis of which of the integers cause mismatches for now.\n",
    "7. Convert the boolean columns ['cardPresent', 'expirationDateKeyInMatch] to binary for the convenience of modeling.\n",
    "8. Truncate the ['merchantName'] starting from the first #, reducing the number of merchants from 2489 to 205. __Maybe we can further reduce the number of merchants by grouping the tail 20%__."
   ],
   "id": "d725050adaeb5a31"
  },
  {
   "metadata": {
    "ExecuteTime": {
     "end_time": "2024-08-04T10:30:02.431607Z",
     "start_time": "2024-08-04T10:30:01.749602Z"
    }
   },
   "cell_type": "code",
   "source": [
    "# 1. drop the 'currentBalance' column from df\n",
    "df.drop(columns='currentBalance', inplace=True)"
   ],
   "id": "db81053168078faf",
   "outputs": [],
   "execution_count": 221
  },
  {
   "metadata": {
    "ExecuteTime": {
     "end_time": "2024-08-04T10:30:03.044599Z",
     "start_time": "2024-08-04T10:30:02.436608Z"
    }
   },
   "cell_type": "code",
   "source": [
    "# 2. drop the customerId column for duplication from df\n",
    "df.customerId.equals(df.accountNumber)\n",
    "df.drop(columns='customerId', inplace=True)\n"
   ],
   "id": "9cd9532ed16f6010",
   "outputs": [],
   "execution_count": 222
  },
  {
   "metadata": {
    "ExecuteTime": {
     "end_time": "2024-08-04T10:30:04.434600Z",
     "start_time": "2024-08-04T10:30:03.045602Z"
    }
   },
   "cell_type": "code",
   "source": [
    "# 3. convert the datetime columns to datetime objects\n",
    "df['accountOpenDate'] = pd.to_datetime(df['accountOpenDate'])\n",
    "df['dateOfLastAddressChange'] = pd.to_datetime(df['dateOfLastAddressChange'])\n",
    "df['transactionDateTime'] = pd.to_datetime(df['transactionDateTime'])"
   ],
   "id": "219db3b444e99e53",
   "outputs": [],
   "execution_count": 223
  },
  {
   "metadata": {
    "ExecuteTime": {
     "end_time": "2024-08-04T10:30:05.129599Z",
     "start_time": "2024-08-04T10:30:04.435604Z"
    }
   },
   "cell_type": "code",
   "source": [
    "# 4. impute the format mm/yy to the last day of the month of the column currentExpDate by first convert to the 1st day of the month, then add 1 month and subtract 1 day, finally convert it to datetime objects.\n",
    "df['currentExpDate'] = pd.to_datetime(df['currentExpDate'].apply(lambda x: '01/' + x),dayfirst=True) + pd.DateOffset(months=1) - pd.DateOffset(days=1)"
   ],
   "id": "a5557b34736fabc3",
   "outputs": [],
   "execution_count": 224
  },
  {
   "metadata": {
    "ExecuteTime": {
     "end_time": "2024-08-04T10:30:05.796599Z",
     "start_time": "2024-08-04T10:30:05.130603Z"
    }
   },
   "cell_type": "code",
   "source": [
    "# 5. extract the 'x_hr', 'x_d', 'x_DOW', 'x_mon', 'x_yr', 't_since_open', 't_since_update_add', and 't_2_exp' from the existing columns and drop the original ones\n",
    "df['x_hr'] = df['transactionDateTime'].dt.hour\n",
    "df['x_d'] = df['transactionDateTime'].dt.day\n",
    "df['x_DOW'] = df['transactionDateTime'].dt.dayofweek\n",
    "df['x_mon'] = df['transactionDateTime'].dt.month\n",
    "df['x_yr'] = df['transactionDateTime'].dt.year\n",
    "df['t_since_open'] = (df['transactionDateTime'] - df['accountOpenDate']).dt.days\n",
    "df['t_since_update_add'] = (df['transactionDateTime'] - df['dateOfLastAddressChange']).dt.days\n",
    "df['t_2_exp'] = (df['currentExpDate'] - df['transactionDateTime']).dt.days\n",
    "# drop the original columns\n",
    "df.drop(columns=['accountOpenDate', 'dateOfLastAddressChange', 'transactionDateTime', 'currentExpDate'], inplace=True)"
   ],
   "id": "78e3c69109fbb588",
   "outputs": [],
   "execution_count": 225
  },
  {
   "metadata": {
    "ExecuteTime": {
     "end_time": "2024-08-04T10:30:14.518599Z",
     "start_time": "2024-08-04T10:30:05.797606Z"
    }
   },
   "cell_type": "code",
   "source": [
    "# 6. convert the 3 integers in each row of 'cardCVV' and 'enteredCVV' columns to  new ndarrays with 3 columns of integers\n",
    "a = np.stack(df['cardCVV'].map(lambda x: list(map(int, x))).to_list())\n",
    "b = np.stack(df['enteredCVV'].map(lambda x: list(map(int, x))).to_list())\n",
    "# create a new column 'mismatchInCVV' showing the number of mismatches by comparing the 3 integers in each row of the two aforementioned columns\n",
    "df['mismatchInCVV'] = pd.Series(np.sum(a != b, axis=1)).astype(np.short)\n",
    "# drop the 'cardCVV' and 'enteredCVV' columns\n",
    "df.drop(columns=['cardCVV', 'enteredCVV'], inplace=True)"
   ],
   "id": "5d1a47e188114b0d",
   "outputs": [],
   "execution_count": 226
  },
  {
   "metadata": {
    "ExecuteTime": {
     "end_time": "2024-08-04T10:30:14.534599Z",
     "start_time": "2024-08-04T10:30:14.519603Z"
    }
   },
   "cell_type": "code",
   "source": [
    "# 7. Convert the boolean columns ['cardPresent', 'expirationDateKeyInMatch] to binary for the convenience of modeling.\n",
    "df['cardPresent'] = df['cardPresent'].astype(int)\n",
    "df['expirationDateKeyInMatch'] = df['expirationDateKeyInMatch'].astype(int)"
   ],
   "id": "36cda810b0137904",
   "outputs": [],
   "execution_count": 227
  },
  {
   "metadata": {
    "ExecuteTime": {
     "end_time": "2024-08-04T10:30:16.859599Z",
     "start_time": "2024-08-04T10:30:14.535603Z"
    }
   },
   "cell_type": "code",
   "source": [
    "# 8. Truncate the ['merchantName'] starting from the first #, reducing the number of merchants from 2489 to 205.\n",
    "df['merchantName'] = df['merchantName'].str.split('#').str[0]\n",
    "df['merchantName'].nunique()"
   ],
   "id": "46599d164fbe580c",
   "outputs": [
    {
     "data": {
      "text/plain": [
       "205"
      ]
     },
     "execution_count": 228,
     "metadata": {},
     "output_type": "execute_result"
    }
   ],
   "execution_count": 228
  },
  {
   "metadata": {
    "ExecuteTime": {
     "end_time": "2024-08-04T10:30:17.554601Z",
     "start_time": "2024-08-04T10:30:16.860603Z"
    }
   },
   "cell_type": "code",
   "source": [
    "# split the df into y, x_num and x_cat, and get the x_num_bc via Box-Cox transformation with lambda=0.25\n",
    "y = df['isFraud']\n",
    "x_num = df[['creditLimit', 'availableMoney', 'transactionAmount']]\n",
    "x_num_bc = x_num.copy()\n",
    "x_num_bc['bc_creditLimit'] = sp.stats.boxcox(x_num['creditLimit'],lmbda=0.25)\n",
    "x_num_bc['bc_transactionAmount'] = sp.stats.boxcox(x_num['transactionAmount'],lmbda=0.25)\n",
    "x_num_bc['bc_availableMoney'] = sp.stats.boxcox(x_num['availableMoney'],lmbda=0.25)\n",
    "# drop the original columns\n",
    "x_num_bc.drop(columns=['creditLimit','transactionAmount','availableMoney'], inplace=True)\n",
    "# hstack x_xum_bc with y\n",
    "x_num_bc = pd.concat([x_num_bc, y], axis=1)\n",
    "x_cat = df.drop(columns=['creditLimit', 'availableMoney', 'transactionAmount', 'isFraud'])\n",
    "x_num.describe()"
   ],
   "id": "3695a08db0515c61",
   "outputs": [
    {
     "data": {
      "text/plain": [
       "         creditLimit  availableMoney  transactionAmount\n",
       "count  786352.000000   786352.000000      786352.000000\n",
       "mean    10759.438839     6250.676007         136.962760\n",
       "std     11636.145634     8880.691639         147.597735\n",
       "min       250.000000    -1005.630000           0.000000\n",
       "25%      5000.000000     1077.420000          33.650000\n",
       "50%      7500.000000     3184.855000          87.900000\n",
       "75%     15000.000000     7500.000000         191.472500\n",
       "max     50000.000000    50000.000000        1608.350000"
      ],
      "text/html": [
       "<div>\n",
       "<style scoped>\n",
       "    .dataframe tbody tr th:only-of-type {\n",
       "        vertical-align: middle;\n",
       "    }\n",
       "\n",
       "    .dataframe tbody tr th {\n",
       "        vertical-align: top;\n",
       "    }\n",
       "\n",
       "    .dataframe thead th {\n",
       "        text-align: right;\n",
       "    }\n",
       "</style>\n",
       "<table border=\"1\" class=\"dataframe\">\n",
       "  <thead>\n",
       "    <tr style=\"text-align: right;\">\n",
       "      <th></th>\n",
       "      <th>creditLimit</th>\n",
       "      <th>availableMoney</th>\n",
       "      <th>transactionAmount</th>\n",
       "    </tr>\n",
       "  </thead>\n",
       "  <tbody>\n",
       "    <tr>\n",
       "      <th>count</th>\n",
       "      <td>786352.000000</td>\n",
       "      <td>786352.000000</td>\n",
       "      <td>786352.000000</td>\n",
       "    </tr>\n",
       "    <tr>\n",
       "      <th>mean</th>\n",
       "      <td>10759.438839</td>\n",
       "      <td>6250.676007</td>\n",
       "      <td>136.962760</td>\n",
       "    </tr>\n",
       "    <tr>\n",
       "      <th>std</th>\n",
       "      <td>11636.145634</td>\n",
       "      <td>8880.691639</td>\n",
       "      <td>147.597735</td>\n",
       "    </tr>\n",
       "    <tr>\n",
       "      <th>min</th>\n",
       "      <td>250.000000</td>\n",
       "      <td>-1005.630000</td>\n",
       "      <td>0.000000</td>\n",
       "    </tr>\n",
       "    <tr>\n",
       "      <th>25%</th>\n",
       "      <td>5000.000000</td>\n",
       "      <td>1077.420000</td>\n",
       "      <td>33.650000</td>\n",
       "    </tr>\n",
       "    <tr>\n",
       "      <th>50%</th>\n",
       "      <td>7500.000000</td>\n",
       "      <td>3184.855000</td>\n",
       "      <td>87.900000</td>\n",
       "    </tr>\n",
       "    <tr>\n",
       "      <th>75%</th>\n",
       "      <td>15000.000000</td>\n",
       "      <td>7500.000000</td>\n",
       "      <td>191.472500</td>\n",
       "    </tr>\n",
       "    <tr>\n",
       "      <th>max</th>\n",
       "      <td>50000.000000</td>\n",
       "      <td>50000.000000</td>\n",
       "      <td>1608.350000</td>\n",
       "    </tr>\n",
       "  </tbody>\n",
       "</table>\n",
       "</div>"
      ]
     },
     "execution_count": 229,
     "metadata": {},
     "output_type": "execute_result"
    }
   ],
   "execution_count": 229
  },
  {
   "metadata": {
    "ExecuteTime": {
     "end_time": "2024-08-04T10:30:17.982599Z",
     "start_time": "2024-08-04T10:30:17.555602Z"
    }
   },
   "cell_type": "code",
   "source": [
    "x_cat = df[['accountNumber',\n",
    "    'cardLast4Digits',\n",
    "    'acqCountry',\n",
    " 'transactionType',\n",
    " 'merchantName',\n",
    " 'merchantCountryCode',\n",
    " 'merchantCategoryCode',\n",
    " 'posEntryMode',\n",
    " 'posConditionCode',\n",
    " 'cardPresent',\n",
    " 'expirationDateKeyInMatch',\n",
    " 'mismatchInCVV',\n",
    " 'x_hr',\n",
    " 'x_d',\n",
    " 'x_DOW',\n",
    " 'x_mon',\n",
    " 'x_yr',\n",
    " 't_since_open',\n",
    " 't_since_update_add',\n",
    " 't_2_exp']]\n",
    "x_cat.head()"
   ],
   "id": "26d9185d145dd632",
   "outputs": [
    {
     "data": {
      "text/plain": [
       "  accountNumber cardLast4Digits acqCountry transactionType  merchantName  \\\n",
       "0     737265056            1803         US        PURCHASE          Uber   \n",
       "1     737265056             767         US        PURCHASE          AMC    \n",
       "2     737265056             767         US        PURCHASE    Play Store   \n",
       "3     737265056             767         US        PURCHASE    Play Store   \n",
       "4     830329091            3143         US        PURCHASE  Tim Hortons    \n",
       "\n",
       "  merchantCountryCode merchantCategoryCode posEntryMode posConditionCode  \\\n",
       "0                  US            rideshare           02               01   \n",
       "1                  US        entertainment           09               01   \n",
       "2                  US           mobileapps           09               01   \n",
       "3                  US           mobileapps           09               01   \n",
       "4                  US             fastfood           02               01   \n",
       "\n",
       "   cardPresent  expirationDateKeyInMatch  mismatchInCVV  x_hr  x_d  x_DOW  \\\n",
       "0            0                         0              0    14   13      5   \n",
       "1            1                         0              0     5   11      1   \n",
       "2            0                         0              0     9    8      1   \n",
       "3            0                         0              0     2   10      5   \n",
       "4            1                         0              0    21   24      3   \n",
       "\n",
       "   x_mon  x_yr  t_since_open  t_since_update_add  t_2_exp  \n",
       "0      8  2016           518                 518    -2512  \n",
       "1     10  2016           577                 577    -2697  \n",
       "2     11  2016           605                 605    -3218  \n",
       "3     12  2016           637                 637    -3186  \n",
       "4      3  2016           231                 231    -4969  "
      ],
      "text/html": [
       "<div>\n",
       "<style scoped>\n",
       "    .dataframe tbody tr th:only-of-type {\n",
       "        vertical-align: middle;\n",
       "    }\n",
       "\n",
       "    .dataframe tbody tr th {\n",
       "        vertical-align: top;\n",
       "    }\n",
       "\n",
       "    .dataframe thead th {\n",
       "        text-align: right;\n",
       "    }\n",
       "</style>\n",
       "<table border=\"1\" class=\"dataframe\">\n",
       "  <thead>\n",
       "    <tr style=\"text-align: right;\">\n",
       "      <th></th>\n",
       "      <th>accountNumber</th>\n",
       "      <th>cardLast4Digits</th>\n",
       "      <th>acqCountry</th>\n",
       "      <th>transactionType</th>\n",
       "      <th>merchantName</th>\n",
       "      <th>merchantCountryCode</th>\n",
       "      <th>merchantCategoryCode</th>\n",
       "      <th>posEntryMode</th>\n",
       "      <th>posConditionCode</th>\n",
       "      <th>cardPresent</th>\n",
       "      <th>expirationDateKeyInMatch</th>\n",
       "      <th>mismatchInCVV</th>\n",
       "      <th>x_hr</th>\n",
       "      <th>x_d</th>\n",
       "      <th>x_DOW</th>\n",
       "      <th>x_mon</th>\n",
       "      <th>x_yr</th>\n",
       "      <th>t_since_open</th>\n",
       "      <th>t_since_update_add</th>\n",
       "      <th>t_2_exp</th>\n",
       "    </tr>\n",
       "  </thead>\n",
       "  <tbody>\n",
       "    <tr>\n",
       "      <th>0</th>\n",
       "      <td>737265056</td>\n",
       "      <td>1803</td>\n",
       "      <td>US</td>\n",
       "      <td>PURCHASE</td>\n",
       "      <td>Uber</td>\n",
       "      <td>US</td>\n",
       "      <td>rideshare</td>\n",
       "      <td>02</td>\n",
       "      <td>01</td>\n",
       "      <td>0</td>\n",
       "      <td>0</td>\n",
       "      <td>0</td>\n",
       "      <td>14</td>\n",
       "      <td>13</td>\n",
       "      <td>5</td>\n",
       "      <td>8</td>\n",
       "      <td>2016</td>\n",
       "      <td>518</td>\n",
       "      <td>518</td>\n",
       "      <td>-2512</td>\n",
       "    </tr>\n",
       "    <tr>\n",
       "      <th>1</th>\n",
       "      <td>737265056</td>\n",
       "      <td>767</td>\n",
       "      <td>US</td>\n",
       "      <td>PURCHASE</td>\n",
       "      <td>AMC</td>\n",
       "      <td>US</td>\n",
       "      <td>entertainment</td>\n",
       "      <td>09</td>\n",
       "      <td>01</td>\n",
       "      <td>1</td>\n",
       "      <td>0</td>\n",
       "      <td>0</td>\n",
       "      <td>5</td>\n",
       "      <td>11</td>\n",
       "      <td>1</td>\n",
       "      <td>10</td>\n",
       "      <td>2016</td>\n",
       "      <td>577</td>\n",
       "      <td>577</td>\n",
       "      <td>-2697</td>\n",
       "    </tr>\n",
       "    <tr>\n",
       "      <th>2</th>\n",
       "      <td>737265056</td>\n",
       "      <td>767</td>\n",
       "      <td>US</td>\n",
       "      <td>PURCHASE</td>\n",
       "      <td>Play Store</td>\n",
       "      <td>US</td>\n",
       "      <td>mobileapps</td>\n",
       "      <td>09</td>\n",
       "      <td>01</td>\n",
       "      <td>0</td>\n",
       "      <td>0</td>\n",
       "      <td>0</td>\n",
       "      <td>9</td>\n",
       "      <td>8</td>\n",
       "      <td>1</td>\n",
       "      <td>11</td>\n",
       "      <td>2016</td>\n",
       "      <td>605</td>\n",
       "      <td>605</td>\n",
       "      <td>-3218</td>\n",
       "    </tr>\n",
       "    <tr>\n",
       "      <th>3</th>\n",
       "      <td>737265056</td>\n",
       "      <td>767</td>\n",
       "      <td>US</td>\n",
       "      <td>PURCHASE</td>\n",
       "      <td>Play Store</td>\n",
       "      <td>US</td>\n",
       "      <td>mobileapps</td>\n",
       "      <td>09</td>\n",
       "      <td>01</td>\n",
       "      <td>0</td>\n",
       "      <td>0</td>\n",
       "      <td>0</td>\n",
       "      <td>2</td>\n",
       "      <td>10</td>\n",
       "      <td>5</td>\n",
       "      <td>12</td>\n",
       "      <td>2016</td>\n",
       "      <td>637</td>\n",
       "      <td>637</td>\n",
       "      <td>-3186</td>\n",
       "    </tr>\n",
       "    <tr>\n",
       "      <th>4</th>\n",
       "      <td>830329091</td>\n",
       "      <td>3143</td>\n",
       "      <td>US</td>\n",
       "      <td>PURCHASE</td>\n",
       "      <td>Tim Hortons</td>\n",
       "      <td>US</td>\n",
       "      <td>fastfood</td>\n",
       "      <td>02</td>\n",
       "      <td>01</td>\n",
       "      <td>1</td>\n",
       "      <td>0</td>\n",
       "      <td>0</td>\n",
       "      <td>21</td>\n",
       "      <td>24</td>\n",
       "      <td>3</td>\n",
       "      <td>3</td>\n",
       "      <td>2016</td>\n",
       "      <td>231</td>\n",
       "      <td>231</td>\n",
       "      <td>-4969</td>\n",
       "    </tr>\n",
       "  </tbody>\n",
       "</table>\n",
       "</div>"
      ]
     },
     "execution_count": 230,
     "metadata": {},
     "output_type": "execute_result"
    }
   ],
   "execution_count": 230
  },
  {
   "metadata": {},
   "cell_type": "markdown",
   "source": "## 4. Exploratory Data Analysis",
   "id": "15de7d3d39d07db6"
  },
  {
   "metadata": {
    "ExecuteTime": {
     "end_time": "2024-08-04T10:54:19.875069Z",
     "start_time": "2024-08-04T10:54:19.744070Z"
    }
   },
   "cell_type": "code",
   "source": [
    "## 4.1 Numerical Features\n",
    "sns.violinplot(x='isFraud', y='creditLimit', data=x_num_bc, ax=ax[0], hue='isFraud', palette='coolwarm', fill=False, inner='quart', legend=False, split=True, cut=0)"
   ],
   "id": "aa41b18a11396dac",
   "outputs": [
    {
     "ename": "ValueError",
     "evalue": "Could not interpret value `creditLimit` for `y`. An entry with this name does not appear in `data`.",
     "output_type": "error",
     "traceback": [
      "\u001B[1;31m---------------------------------------------------------------------------\u001B[0m",
      "\u001B[1;31mValueError\u001B[0m                                Traceback (most recent call last)",
      "Cell \u001B[1;32mIn[245], line 2\u001B[0m\n\u001B[0;32m      1\u001B[0m \u001B[38;5;66;03m## 4.1 Numerical Features\u001B[39;00m\n\u001B[1;32m----> 2\u001B[0m \u001B[43msns\u001B[49m\u001B[38;5;241;43m.\u001B[39;49m\u001B[43mviolinplot\u001B[49m\u001B[43m(\u001B[49m\u001B[43mx\u001B[49m\u001B[38;5;241;43m=\u001B[39;49m\u001B[38;5;124;43m'\u001B[39;49m\u001B[38;5;124;43misFraud\u001B[39;49m\u001B[38;5;124;43m'\u001B[39;49m\u001B[43m,\u001B[49m\u001B[43m \u001B[49m\u001B[43my\u001B[49m\u001B[38;5;241;43m=\u001B[39;49m\u001B[38;5;124;43m'\u001B[39;49m\u001B[38;5;124;43mcreditLimit\u001B[39;49m\u001B[38;5;124;43m'\u001B[39;49m\u001B[43m,\u001B[49m\u001B[43m \u001B[49m\u001B[43mdata\u001B[49m\u001B[38;5;241;43m=\u001B[39;49m\u001B[43mx_num_bc\u001B[49m\u001B[43m,\u001B[49m\u001B[43m \u001B[49m\u001B[43max\u001B[49m\u001B[38;5;241;43m=\u001B[39;49m\u001B[43max\u001B[49m\u001B[43m[\u001B[49m\u001B[38;5;241;43m0\u001B[39;49m\u001B[43m]\u001B[49m\u001B[43m,\u001B[49m\u001B[43m \u001B[49m\u001B[43mhue\u001B[49m\u001B[38;5;241;43m=\u001B[39;49m\u001B[38;5;124;43m'\u001B[39;49m\u001B[38;5;124;43misFraud\u001B[39;49m\u001B[38;5;124;43m'\u001B[39;49m\u001B[43m,\u001B[49m\u001B[43m \u001B[49m\u001B[43mpalette\u001B[49m\u001B[38;5;241;43m=\u001B[39;49m\u001B[38;5;124;43m'\u001B[39;49m\u001B[38;5;124;43mcoolwarm\u001B[39;49m\u001B[38;5;124;43m'\u001B[39;49m\u001B[43m,\u001B[49m\u001B[43m \u001B[49m\u001B[43mfill\u001B[49m\u001B[38;5;241;43m=\u001B[39;49m\u001B[38;5;28;43;01mFalse\u001B[39;49;00m\u001B[43m,\u001B[49m\u001B[43m \u001B[49m\u001B[43minner\u001B[49m\u001B[38;5;241;43m=\u001B[39;49m\u001B[38;5;124;43m'\u001B[39;49m\u001B[38;5;124;43mquart\u001B[39;49m\u001B[38;5;124;43m'\u001B[39;49m\u001B[43m,\u001B[49m\u001B[43m \u001B[49m\u001B[43mlegend\u001B[49m\u001B[38;5;241;43m=\u001B[39;49m\u001B[38;5;28;43;01mFalse\u001B[39;49;00m\u001B[43m,\u001B[49m\u001B[43m \u001B[49m\u001B[43msplit\u001B[49m\u001B[38;5;241;43m=\u001B[39;49m\u001B[38;5;28;43;01mTrue\u001B[39;49;00m\u001B[43m,\u001B[49m\u001B[43m \u001B[49m\u001B[43mcut\u001B[49m\u001B[38;5;241;43m=\u001B[39;49m\u001B[38;5;241;43m0\u001B[39;49m\u001B[43m)\u001B[49m\n",
      "File \u001B[1;32mH:\\Software\\Anaconda3\\envs\\python-learn\\lib\\site-packages\\seaborn\\categorical.py:1725\u001B[0m, in \u001B[0;36mviolinplot\u001B[1;34m(data, x, y, hue, order, hue_order, orient, color, palette, saturation, fill, inner, split, width, dodge, gap, linewidth, linecolor, cut, gridsize, bw_method, bw_adjust, density_norm, common_norm, hue_norm, formatter, log_scale, native_scale, legend, scale, scale_hue, bw, inner_kws, ax, **kwargs)\u001B[0m\n\u001B[0;32m   1714\u001B[0m \u001B[38;5;28;01mdef\u001B[39;00m \u001B[38;5;21mviolinplot\u001B[39m(\n\u001B[0;32m   1715\u001B[0m     data\u001B[38;5;241m=\u001B[39m\u001B[38;5;28;01mNone\u001B[39;00m, \u001B[38;5;241m*\u001B[39m, x\u001B[38;5;241m=\u001B[39m\u001B[38;5;28;01mNone\u001B[39;00m, y\u001B[38;5;241m=\u001B[39m\u001B[38;5;28;01mNone\u001B[39;00m, hue\u001B[38;5;241m=\u001B[39m\u001B[38;5;28;01mNone\u001B[39;00m, order\u001B[38;5;241m=\u001B[39m\u001B[38;5;28;01mNone\u001B[39;00m, hue_order\u001B[38;5;241m=\u001B[39m\u001B[38;5;28;01mNone\u001B[39;00m,\n\u001B[0;32m   1716\u001B[0m     orient\u001B[38;5;241m=\u001B[39m\u001B[38;5;28;01mNone\u001B[39;00m, color\u001B[38;5;241m=\u001B[39m\u001B[38;5;28;01mNone\u001B[39;00m, palette\u001B[38;5;241m=\u001B[39m\u001B[38;5;28;01mNone\u001B[39;00m, saturation\u001B[38;5;241m=\u001B[39m\u001B[38;5;241m.75\u001B[39m, fill\u001B[38;5;241m=\u001B[39m\u001B[38;5;28;01mTrue\u001B[39;00m,\n\u001B[1;32m   (...)\u001B[0m\n\u001B[0;32m   1722\u001B[0m     inner_kws\u001B[38;5;241m=\u001B[39m\u001B[38;5;28;01mNone\u001B[39;00m, ax\u001B[38;5;241m=\u001B[39m\u001B[38;5;28;01mNone\u001B[39;00m, \u001B[38;5;241m*\u001B[39m\u001B[38;5;241m*\u001B[39mkwargs,\n\u001B[0;32m   1723\u001B[0m ):\n\u001B[1;32m-> 1725\u001B[0m     p \u001B[38;5;241m=\u001B[39m \u001B[43m_CategoricalPlotter\u001B[49m\u001B[43m(\u001B[49m\n\u001B[0;32m   1726\u001B[0m \u001B[43m        \u001B[49m\u001B[43mdata\u001B[49m\u001B[38;5;241;43m=\u001B[39;49m\u001B[43mdata\u001B[49m\u001B[43m,\u001B[49m\n\u001B[0;32m   1727\u001B[0m \u001B[43m        \u001B[49m\u001B[43mvariables\u001B[49m\u001B[38;5;241;43m=\u001B[39;49m\u001B[38;5;28;43mdict\u001B[39;49m\u001B[43m(\u001B[49m\u001B[43mx\u001B[49m\u001B[38;5;241;43m=\u001B[39;49m\u001B[43mx\u001B[49m\u001B[43m,\u001B[49m\u001B[43m \u001B[49m\u001B[43my\u001B[49m\u001B[38;5;241;43m=\u001B[39;49m\u001B[43my\u001B[49m\u001B[43m,\u001B[49m\u001B[43m \u001B[49m\u001B[43mhue\u001B[49m\u001B[38;5;241;43m=\u001B[39;49m\u001B[43mhue\u001B[49m\u001B[43m)\u001B[49m\u001B[43m,\u001B[49m\n\u001B[0;32m   1728\u001B[0m \u001B[43m        \u001B[49m\u001B[43morder\u001B[49m\u001B[38;5;241;43m=\u001B[39;49m\u001B[43morder\u001B[49m\u001B[43m,\u001B[49m\n\u001B[0;32m   1729\u001B[0m \u001B[43m        \u001B[49m\u001B[43morient\u001B[49m\u001B[38;5;241;43m=\u001B[39;49m\u001B[43morient\u001B[49m\u001B[43m,\u001B[49m\n\u001B[0;32m   1730\u001B[0m \u001B[43m        \u001B[49m\u001B[43mcolor\u001B[49m\u001B[38;5;241;43m=\u001B[39;49m\u001B[43mcolor\u001B[49m\u001B[43m,\u001B[49m\n\u001B[0;32m   1731\u001B[0m \u001B[43m        \u001B[49m\u001B[43mlegend\u001B[49m\u001B[38;5;241;43m=\u001B[39;49m\u001B[43mlegend\u001B[49m\u001B[43m,\u001B[49m\n\u001B[0;32m   1732\u001B[0m \u001B[43m    \u001B[49m\u001B[43m)\u001B[49m\n\u001B[0;32m   1734\u001B[0m     \u001B[38;5;28;01mif\u001B[39;00m ax \u001B[38;5;129;01mis\u001B[39;00m \u001B[38;5;28;01mNone\u001B[39;00m:\n\u001B[0;32m   1735\u001B[0m         ax \u001B[38;5;241m=\u001B[39m plt\u001B[38;5;241m.\u001B[39mgca()\n",
      "File \u001B[1;32mH:\\Software\\Anaconda3\\envs\\python-learn\\lib\\site-packages\\seaborn\\categorical.py:67\u001B[0m, in \u001B[0;36m_CategoricalPlotter.__init__\u001B[1;34m(self, data, variables, order, orient, require_numeric, color, legend)\u001B[0m\n\u001B[0;32m     56\u001B[0m \u001B[38;5;28;01mdef\u001B[39;00m \u001B[38;5;21m__init__\u001B[39m(\n\u001B[0;32m     57\u001B[0m     \u001B[38;5;28mself\u001B[39m,\n\u001B[0;32m     58\u001B[0m     data\u001B[38;5;241m=\u001B[39m\u001B[38;5;28;01mNone\u001B[39;00m,\n\u001B[1;32m   (...)\u001B[0m\n\u001B[0;32m     64\u001B[0m     legend\u001B[38;5;241m=\u001B[39m\u001B[38;5;124m\"\u001B[39m\u001B[38;5;124mauto\u001B[39m\u001B[38;5;124m\"\u001B[39m,\n\u001B[0;32m     65\u001B[0m ):\n\u001B[1;32m---> 67\u001B[0m     \u001B[38;5;28;43msuper\u001B[39;49m\u001B[43m(\u001B[49m\u001B[43m)\u001B[49m\u001B[38;5;241;43m.\u001B[39;49m\u001B[38;5;21;43m__init__\u001B[39;49m\u001B[43m(\u001B[49m\u001B[43mdata\u001B[49m\u001B[38;5;241;43m=\u001B[39;49m\u001B[43mdata\u001B[49m\u001B[43m,\u001B[49m\u001B[43m \u001B[49m\u001B[43mvariables\u001B[49m\u001B[38;5;241;43m=\u001B[39;49m\u001B[43mvariables\u001B[49m\u001B[43m)\u001B[49m\n\u001B[0;32m     69\u001B[0m     \u001B[38;5;66;03m# This method takes care of some bookkeeping that is necessary because the\u001B[39;00m\n\u001B[0;32m     70\u001B[0m     \u001B[38;5;66;03m# original categorical plots (prior to the 2021 refactor) had some rules that\u001B[39;00m\n\u001B[0;32m     71\u001B[0m     \u001B[38;5;66;03m# don't fit exactly into VectorPlotter logic. It may be wise to have a second\u001B[39;00m\n\u001B[1;32m   (...)\u001B[0m\n\u001B[0;32m     76\u001B[0m     \u001B[38;5;66;03m# default VectorPlotter rules. If we do decide to make orient part of the\u001B[39;00m\n\u001B[0;32m     77\u001B[0m     \u001B[38;5;66;03m# _base variable assignment, we'll want to figure out how to express that.\u001B[39;00m\n\u001B[0;32m     78\u001B[0m     \u001B[38;5;28;01mif\u001B[39;00m \u001B[38;5;28mself\u001B[39m\u001B[38;5;241m.\u001B[39minput_format \u001B[38;5;241m==\u001B[39m \u001B[38;5;124m\"\u001B[39m\u001B[38;5;124mwide\u001B[39m\u001B[38;5;124m\"\u001B[39m \u001B[38;5;129;01mand\u001B[39;00m orient \u001B[38;5;129;01min\u001B[39;00m [\u001B[38;5;124m\"\u001B[39m\u001B[38;5;124mh\u001B[39m\u001B[38;5;124m\"\u001B[39m, \u001B[38;5;124m\"\u001B[39m\u001B[38;5;124my\u001B[39m\u001B[38;5;124m\"\u001B[39m]:\n",
      "File \u001B[1;32mH:\\Software\\Anaconda3\\envs\\python-learn\\lib\\site-packages\\seaborn\\_base.py:634\u001B[0m, in \u001B[0;36mVectorPlotter.__init__\u001B[1;34m(self, data, variables)\u001B[0m\n\u001B[0;32m    629\u001B[0m \u001B[38;5;66;03m# var_ordered is relevant only for categorical axis variables, and may\u001B[39;00m\n\u001B[0;32m    630\u001B[0m \u001B[38;5;66;03m# be better handled by an internal axis information object that tracks\u001B[39;00m\n\u001B[0;32m    631\u001B[0m \u001B[38;5;66;03m# such information and is set up by the scale_* methods. The analogous\u001B[39;00m\n\u001B[0;32m    632\u001B[0m \u001B[38;5;66;03m# information for numeric axes would be information about log scales.\u001B[39;00m\n\u001B[0;32m    633\u001B[0m \u001B[38;5;28mself\u001B[39m\u001B[38;5;241m.\u001B[39m_var_ordered \u001B[38;5;241m=\u001B[39m {\u001B[38;5;124m\"\u001B[39m\u001B[38;5;124mx\u001B[39m\u001B[38;5;124m\"\u001B[39m: \u001B[38;5;28;01mFalse\u001B[39;00m, \u001B[38;5;124m\"\u001B[39m\u001B[38;5;124my\u001B[39m\u001B[38;5;124m\"\u001B[39m: \u001B[38;5;28;01mFalse\u001B[39;00m}  \u001B[38;5;66;03m# alt., used DefaultDict\u001B[39;00m\n\u001B[1;32m--> 634\u001B[0m \u001B[38;5;28;43mself\u001B[39;49m\u001B[38;5;241;43m.\u001B[39;49m\u001B[43massign_variables\u001B[49m\u001B[43m(\u001B[49m\u001B[43mdata\u001B[49m\u001B[43m,\u001B[49m\u001B[43m \u001B[49m\u001B[43mvariables\u001B[49m\u001B[43m)\u001B[49m\n\u001B[0;32m    636\u001B[0m \u001B[38;5;66;03m# TODO Lots of tests assume that these are called to initialize the\u001B[39;00m\n\u001B[0;32m    637\u001B[0m \u001B[38;5;66;03m# mappings to default values on class initialization. I'd prefer to\u001B[39;00m\n\u001B[0;32m    638\u001B[0m \u001B[38;5;66;03m# move away from that and only have a mapping when explicitly called.\u001B[39;00m\n\u001B[0;32m    639\u001B[0m \u001B[38;5;28;01mfor\u001B[39;00m var \u001B[38;5;129;01min\u001B[39;00m [\u001B[38;5;124m\"\u001B[39m\u001B[38;5;124mhue\u001B[39m\u001B[38;5;124m\"\u001B[39m, \u001B[38;5;124m\"\u001B[39m\u001B[38;5;124msize\u001B[39m\u001B[38;5;124m\"\u001B[39m, \u001B[38;5;124m\"\u001B[39m\u001B[38;5;124mstyle\u001B[39m\u001B[38;5;124m\"\u001B[39m]:\n",
      "File \u001B[1;32mH:\\Software\\Anaconda3\\envs\\python-learn\\lib\\site-packages\\seaborn\\_base.py:679\u001B[0m, in \u001B[0;36mVectorPlotter.assign_variables\u001B[1;34m(self, data, variables)\u001B[0m\n\u001B[0;32m    674\u001B[0m \u001B[38;5;28;01melse\u001B[39;00m:\n\u001B[0;32m    675\u001B[0m     \u001B[38;5;66;03m# When dealing with long-form input, use the newer PlotData\u001B[39;00m\n\u001B[0;32m    676\u001B[0m     \u001B[38;5;66;03m# object (internal but introduced for the objects interface)\u001B[39;00m\n\u001B[0;32m    677\u001B[0m     \u001B[38;5;66;03m# to centralize / standardize data consumption logic.\u001B[39;00m\n\u001B[0;32m    678\u001B[0m     \u001B[38;5;28mself\u001B[39m\u001B[38;5;241m.\u001B[39minput_format \u001B[38;5;241m=\u001B[39m \u001B[38;5;124m\"\u001B[39m\u001B[38;5;124mlong\u001B[39m\u001B[38;5;124m\"\u001B[39m\n\u001B[1;32m--> 679\u001B[0m     plot_data \u001B[38;5;241m=\u001B[39m \u001B[43mPlotData\u001B[49m\u001B[43m(\u001B[49m\u001B[43mdata\u001B[49m\u001B[43m,\u001B[49m\u001B[43m \u001B[49m\u001B[43mvariables\u001B[49m\u001B[43m)\u001B[49m\n\u001B[0;32m    680\u001B[0m     frame \u001B[38;5;241m=\u001B[39m plot_data\u001B[38;5;241m.\u001B[39mframe\n\u001B[0;32m    681\u001B[0m     names \u001B[38;5;241m=\u001B[39m plot_data\u001B[38;5;241m.\u001B[39mnames\n",
      "File \u001B[1;32mH:\\Software\\Anaconda3\\envs\\python-learn\\lib\\site-packages\\seaborn\\_core\\data.py:58\u001B[0m, in \u001B[0;36mPlotData.__init__\u001B[1;34m(self, data, variables)\u001B[0m\n\u001B[0;32m     51\u001B[0m \u001B[38;5;28;01mdef\u001B[39;00m \u001B[38;5;21m__init__\u001B[39m(\n\u001B[0;32m     52\u001B[0m     \u001B[38;5;28mself\u001B[39m,\n\u001B[0;32m     53\u001B[0m     data: DataSource,\n\u001B[0;32m     54\u001B[0m     variables: \u001B[38;5;28mdict\u001B[39m[\u001B[38;5;28mstr\u001B[39m, VariableSpec],\n\u001B[0;32m     55\u001B[0m ):\n\u001B[0;32m     57\u001B[0m     data \u001B[38;5;241m=\u001B[39m handle_data_source(data)\n\u001B[1;32m---> 58\u001B[0m     frame, names, ids \u001B[38;5;241m=\u001B[39m \u001B[38;5;28;43mself\u001B[39;49m\u001B[38;5;241;43m.\u001B[39;49m\u001B[43m_assign_variables\u001B[49m\u001B[43m(\u001B[49m\u001B[43mdata\u001B[49m\u001B[43m,\u001B[49m\u001B[43m \u001B[49m\u001B[43mvariables\u001B[49m\u001B[43m)\u001B[49m\n\u001B[0;32m     60\u001B[0m     \u001B[38;5;28mself\u001B[39m\u001B[38;5;241m.\u001B[39mframe \u001B[38;5;241m=\u001B[39m frame\n\u001B[0;32m     61\u001B[0m     \u001B[38;5;28mself\u001B[39m\u001B[38;5;241m.\u001B[39mnames \u001B[38;5;241m=\u001B[39m names\n",
      "File \u001B[1;32mH:\\Software\\Anaconda3\\envs\\python-learn\\lib\\site-packages\\seaborn\\_core\\data.py:232\u001B[0m, in \u001B[0;36mPlotData._assign_variables\u001B[1;34m(self, data, variables)\u001B[0m\n\u001B[0;32m    230\u001B[0m     \u001B[38;5;28;01melse\u001B[39;00m:\n\u001B[0;32m    231\u001B[0m         err \u001B[38;5;241m+\u001B[39m\u001B[38;5;241m=\u001B[39m \u001B[38;5;124m\"\u001B[39m\u001B[38;5;124mAn entry with this name does not appear in `data`.\u001B[39m\u001B[38;5;124m\"\u001B[39m\n\u001B[1;32m--> 232\u001B[0m     \u001B[38;5;28;01mraise\u001B[39;00m \u001B[38;5;167;01mValueError\u001B[39;00m(err)\n\u001B[0;32m    234\u001B[0m \u001B[38;5;28;01melse\u001B[39;00m:\n\u001B[0;32m    235\u001B[0m \n\u001B[0;32m    236\u001B[0m     \u001B[38;5;66;03m# Otherwise, assume the value somehow represents data\u001B[39;00m\n\u001B[0;32m    237\u001B[0m \n\u001B[0;32m    238\u001B[0m     \u001B[38;5;66;03m# Ignore empty data structures\u001B[39;00m\n\u001B[0;32m    239\u001B[0m     \u001B[38;5;28;01mif\u001B[39;00m \u001B[38;5;28misinstance\u001B[39m(val, Sized) \u001B[38;5;129;01mand\u001B[39;00m \u001B[38;5;28mlen\u001B[39m(val) \u001B[38;5;241m==\u001B[39m \u001B[38;5;241m0\u001B[39m:\n",
      "\u001B[1;31mValueError\u001B[0m: Could not interpret value `creditLimit` for `y`. An entry with this name does not appear in `data`."
     ]
    }
   ],
   "execution_count": 245
  },
  {
   "metadata": {
    "ExecuteTime": {
     "end_time": "2024-08-04T10:55:26.127760Z",
     "start_time": "2024-08-04T10:55:19.519748Z"
    }
   },
   "cell_type": "code",
   "source": [
    "# Box plot of the log-transformed numerical features by the label column, change the y label to log(creditLimit), log(transactionAmount), and log(currentBalance)\n",
    "fig, ax = plt.subplots(1,3, figsize=(18,6))\n",
    "sns.violinplot(x='isFraud', y='bc_creditLimit', data=x_num_bc, ax=ax[0], hue='isFraud', palette='coolwarm', fill=False, inner='quart', legend=False, split=True, cut=0)\n",
    "sns.violinplot(x='isFraud', y='bc_transactionAmount', data=x_num_bc, ax=ax[1], hue='isFraud', palette='coolwarm', fill=False, inner='quart', legend=False, split=True, cut=0)\n",
    "sns.violinplot(x='isFraud', y='bc_currentBalance', data=x_num_bc, ax=ax[2], hue='isFraud', palette='coolwarm', fill=False, inner='quart', legend=False, split=True, cut=0)\n",
    "ax[0].set_ylabel('creditLimit')\n",
    "ax[1].set_ylabel('transactionAmount')\n",
    "ax[2].set_ylabel('currentBalance')\n",
    "# change the y axis to the Box-Cox transformed values with lambda=0.25\n",
    "ax[0].set_yticklabels(np.round(sp.special.inv_boxcox(ax[0].get_yticks(),0.25),2))\n",
    "ax[1].set_yticklabels(np.round(sp.special.inv_boxcox(ax[1].get_yticks(),0.25),2))\n",
    "ax[2].set_yticklabels(np.round(sp.special.inv_boxcox(ax[2].get_yticks(),0.25),2))\n",
    "plt.show()"
   ],
   "id": "21fb37a2cdb839ce",
   "outputs": [
    {
     "ename": "ValueError",
     "evalue": "Could not interpret value `bc_currentBalance` for `y`. An entry with this name does not appear in `data`.",
     "output_type": "error",
     "traceback": [
      "\u001B[1;31m---------------------------------------------------------------------------\u001B[0m",
      "\u001B[1;31mValueError\u001B[0m                                Traceback (most recent call last)",
      "Cell \u001B[1;32mIn[246], line 5\u001B[0m\n\u001B[0;32m      3\u001B[0m sns\u001B[38;5;241m.\u001B[39mviolinplot(x\u001B[38;5;241m=\u001B[39m\u001B[38;5;124m'\u001B[39m\u001B[38;5;124misFraud\u001B[39m\u001B[38;5;124m'\u001B[39m, y\u001B[38;5;241m=\u001B[39m\u001B[38;5;124m'\u001B[39m\u001B[38;5;124mbc_creditLimit\u001B[39m\u001B[38;5;124m'\u001B[39m, data\u001B[38;5;241m=\u001B[39mx_num_bc, ax\u001B[38;5;241m=\u001B[39max[\u001B[38;5;241m0\u001B[39m], hue\u001B[38;5;241m=\u001B[39m\u001B[38;5;124m'\u001B[39m\u001B[38;5;124misFraud\u001B[39m\u001B[38;5;124m'\u001B[39m, palette\u001B[38;5;241m=\u001B[39m\u001B[38;5;124m'\u001B[39m\u001B[38;5;124mcoolwarm\u001B[39m\u001B[38;5;124m'\u001B[39m, fill\u001B[38;5;241m=\u001B[39m\u001B[38;5;28;01mFalse\u001B[39;00m, inner\u001B[38;5;241m=\u001B[39m\u001B[38;5;124m'\u001B[39m\u001B[38;5;124mquart\u001B[39m\u001B[38;5;124m'\u001B[39m, legend\u001B[38;5;241m=\u001B[39m\u001B[38;5;28;01mFalse\u001B[39;00m, split\u001B[38;5;241m=\u001B[39m\u001B[38;5;28;01mTrue\u001B[39;00m, cut\u001B[38;5;241m=\u001B[39m\u001B[38;5;241m0\u001B[39m)\n\u001B[0;32m      4\u001B[0m sns\u001B[38;5;241m.\u001B[39mviolinplot(x\u001B[38;5;241m=\u001B[39m\u001B[38;5;124m'\u001B[39m\u001B[38;5;124misFraud\u001B[39m\u001B[38;5;124m'\u001B[39m, y\u001B[38;5;241m=\u001B[39m\u001B[38;5;124m'\u001B[39m\u001B[38;5;124mbc_transactionAmount\u001B[39m\u001B[38;5;124m'\u001B[39m, data\u001B[38;5;241m=\u001B[39mx_num_bc, ax\u001B[38;5;241m=\u001B[39max[\u001B[38;5;241m1\u001B[39m], hue\u001B[38;5;241m=\u001B[39m\u001B[38;5;124m'\u001B[39m\u001B[38;5;124misFraud\u001B[39m\u001B[38;5;124m'\u001B[39m, palette\u001B[38;5;241m=\u001B[39m\u001B[38;5;124m'\u001B[39m\u001B[38;5;124mcoolwarm\u001B[39m\u001B[38;5;124m'\u001B[39m, fill\u001B[38;5;241m=\u001B[39m\u001B[38;5;28;01mFalse\u001B[39;00m, inner\u001B[38;5;241m=\u001B[39m\u001B[38;5;124m'\u001B[39m\u001B[38;5;124mquart\u001B[39m\u001B[38;5;124m'\u001B[39m, legend\u001B[38;5;241m=\u001B[39m\u001B[38;5;28;01mFalse\u001B[39;00m, split\u001B[38;5;241m=\u001B[39m\u001B[38;5;28;01mTrue\u001B[39;00m, cut\u001B[38;5;241m=\u001B[39m\u001B[38;5;241m0\u001B[39m)\n\u001B[1;32m----> 5\u001B[0m \u001B[43msns\u001B[49m\u001B[38;5;241;43m.\u001B[39;49m\u001B[43mviolinplot\u001B[49m\u001B[43m(\u001B[49m\u001B[43mx\u001B[49m\u001B[38;5;241;43m=\u001B[39;49m\u001B[38;5;124;43m'\u001B[39;49m\u001B[38;5;124;43misFraud\u001B[39;49m\u001B[38;5;124;43m'\u001B[39;49m\u001B[43m,\u001B[49m\u001B[43m \u001B[49m\u001B[43my\u001B[49m\u001B[38;5;241;43m=\u001B[39;49m\u001B[38;5;124;43m'\u001B[39;49m\u001B[38;5;124;43mbc_currentBalance\u001B[39;49m\u001B[38;5;124;43m'\u001B[39;49m\u001B[43m,\u001B[49m\u001B[43m \u001B[49m\u001B[43mdata\u001B[49m\u001B[38;5;241;43m=\u001B[39;49m\u001B[43mx_num_bc\u001B[49m\u001B[43m,\u001B[49m\u001B[43m \u001B[49m\u001B[43max\u001B[49m\u001B[38;5;241;43m=\u001B[39;49m\u001B[43max\u001B[49m\u001B[43m[\u001B[49m\u001B[38;5;241;43m2\u001B[39;49m\u001B[43m]\u001B[49m\u001B[43m,\u001B[49m\u001B[43m \u001B[49m\u001B[43mhue\u001B[49m\u001B[38;5;241;43m=\u001B[39;49m\u001B[38;5;124;43m'\u001B[39;49m\u001B[38;5;124;43misFraud\u001B[39;49m\u001B[38;5;124;43m'\u001B[39;49m\u001B[43m,\u001B[49m\u001B[43m \u001B[49m\u001B[43mpalette\u001B[49m\u001B[38;5;241;43m=\u001B[39;49m\u001B[38;5;124;43m'\u001B[39;49m\u001B[38;5;124;43mcoolwarm\u001B[39;49m\u001B[38;5;124;43m'\u001B[39;49m\u001B[43m,\u001B[49m\u001B[43m \u001B[49m\u001B[43mfill\u001B[49m\u001B[38;5;241;43m=\u001B[39;49m\u001B[38;5;28;43;01mFalse\u001B[39;49;00m\u001B[43m,\u001B[49m\u001B[43m \u001B[49m\u001B[43minner\u001B[49m\u001B[38;5;241;43m=\u001B[39;49m\u001B[38;5;124;43m'\u001B[39;49m\u001B[38;5;124;43mquart\u001B[39;49m\u001B[38;5;124;43m'\u001B[39;49m\u001B[43m,\u001B[49m\u001B[43m \u001B[49m\u001B[43mlegend\u001B[49m\u001B[38;5;241;43m=\u001B[39;49m\u001B[38;5;28;43;01mFalse\u001B[39;49;00m\u001B[43m,\u001B[49m\u001B[43m \u001B[49m\u001B[43msplit\u001B[49m\u001B[38;5;241;43m=\u001B[39;49m\u001B[38;5;28;43;01mTrue\u001B[39;49;00m\u001B[43m,\u001B[49m\u001B[43m \u001B[49m\u001B[43mcut\u001B[49m\u001B[38;5;241;43m=\u001B[39;49m\u001B[38;5;241;43m0\u001B[39;49m\u001B[43m)\u001B[49m\n\u001B[0;32m      6\u001B[0m ax[\u001B[38;5;241m0\u001B[39m]\u001B[38;5;241m.\u001B[39mset_ylabel(\u001B[38;5;124m'\u001B[39m\u001B[38;5;124mcreditLimit\u001B[39m\u001B[38;5;124m'\u001B[39m)\n\u001B[0;32m      7\u001B[0m ax[\u001B[38;5;241m1\u001B[39m]\u001B[38;5;241m.\u001B[39mset_ylabel(\u001B[38;5;124m'\u001B[39m\u001B[38;5;124mtransactionAmount\u001B[39m\u001B[38;5;124m'\u001B[39m)\n",
      "File \u001B[1;32mH:\\Software\\Anaconda3\\envs\\python-learn\\lib\\site-packages\\seaborn\\categorical.py:1725\u001B[0m, in \u001B[0;36mviolinplot\u001B[1;34m(data, x, y, hue, order, hue_order, orient, color, palette, saturation, fill, inner, split, width, dodge, gap, linewidth, linecolor, cut, gridsize, bw_method, bw_adjust, density_norm, common_norm, hue_norm, formatter, log_scale, native_scale, legend, scale, scale_hue, bw, inner_kws, ax, **kwargs)\u001B[0m\n\u001B[0;32m   1714\u001B[0m \u001B[38;5;28;01mdef\u001B[39;00m \u001B[38;5;21mviolinplot\u001B[39m(\n\u001B[0;32m   1715\u001B[0m     data\u001B[38;5;241m=\u001B[39m\u001B[38;5;28;01mNone\u001B[39;00m, \u001B[38;5;241m*\u001B[39m, x\u001B[38;5;241m=\u001B[39m\u001B[38;5;28;01mNone\u001B[39;00m, y\u001B[38;5;241m=\u001B[39m\u001B[38;5;28;01mNone\u001B[39;00m, hue\u001B[38;5;241m=\u001B[39m\u001B[38;5;28;01mNone\u001B[39;00m, order\u001B[38;5;241m=\u001B[39m\u001B[38;5;28;01mNone\u001B[39;00m, hue_order\u001B[38;5;241m=\u001B[39m\u001B[38;5;28;01mNone\u001B[39;00m,\n\u001B[0;32m   1716\u001B[0m     orient\u001B[38;5;241m=\u001B[39m\u001B[38;5;28;01mNone\u001B[39;00m, color\u001B[38;5;241m=\u001B[39m\u001B[38;5;28;01mNone\u001B[39;00m, palette\u001B[38;5;241m=\u001B[39m\u001B[38;5;28;01mNone\u001B[39;00m, saturation\u001B[38;5;241m=\u001B[39m\u001B[38;5;241m.75\u001B[39m, fill\u001B[38;5;241m=\u001B[39m\u001B[38;5;28;01mTrue\u001B[39;00m,\n\u001B[1;32m   (...)\u001B[0m\n\u001B[0;32m   1722\u001B[0m     inner_kws\u001B[38;5;241m=\u001B[39m\u001B[38;5;28;01mNone\u001B[39;00m, ax\u001B[38;5;241m=\u001B[39m\u001B[38;5;28;01mNone\u001B[39;00m, \u001B[38;5;241m*\u001B[39m\u001B[38;5;241m*\u001B[39mkwargs,\n\u001B[0;32m   1723\u001B[0m ):\n\u001B[1;32m-> 1725\u001B[0m     p \u001B[38;5;241m=\u001B[39m \u001B[43m_CategoricalPlotter\u001B[49m\u001B[43m(\u001B[49m\n\u001B[0;32m   1726\u001B[0m \u001B[43m        \u001B[49m\u001B[43mdata\u001B[49m\u001B[38;5;241;43m=\u001B[39;49m\u001B[43mdata\u001B[49m\u001B[43m,\u001B[49m\n\u001B[0;32m   1727\u001B[0m \u001B[43m        \u001B[49m\u001B[43mvariables\u001B[49m\u001B[38;5;241;43m=\u001B[39;49m\u001B[38;5;28;43mdict\u001B[39;49m\u001B[43m(\u001B[49m\u001B[43mx\u001B[49m\u001B[38;5;241;43m=\u001B[39;49m\u001B[43mx\u001B[49m\u001B[43m,\u001B[49m\u001B[43m \u001B[49m\u001B[43my\u001B[49m\u001B[38;5;241;43m=\u001B[39;49m\u001B[43my\u001B[49m\u001B[43m,\u001B[49m\u001B[43m \u001B[49m\u001B[43mhue\u001B[49m\u001B[38;5;241;43m=\u001B[39;49m\u001B[43mhue\u001B[49m\u001B[43m)\u001B[49m\u001B[43m,\u001B[49m\n\u001B[0;32m   1728\u001B[0m \u001B[43m        \u001B[49m\u001B[43morder\u001B[49m\u001B[38;5;241;43m=\u001B[39;49m\u001B[43morder\u001B[49m\u001B[43m,\u001B[49m\n\u001B[0;32m   1729\u001B[0m \u001B[43m        \u001B[49m\u001B[43morient\u001B[49m\u001B[38;5;241;43m=\u001B[39;49m\u001B[43morient\u001B[49m\u001B[43m,\u001B[49m\n\u001B[0;32m   1730\u001B[0m \u001B[43m        \u001B[49m\u001B[43mcolor\u001B[49m\u001B[38;5;241;43m=\u001B[39;49m\u001B[43mcolor\u001B[49m\u001B[43m,\u001B[49m\n\u001B[0;32m   1731\u001B[0m \u001B[43m        \u001B[49m\u001B[43mlegend\u001B[49m\u001B[38;5;241;43m=\u001B[39;49m\u001B[43mlegend\u001B[49m\u001B[43m,\u001B[49m\n\u001B[0;32m   1732\u001B[0m \u001B[43m    \u001B[49m\u001B[43m)\u001B[49m\n\u001B[0;32m   1734\u001B[0m     \u001B[38;5;28;01mif\u001B[39;00m ax \u001B[38;5;129;01mis\u001B[39;00m \u001B[38;5;28;01mNone\u001B[39;00m:\n\u001B[0;32m   1735\u001B[0m         ax \u001B[38;5;241m=\u001B[39m plt\u001B[38;5;241m.\u001B[39mgca()\n",
      "File \u001B[1;32mH:\\Software\\Anaconda3\\envs\\python-learn\\lib\\site-packages\\seaborn\\categorical.py:67\u001B[0m, in \u001B[0;36m_CategoricalPlotter.__init__\u001B[1;34m(self, data, variables, order, orient, require_numeric, color, legend)\u001B[0m\n\u001B[0;32m     56\u001B[0m \u001B[38;5;28;01mdef\u001B[39;00m \u001B[38;5;21m__init__\u001B[39m(\n\u001B[0;32m     57\u001B[0m     \u001B[38;5;28mself\u001B[39m,\n\u001B[0;32m     58\u001B[0m     data\u001B[38;5;241m=\u001B[39m\u001B[38;5;28;01mNone\u001B[39;00m,\n\u001B[1;32m   (...)\u001B[0m\n\u001B[0;32m     64\u001B[0m     legend\u001B[38;5;241m=\u001B[39m\u001B[38;5;124m\"\u001B[39m\u001B[38;5;124mauto\u001B[39m\u001B[38;5;124m\"\u001B[39m,\n\u001B[0;32m     65\u001B[0m ):\n\u001B[1;32m---> 67\u001B[0m     \u001B[38;5;28;43msuper\u001B[39;49m\u001B[43m(\u001B[49m\u001B[43m)\u001B[49m\u001B[38;5;241;43m.\u001B[39;49m\u001B[38;5;21;43m__init__\u001B[39;49m\u001B[43m(\u001B[49m\u001B[43mdata\u001B[49m\u001B[38;5;241;43m=\u001B[39;49m\u001B[43mdata\u001B[49m\u001B[43m,\u001B[49m\u001B[43m \u001B[49m\u001B[43mvariables\u001B[49m\u001B[38;5;241;43m=\u001B[39;49m\u001B[43mvariables\u001B[49m\u001B[43m)\u001B[49m\n\u001B[0;32m     69\u001B[0m     \u001B[38;5;66;03m# This method takes care of some bookkeeping that is necessary because the\u001B[39;00m\n\u001B[0;32m     70\u001B[0m     \u001B[38;5;66;03m# original categorical plots (prior to the 2021 refactor) had some rules that\u001B[39;00m\n\u001B[0;32m     71\u001B[0m     \u001B[38;5;66;03m# don't fit exactly into VectorPlotter logic. It may be wise to have a second\u001B[39;00m\n\u001B[1;32m   (...)\u001B[0m\n\u001B[0;32m     76\u001B[0m     \u001B[38;5;66;03m# default VectorPlotter rules. If we do decide to make orient part of the\u001B[39;00m\n\u001B[0;32m     77\u001B[0m     \u001B[38;5;66;03m# _base variable assignment, we'll want to figure out how to express that.\u001B[39;00m\n\u001B[0;32m     78\u001B[0m     \u001B[38;5;28;01mif\u001B[39;00m \u001B[38;5;28mself\u001B[39m\u001B[38;5;241m.\u001B[39minput_format \u001B[38;5;241m==\u001B[39m \u001B[38;5;124m\"\u001B[39m\u001B[38;5;124mwide\u001B[39m\u001B[38;5;124m\"\u001B[39m \u001B[38;5;129;01mand\u001B[39;00m orient \u001B[38;5;129;01min\u001B[39;00m [\u001B[38;5;124m\"\u001B[39m\u001B[38;5;124mh\u001B[39m\u001B[38;5;124m\"\u001B[39m, \u001B[38;5;124m\"\u001B[39m\u001B[38;5;124my\u001B[39m\u001B[38;5;124m\"\u001B[39m]:\n",
      "File \u001B[1;32mH:\\Software\\Anaconda3\\envs\\python-learn\\lib\\site-packages\\seaborn\\_base.py:634\u001B[0m, in \u001B[0;36mVectorPlotter.__init__\u001B[1;34m(self, data, variables)\u001B[0m\n\u001B[0;32m    629\u001B[0m \u001B[38;5;66;03m# var_ordered is relevant only for categorical axis variables, and may\u001B[39;00m\n\u001B[0;32m    630\u001B[0m \u001B[38;5;66;03m# be better handled by an internal axis information object that tracks\u001B[39;00m\n\u001B[0;32m    631\u001B[0m \u001B[38;5;66;03m# such information and is set up by the scale_* methods. The analogous\u001B[39;00m\n\u001B[0;32m    632\u001B[0m \u001B[38;5;66;03m# information for numeric axes would be information about log scales.\u001B[39;00m\n\u001B[0;32m    633\u001B[0m \u001B[38;5;28mself\u001B[39m\u001B[38;5;241m.\u001B[39m_var_ordered \u001B[38;5;241m=\u001B[39m {\u001B[38;5;124m\"\u001B[39m\u001B[38;5;124mx\u001B[39m\u001B[38;5;124m\"\u001B[39m: \u001B[38;5;28;01mFalse\u001B[39;00m, \u001B[38;5;124m\"\u001B[39m\u001B[38;5;124my\u001B[39m\u001B[38;5;124m\"\u001B[39m: \u001B[38;5;28;01mFalse\u001B[39;00m}  \u001B[38;5;66;03m# alt., used DefaultDict\u001B[39;00m\n\u001B[1;32m--> 634\u001B[0m \u001B[38;5;28;43mself\u001B[39;49m\u001B[38;5;241;43m.\u001B[39;49m\u001B[43massign_variables\u001B[49m\u001B[43m(\u001B[49m\u001B[43mdata\u001B[49m\u001B[43m,\u001B[49m\u001B[43m \u001B[49m\u001B[43mvariables\u001B[49m\u001B[43m)\u001B[49m\n\u001B[0;32m    636\u001B[0m \u001B[38;5;66;03m# TODO Lots of tests assume that these are called to initialize the\u001B[39;00m\n\u001B[0;32m    637\u001B[0m \u001B[38;5;66;03m# mappings to default values on class initialization. I'd prefer to\u001B[39;00m\n\u001B[0;32m    638\u001B[0m \u001B[38;5;66;03m# move away from that and only have a mapping when explicitly called.\u001B[39;00m\n\u001B[0;32m    639\u001B[0m \u001B[38;5;28;01mfor\u001B[39;00m var \u001B[38;5;129;01min\u001B[39;00m [\u001B[38;5;124m\"\u001B[39m\u001B[38;5;124mhue\u001B[39m\u001B[38;5;124m\"\u001B[39m, \u001B[38;5;124m\"\u001B[39m\u001B[38;5;124msize\u001B[39m\u001B[38;5;124m\"\u001B[39m, \u001B[38;5;124m\"\u001B[39m\u001B[38;5;124mstyle\u001B[39m\u001B[38;5;124m\"\u001B[39m]:\n",
      "File \u001B[1;32mH:\\Software\\Anaconda3\\envs\\python-learn\\lib\\site-packages\\seaborn\\_base.py:679\u001B[0m, in \u001B[0;36mVectorPlotter.assign_variables\u001B[1;34m(self, data, variables)\u001B[0m\n\u001B[0;32m    674\u001B[0m \u001B[38;5;28;01melse\u001B[39;00m:\n\u001B[0;32m    675\u001B[0m     \u001B[38;5;66;03m# When dealing with long-form input, use the newer PlotData\u001B[39;00m\n\u001B[0;32m    676\u001B[0m     \u001B[38;5;66;03m# object (internal but introduced for the objects interface)\u001B[39;00m\n\u001B[0;32m    677\u001B[0m     \u001B[38;5;66;03m# to centralize / standardize data consumption logic.\u001B[39;00m\n\u001B[0;32m    678\u001B[0m     \u001B[38;5;28mself\u001B[39m\u001B[38;5;241m.\u001B[39minput_format \u001B[38;5;241m=\u001B[39m \u001B[38;5;124m\"\u001B[39m\u001B[38;5;124mlong\u001B[39m\u001B[38;5;124m\"\u001B[39m\n\u001B[1;32m--> 679\u001B[0m     plot_data \u001B[38;5;241m=\u001B[39m \u001B[43mPlotData\u001B[49m\u001B[43m(\u001B[49m\u001B[43mdata\u001B[49m\u001B[43m,\u001B[49m\u001B[43m \u001B[49m\u001B[43mvariables\u001B[49m\u001B[43m)\u001B[49m\n\u001B[0;32m    680\u001B[0m     frame \u001B[38;5;241m=\u001B[39m plot_data\u001B[38;5;241m.\u001B[39mframe\n\u001B[0;32m    681\u001B[0m     names \u001B[38;5;241m=\u001B[39m plot_data\u001B[38;5;241m.\u001B[39mnames\n",
      "File \u001B[1;32mH:\\Software\\Anaconda3\\envs\\python-learn\\lib\\site-packages\\seaborn\\_core\\data.py:58\u001B[0m, in \u001B[0;36mPlotData.__init__\u001B[1;34m(self, data, variables)\u001B[0m\n\u001B[0;32m     51\u001B[0m \u001B[38;5;28;01mdef\u001B[39;00m \u001B[38;5;21m__init__\u001B[39m(\n\u001B[0;32m     52\u001B[0m     \u001B[38;5;28mself\u001B[39m,\n\u001B[0;32m     53\u001B[0m     data: DataSource,\n\u001B[0;32m     54\u001B[0m     variables: \u001B[38;5;28mdict\u001B[39m[\u001B[38;5;28mstr\u001B[39m, VariableSpec],\n\u001B[0;32m     55\u001B[0m ):\n\u001B[0;32m     57\u001B[0m     data \u001B[38;5;241m=\u001B[39m handle_data_source(data)\n\u001B[1;32m---> 58\u001B[0m     frame, names, ids \u001B[38;5;241m=\u001B[39m \u001B[38;5;28;43mself\u001B[39;49m\u001B[38;5;241;43m.\u001B[39;49m\u001B[43m_assign_variables\u001B[49m\u001B[43m(\u001B[49m\u001B[43mdata\u001B[49m\u001B[43m,\u001B[49m\u001B[43m \u001B[49m\u001B[43mvariables\u001B[49m\u001B[43m)\u001B[49m\n\u001B[0;32m     60\u001B[0m     \u001B[38;5;28mself\u001B[39m\u001B[38;5;241m.\u001B[39mframe \u001B[38;5;241m=\u001B[39m frame\n\u001B[0;32m     61\u001B[0m     \u001B[38;5;28mself\u001B[39m\u001B[38;5;241m.\u001B[39mnames \u001B[38;5;241m=\u001B[39m names\n",
      "File \u001B[1;32mH:\\Software\\Anaconda3\\envs\\python-learn\\lib\\site-packages\\seaborn\\_core\\data.py:232\u001B[0m, in \u001B[0;36mPlotData._assign_variables\u001B[1;34m(self, data, variables)\u001B[0m\n\u001B[0;32m    230\u001B[0m     \u001B[38;5;28;01melse\u001B[39;00m:\n\u001B[0;32m    231\u001B[0m         err \u001B[38;5;241m+\u001B[39m\u001B[38;5;241m=\u001B[39m \u001B[38;5;124m\"\u001B[39m\u001B[38;5;124mAn entry with this name does not appear in `data`.\u001B[39m\u001B[38;5;124m\"\u001B[39m\n\u001B[1;32m--> 232\u001B[0m     \u001B[38;5;28;01mraise\u001B[39;00m \u001B[38;5;167;01mValueError\u001B[39;00m(err)\n\u001B[0;32m    234\u001B[0m \u001B[38;5;28;01melse\u001B[39;00m:\n\u001B[0;32m    235\u001B[0m \n\u001B[0;32m    236\u001B[0m     \u001B[38;5;66;03m# Otherwise, assume the value somehow represents data\u001B[39;00m\n\u001B[0;32m    237\u001B[0m \n\u001B[0;32m    238\u001B[0m     \u001B[38;5;66;03m# Ignore empty data structures\u001B[39;00m\n\u001B[0;32m    239\u001B[0m     \u001B[38;5;28;01mif\u001B[39;00m \u001B[38;5;28misinstance\u001B[39m(val, Sized) \u001B[38;5;129;01mand\u001B[39;00m \u001B[38;5;28mlen\u001B[39m(val) \u001B[38;5;241m==\u001B[39m \u001B[38;5;241m0\u001B[39m:\n",
      "\u001B[1;31mValueError\u001B[0m: Could not interpret value `bc_currentBalance` for `y`. An entry with this name does not appear in `data`."
     ]
    },
    {
     "data": {
      "text/plain": [
       "<Figure size 1800x600 with 3 Axes>"
      ],
      "image/png": "[encoded data removed]"
     },
     "metadata": {},
     "output_type": "display_data"
    }
   ],
   "execution_count": 246
  },
  {
   "metadata": {},
   "cell_type": "code",
   "outputs": [],
   "execution_count": null,
   "source": "",
   "id": "2f34d6b283486c22"
  },
  {
   "metadata": {},
   "cell_type": "code",
   "outputs": [],
   "execution_count": null,
   "source": "",
   "id": "f840b7b20d3eae66"
  },
  {
   "metadata": {},
   "cell_type": "code",
   "outputs": [],
   "execution_count": null,
   "source": "",
   "id": "9a3df2300553b98"
  },
  {
   "metadata": {},
   "cell_type": "code",
   "outputs": [],
   "execution_count": null,
   "source": "last 4 digits with only 3 numbers. Capital One does not issue credit cards in the American Express (Amex) network.",
   "id": "27c8074eef25e4cb"
  },
  {
   "metadata": {},
   "cell_type": "code",
   "outputs": [],
   "execution_count": null,
   "source": "no idea what echoBuffer is",
   "id": "22fcf36d63c3eff6"
  },
  {
   "metadata": {},
   "cell_type": "code",
   "outputs": [],
   "execution_count": null,
   "source": "posonpremises is legacy pos with physical infrastructure, right?",
   "id": "64394613642b9687"
  },
  {
   "cell_type": "code",
   "execution_count": null,
   "id": "initial_id",
   "metadata": {
    "collapsed": true
   },
   "outputs": [],
   "source": "The term \"expirationdatekeyinmatch\" typically refers to a situation where a system or software prompts a user to input or match an expiration date for verification or authentication purposes. It could be part of a security protocol where a user is required to enter a specific expiration date associated with a card, document, or other credential to confirm its validity or access rights. This term is commonly used in contexts such as payment processing, access control systems, or any situation where validating the expiration of a document or credential is necessary."
  },
  {
   "metadata": {},
   "cell_type": "markdown",
   "source": [
    "posConditionCode: It is a code identifying transaction conditions at the point-of-sale. https://www.mreports.com/documentation/ac/nonmerchant/80449.htm\n",
    "posEntryMode: It identifies the actual method used to enter the cardholder account number and card expiration date. This code specifies whether the entire magnetic stripe is included in an authorization\n",
    "if request. https://www.mreports.com/documentation/ac/nonmerchant/80451.htm\n",
    "       "
   ],
   "id": "fdee9178494ad437"
  }
 ],
 "metadata": {
  "kernelspec": {
   "display_name": "Python 3",
   "language": "python",
   "name": "python3"
  },
  "language_info": {
   "codemirror_mode": {
    "name": "ipython",
    "version": 2
   },
   "file_extension": ".py",
   "mimetype": "text/x-python",
   "name": "python",
   "nbconvert_exporter": "python",
   "pygments_lexer": "ipython2",
   "version": "2.7.6"
  }
 },
 "nbformat": 4,
 "nbformat_minor": 5
}
